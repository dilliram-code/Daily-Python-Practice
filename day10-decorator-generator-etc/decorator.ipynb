{
 "cells": [
  {
   "cell_type": "markdown",
   "id": "a95b844e",
   "metadata": {},
   "source": [
    "***Decorator function***\n",
    "\n",
    "`A decorator is a function that takes another function as input and extends or modifies its behavior without changing the original function's code.`"
   ]
  },
  {
   "cell_type": "code",
   "execution_count": 2,
   "id": "293d9754",
   "metadata": {},
   "outputs": [
    {
     "name": "stdout",
     "output_type": "stream",
     "text": [
      "Before the input function!\n",
      "Hello, I am input function!\n",
      "After input function!\n"
     ]
    }
   ],
   "source": [
    "def outer_function(func):\n",
    "  def inner_function():\n",
    "    print(\"Before the input function!\")\n",
    "    func()\n",
    "    print(\"After input function!\")\n",
    "  return inner_function\n",
    "\n",
    "def input_function():\n",
    "  print(\"Hello, I am input function!\")\n",
    "  \n",
    "store_outer_function = outer_function(input_function)\n",
    "store_outer_function()\n"
   ]
  },
  {
   "cell_type": "code",
   "execution_count": 3,
   "id": "3a9c2e26",
   "metadata": {},
   "outputs": [
    {
     "name": "stdout",
     "output_type": "stream",
     "text": [
      "I am before the function!\n",
      "Hi!\n",
      "I am after the function!\n"
     ]
    }
   ],
   "source": [
    "# Using @ syntax (syntactic sugar)\n",
    "def my_decorator(func):\n",
    "  def decorated_function():\n",
    "    print(\"I am before the function!\")\n",
    "    func()\n",
    "    print(\"I am after the function!\")\n",
    "  return decorated_function\n",
    "\n",
    "@my_decorator\n",
    "def say_hi():\n",
    "  print(\"Hi!\")\n",
    "\n",
    "say_hi()"
   ]
  },
  {
   "cell_type": "code",
   "execution_count": null,
   "id": "936385e9",
   "metadata": {},
   "outputs": [],
   "source": []
  }
 ],
 "metadata": {
  "kernelspec": {
   "display_name": "base",
   "language": "python",
   "name": "python3"
  },
  "language_info": {
   "codemirror_mode": {
    "name": "ipython",
    "version": 3
   },
   "file_extension": ".py",
   "mimetype": "text/x-python",
   "name": "python",
   "nbconvert_exporter": "python",
   "pygments_lexer": "ipython3",
   "version": "3.10.14"
  }
 },
 "nbformat": 4,
 "nbformat_minor": 5
}
