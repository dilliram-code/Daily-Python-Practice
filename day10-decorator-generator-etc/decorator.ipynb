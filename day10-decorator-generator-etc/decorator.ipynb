{
 "cells": [
  {
   "cell_type": "markdown",
   "id": "a95b844e",
   "metadata": {},
   "source": [
    "***Decorator function***\n",
    "\n",
    "`A decorator is a function that takes another function as input and extends or modifies its behavior without changing the original function's code.`"
   ]
  },
  {
   "cell_type": "code",
   "execution_count": 2,
   "id": "293d9754",
   "metadata": {},
   "outputs": [
    {
     "name": "stdout",
     "output_type": "stream",
     "text": [
      "Before the input function!\n",
      "Hello, I am input function!\n",
      "After input function!\n"
     ]
    }
   ],
   "source": [
    "def outer_function(func):\n",
    "  def inner_function():\n",
    "    print(\"Before the input function!\")\n",
    "    func()\n",
    "    print(\"After input function!\")\n",
    "  return inner_function\n",
    "\n",
    "def input_function():\n",
    "  print(\"Hello, I am input function!\")\n",
    "  \n",
    "store_outer_function = outer_function(input_function)\n",
    "store_outer_function()\n"
   ]
  },
  {
   "cell_type": "code",
   "execution_count": 3,
   "id": "3a9c2e26",
   "metadata": {},
   "outputs": [
    {
     "name": "stdout",
     "output_type": "stream",
     "text": [
      "I am before the function!\n",
      "Hi!\n",
      "I am after the function!\n"
     ]
    }
   ],
   "source": [
    "# Using @ syntax (syntactic sugar)\n",
    "def my_decorator(func):\n",
    "  def decorated_function():\n",
    "    print(\"I am before the function!\")\n",
    "    func()\n",
    "    print(\"I am after the function!\")\n",
    "  return decorated_function\n",
    "\n",
    "@my_decorator\n",
    "def say_hi():\n",
    "  print(\"Hi!\")\n",
    "\n",
    "say_hi()"
   ]
  },
  {
   "cell_type": "code",
   "execution_count": 1,
   "id": "936385e9",
   "metadata": {},
   "outputs": [],
   "source": [
    "# Decorator with argument\n"
   ]
  },
  {
   "cell_type": "markdown",
   "id": "f73ea627",
   "metadata": {},
   "source": [
    "***What is a generator?***\n",
    "\n",
    "`A generator is a lazy iterator that produces items on demand using yield. It avoids storing all values in memory.`"
   ]
  },
  {
   "cell_type": "code",
   "execution_count": 3,
   "id": "3f3c9f0b",
   "metadata": {},
   "outputs": [
    {
     "name": "stdout",
     "output_type": "stream",
     "text": [
      "1\n"
     ]
    }
   ],
   "source": [
    "def generate_numbers():\n",
    "  yield 1\n",
    "  yield 2\n",
    "  yield 3\n",
    "gen = generate_numbers()\n",
    "print(next(gen))"
   ]
  },
  {
   "cell_type": "code",
   "execution_count": 4,
   "id": "507cba72",
   "metadata": {},
   "outputs": [
    {
     "name": "stdout",
     "output_type": "stream",
     "text": [
      "2\n"
     ]
    }
   ],
   "source": [
    "print(next(gen))"
   ]
  },
  {
   "cell_type": "code",
   "execution_count": 5,
   "id": "bfc9afbc",
   "metadata": {},
   "outputs": [
    {
     "name": "stdout",
     "output_type": "stream",
     "text": [
      "3\n"
     ]
    }
   ],
   "source": [
    "print(next(gen))"
   ]
  },
  {
   "cell_type": "code",
   "execution_count": null,
   "id": "4fd2961c",
   "metadata": {},
   "outputs": [
    {
     "ename": "StopIteration",
     "evalue": "",
     "output_type": "error",
     "traceback": [
      "\u001b[1;31m---------------------------------------------------------------------------\u001b[0m",
      "\u001b[1;31mStopIteration\u001b[0m                             Traceback (most recent call last)",
      "Cell \u001b[1;32mIn[6], line 1\u001b[0m\n\u001b[1;32m----> 1\u001b[0m \u001b[38;5;28mprint\u001b[39m(\u001b[38;5;28;43mnext\u001b[39;49m\u001b[43m(\u001b[49m\u001b[43mgen\u001b[49m\u001b[43m)\u001b[49m)\n",
      "\u001b[1;31mStopIteration\u001b[0m: "
     ]
    }
   ],
   "source": [
    "print(next(gen))  # next item doesn't exist."
   ]
  },
  {
   "cell_type": "code",
   "execution_count": 8,
   "id": "aabae8ed",
   "metadata": {},
   "outputs": [
    {
     "name": "stdout",
     "output_type": "stream",
     "text": [
      "0 1 1 2 3 5 8 13 21 34 "
     ]
    }
   ],
   "source": [
    "# Generator for sequence\n",
    "def fibonacci_series(n):\n",
    "  a = 0\n",
    "  b = 1\n",
    "  for _ in range(n):\n",
    "    yield a\n",
    "    a, b = b, a+b\n",
    "\n",
    "for num in fibonacci_series(10):\n",
    "  print(num, end=\" \")\n"
   ]
  },
  {
   "cell_type": "markdown",
   "id": "e07e5530",
   "metadata": {},
   "source": [
    "**Iterators & iter(), next()**\n",
    "***Iterator***\n",
    "\n",
    "`An iterator is an object that implements __iter__() and __next__() methods.`"
   ]
  },
  {
   "cell_type": "code",
   "execution_count": 9,
   "id": "0f116d1d",
   "metadata": {},
   "outputs": [
    {
     "name": "stdout",
     "output_type": "stream",
     "text": [
      "2\n"
     ]
    }
   ],
   "source": [
    "even_numbers = [2,4,6,8,10]\n",
    "my_iter = iter(even_numbers) # convert list into an iterator\n",
    "\n",
    "print(next(my_iter))"
   ]
  },
  {
   "cell_type": "code",
   "execution_count": 10,
   "id": "243a9f79",
   "metadata": {},
   "outputs": [
    {
     "name": "stdout",
     "output_type": "stream",
     "text": [
      "4\n"
     ]
    }
   ],
   "source": [
    "print(next(my_iter))"
   ]
  },
  {
   "cell_type": "code",
   "execution_count": 11,
   "id": "8f368174",
   "metadata": {},
   "outputs": [
    {
     "name": "stdout",
     "output_type": "stream",
     "text": [
      "6\n"
     ]
    }
   ],
   "source": [
    "print(next(my_iter))"
   ]
  },
  {
   "cell_type": "code",
   "execution_count": 12,
   "id": "b33415f2",
   "metadata": {},
   "outputs": [
    {
     "name": "stdout",
     "output_type": "stream",
     "text": [
      "8\n"
     ]
    }
   ],
   "source": [
    "print(next(my_iter))"
   ]
  },
  {
   "cell_type": "markdown",
   "id": "de5b16b5",
   "metadata": {},
   "source": []
  },
  {
   "cell_type": "code",
   "execution_count": 13,
   "id": "7cac601d",
   "metadata": {},
   "outputs": [
    {
     "name": "stdout",
     "output_type": "stream",
     "text": [
      "10\n"
     ]
    }
   ],
   "source": [
    "print(next(my_iter))"
   ]
  },
  {
   "cell_type": "code",
   "execution_count": null,
   "id": "351d0127",
   "metadata": {},
   "outputs": [],
   "source": [
    "# print(next(my_iter))   --> # StopIteration"
   ]
  }
 ],
 "metadata": {
  "kernelspec": {
   "display_name": "base",
   "language": "python",
   "name": "python3"
  },
  "language_info": {
   "codemirror_mode": {
    "name": "ipython",
    "version": 3
   },
   "file_extension": ".py",
   "mimetype": "text/x-python",
   "name": "python",
   "nbconvert_exporter": "python",
   "pygments_lexer": "ipython3",
   "version": "3.10.14"
  }
 },
 "nbformat": 4,
 "nbformat_minor": 5
}
