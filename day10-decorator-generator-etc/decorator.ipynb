{
 "cells": [
  {
   "cell_type": "markdown",
   "id": "a95b844e",
   "metadata": {},
   "source": [
    "***Decorator function***\n",
    "\n",
    "`A decorator is a function that takes another function as input and extends or modifies its behavior without changing the original function's code.`"
   ]
  },
  {
   "cell_type": "code",
   "execution_count": 2,
   "id": "293d9754",
   "metadata": {},
   "outputs": [
    {
     "name": "stdout",
     "output_type": "stream",
     "text": [
      "Before the input function!\n",
      "Hello, I am input function!\n",
      "After input function!\n"
     ]
    }
   ],
   "source": [
    "def outer_function(func):\n",
    "  def inner_function():\n",
    "    print(\"Before the input function!\")\n",
    "    func()\n",
    "    print(\"After input function!\")\n",
    "  return inner_function\n",
    "\n",
    "def input_function():\n",
    "  print(\"Hello, I am input function!\")\n",
    "  \n",
    "store_outer_function = outer_function(input_function)\n",
    "store_outer_function()\n"
   ]
  },
  {
   "cell_type": "code",
   "execution_count": null,
   "id": "3a9c2e26",
   "metadata": {},
   "outputs": [],
   "source": []
  }
 ],
 "metadata": {
  "kernelspec": {
   "display_name": "base",
   "language": "python",
   "name": "python3"
  },
  "language_info": {
   "codemirror_mode": {
    "name": "ipython",
    "version": 3
   },
   "file_extension": ".py",
   "mimetype": "text/x-python",
   "name": "python",
   "nbconvert_exporter": "python",
   "pygments_lexer": "ipython3",
   "version": "3.10.14"
  }
 },
 "nbformat": 4,
 "nbformat_minor": 5
}
