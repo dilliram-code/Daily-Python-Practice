{
 "cells": [
  {
   "cell_type": "code",
   "execution_count": 1,
   "id": "add816d2",
   "metadata": {},
   "outputs": [],
   "source": [
    "from abc import ABC, abstractmethod\n",
    "\n",
    "class BankApp(ABC):\n",
    "  def database(self):\n",
    "    print('connected to database.')\n",
    "  \n",
    "  @abstractmethod\n",
    "  def security(self):\n",
    "    pass"
   ]
  },
  {
   "cell_type": "code",
   "execution_count": 2,
   "id": "2b70ed26",
   "metadata": {},
   "outputs": [],
   "source": [
    "class MobileApp(BankApp):\n",
    "  \n",
    "  def mobile_login(self):\n",
    "    print('login into mobile.')\n",
    "    \n",
    "  def security(self):\t\n",
    "    print('mobile security.')"
   ]
  },
  {
   "cell_type": "code",
   "execution_count": 3,
   "id": "6bf259b3",
   "metadata": {},
   "outputs": [],
   "source": [
    "mobile = MobileApp()"
   ]
  },
  {
   "cell_type": "code",
   "execution_count": 4,
   "id": "afb8d299",
   "metadata": {},
   "outputs": [
    {
     "name": "stdout",
     "output_type": "stream",
     "text": [
      "mobile security.\n"
     ]
    }
   ],
   "source": [
    "mobile.security()"
   ]
  },
  {
   "cell_type": "code",
   "execution_count": 5,
   "id": "2db1e40b",
   "metadata": {},
   "outputs": [
    {
     "name": "stdout",
     "output_type": "stream",
     "text": [
      "login into mobile.\n"
     ]
    }
   ],
   "source": [
    "mobile.mobile_login()"
   ]
  },
  {
   "cell_type": "code",
   "execution_count": null,
   "id": "4298afc6",
   "metadata": {},
   "outputs": [],
   "source": []
  }
 ],
 "metadata": {
  "kernelspec": {
   "display_name": "base",
   "language": "python",
   "name": "python3"
  },
  "language_info": {
   "codemirror_mode": {
    "name": "ipython",
    "version": 3
   },
   "file_extension": ".py",
   "mimetype": "text/x-python",
   "name": "python",
   "nbconvert_exporter": "python",
   "pygments_lexer": "ipython3",
   "version": "3.10.14"
  }
 },
 "nbformat": 4,
 "nbformat_minor": 5
}
