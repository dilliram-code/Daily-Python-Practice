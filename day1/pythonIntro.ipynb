{
 "cells": [
  {
   "cell_type": "markdown",
   "id": "bcef81de",
   "metadata": {},
   "source": [
    "### 🐍 What is Python?\n",
    "\n",
    "Python is a `high-level`, `general-purpose`, `interpreted` programming language created by Guido van Rossum in 1991. It is known for its `simplicity`, `readability`, and `versatility`.\n",
    "\n",
    "#### 💡 Why Do We Need Python?\n",
    "\n",
    "We need Python because it:\n",
    "\n",
    "- `Saves development time` — You can write fewer lines of code compared to C, C++, or Java.\n",
    "\n",
    "- `Supports multiple programming paradigms` — such as Object-Oriented, Procedural, and Functional programming.\n",
    "\n",
    "- `Has huge community support` — millions of developers, open-source libraries, and frameworks.\n",
    "\n",
    "- `Is platform-independent` — it runs on Windows, macOS, Linux, and even on mobile and embedded systems.\n",
    "\n",
    "- `Integrates` easily with other languages like C, C++, Java, and databases.\n",
    "\n",
    "- `Is widely used across industries` — from web apps and automation to AI, machine learning, and data science."
   ]
  },
  {
   "cell_type": "code",
   "execution_count": null,
   "id": "09e95506",
   "metadata": {},
   "outputs": [],
   "source": []
  },
  {
   "cell_type": "code",
   "execution_count": null,
   "id": "660d53ac",
   "metadata": {},
   "outputs": [],
   "source": []
  }
 ],
 "metadata": {
  "kernelspec": {
   "display_name": "base",
   "language": "python",
   "name": "python3"
  },
  "language_info": {
   "name": "python",
   "version": "3.13.5"
  }
 },
 "nbformat": 4,
 "nbformat_minor": 5
}
