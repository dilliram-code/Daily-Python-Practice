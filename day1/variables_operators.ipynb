{
 "cells": [
  {
   "cell_type": "markdown",
   "id": "4a71b7f4",
   "metadata": {},
   "source": [
    "### 🔹 What is a Variable?\n",
    "\n",
    "A variable is a name that refers to a memory location holding data.\n",
    "In Python, variables are references (not actual containers like in C or Java).\n",
    "\n",
    "_📌 Think: “A variable in Python is just a label pointing to an object in memory.”_\n",
    "\n",
    "Example:\n",
    "```python\n",
    "  x = 10\n",
    "  y = x\n",
    "  x = 20\n",
    "  print(y)  # Output: 10\n",
    "```\n",
    "\n",
    "👉 Because `x` was re-bound to a new object (`20`), `y` still points to the old one (`10`).\n",
    "\n",
    "#### 🔹 Variable Declaration\n",
    "In Python, variables are created dynamically:\n",
    "```python\n",
    "  a = 5\n",
    "  b = \"Hello\"\n",
    "  c = [1, 2, 3]\n",
    "```\n",
    "No need to declare type — Python decides it at runtime (called dynamic typing).\n",
    "\n",
    "#### 🔹 Variable Naming Rules\n",
    "\n",
    "✅ Allowed:\n",
    "\n",
    "- Must start with a letter or underscore (_)\n",
    "\n",
    "- Can contain letters, digits, and underscores\n",
    "\n",
    "- Case-sensitive (Name ≠ name)\n",
    "\n",
    "❌ Not allowed:\n",
    "\n",
    "- Start with a number (`2name` ❌)\n",
    "\n",
    "- Contain spaces or special symbols (@, $, % ❌)\n",
    "\n",
    "- Use Python keywords (like class, for, def, etc.)\n",
    "\n",
    "Example of valid/invalid names:\n",
    "\n",
    "```python\n",
    "  _valid_name = 10\n",
    "  name2 = \"Dilli\"\n",
    "  Name = \"Ram\"\n",
    "  2name = \"Chaudhary\"  # ❌ invalid\n",
    "```\n",
    "\n",
    "#### 🔹 Hidden Details You Must Know\n",
    "\n",
    "`Everything in Python is an object`\n",
    "```python\n",
    "x = 5\n",
    "print(id(x))  # memory address (object reference)\n",
    "```\n",
    "\n",
    "`Variables are just references (not actual storage boxes)`\n",
    "Multiple names can point to the same object:\n",
    "```python\n",
    "a = b = [1, 2, 3]\n",
    "a.append(4)\n",
    "print(b)  # [1, 2, 3, 4] → both point to same list\n",
    "```\n",
    "\n",
    "`Mutable vs Immutable behavior`\n",
    "\n",
    "- Immutable: `int`, `float`, `str`, `tuple`\n",
    "\n",
    "- Mutable: `list`, `set`, `dict`\n",
    "\n",
    "```python\n",
    "a = 10\n",
    "b = a\n",
    "a = 11  # creates a new int object\n",
    "print(b)  # 10\n",
    "\n",
    "l1 = [1, 2]\n",
    "l2 = l1\n",
    "l1.append(3)\n",
    "print(l2)  # [1, 2, 3]\n",
    "```\n",
    "\n",
    "`Variable scope`\n",
    "\n",
    "- `Local`: inside functions\n",
    "\n",
    "- `Global`: defined outside functions\n",
    "\n",
    "- `Enclosing`: in nested functions\n",
    "\n",
    "- `Built-in`: predefined names like `len`, `sum`, etc.\n",
    "```python\n",
    "x = \"global\"\n",
    "def outer():\n",
    "    x = \"outer\"\n",
    "    def inner():\n",
    "        nonlocal x\n",
    "        x = \"inner\"\n",
    "    inner()\n",
    "    print(x)\n",
    "outer()  # inner\n",
    "```\n",
    "\n",
    "`Deleting a variable`\n",
    "```python\n",
    "x = 10\n",
    "del x\n",
    "# print(x) → NameError\n",
    "```"
   ]
  },
  {
   "cell_type": "markdown",
   "id": "82bda755",
   "metadata": {},
   "source": [
    "### Python Operators (Complete + Hidden Details)"
   ]
  },
  {
   "cell_type": "code",
   "execution_count": 1,
   "id": "d16bc4a8",
   "metadata": {},
   "outputs": [
    {
     "name": "stdout",
     "output_type": "stream",
     "text": [
      "13\n",
      "7\n",
      "30\n",
      "3.3333333333333335\n",
      "3\n",
      "1\n",
      "1000\n"
     ]
    }
   ],
   "source": [
    "# Arithmetic Operators\n",
    "\n",
    "a, b = 10, 3\n",
    "\n",
    "print(a + b)  # 13\n",
    "print(a - b)  # 7\n",
    "print(a * b)  # 30\n",
    "print(a / b)  # 3.333... (always float)\n",
    "print(a // b) # 3 (floor division)\n",
    "print(a % b)  # 1 (remainder)\n",
    "print(a ** b) # 1000 (power)"
   ]
  },
  {
   "cell_type": "code",
   "execution_count": 3,
   "id": "48abe4fd",
   "metadata": {},
   "outputs": [
    {
     "data": {
      "text/plain": [
       "-3"
      ]
     },
     "execution_count": 3,
     "metadata": {},
     "output_type": "execute_result"
    }
   ],
   "source": [
    "# // is floor division, not truncate:\n",
    "\n",
    "-5 // 2  # -3, not -2"
   ]
  },
  {
   "cell_type": "code",
   "execution_count": 4,
   "id": "94b20bca",
   "metadata": {},
   "outputs": [
    {
     "name": "stdout",
     "output_type": "stream",
     "text": [
      "False\n",
      "True\n",
      "False\n",
      "True\n",
      "False\n",
      "True\n"
     ]
    }
   ],
   "source": [
    "# Comparison Operators\n",
    "\n",
    "x, y = 10, 20\n",
    "\n",
    "print(x == y)  # False\n",
    "print(x != y)  # True\n",
    "print(x > y)   # False\n",
    "print(x < y)   # True\n",
    "print(x >= y)  # False\n",
    "print(x <= y)  # True"
   ]
  },
  {
   "cell_type": "code",
   "execution_count": null,
   "id": "5f1fd759",
   "metadata": {},
   "outputs": [],
   "source": []
  }
 ],
 "metadata": {
  "kernelspec": {
   "display_name": "base",
   "language": "python",
   "name": "python3"
  },
  "language_info": {
   "codemirror_mode": {
    "name": "ipython",
    "version": 3
   },
   "file_extension": ".py",
   "mimetype": "text/x-python",
   "name": "python",
   "nbconvert_exporter": "python",
   "pygments_lexer": "ipython3",
   "version": "3.13.5"
  }
 },
 "nbformat": 4,
 "nbformat_minor": 5
}
