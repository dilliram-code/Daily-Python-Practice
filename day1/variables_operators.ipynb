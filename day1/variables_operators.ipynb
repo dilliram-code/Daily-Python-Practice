{
 "cells": [
  {
   "cell_type": "markdown",
   "id": "4a71b7f4",
   "metadata": {},
   "source": [
    "### 🔹 What is a Variable?\n",
    "\n",
    "A variable is a name that refers to a memory location holding data.\n",
    "In Python, variables are references (not actual containers like in C or Java).\n",
    "\n",
    "_📌 Think: “A variable in Python is just a label pointing to an object in memory.”_\n",
    "\n",
    "Example:\n",
    "```python\n",
    "  x = 10\n",
    "  y = x\n",
    "  x = 20\n",
    "  print(y)  # Output: 10\n",
    "```\n",
    "\n",
    "👉 Because `x` was re-bound to a new object (`20`), `y` still points to the old one (`10`).\n",
    "\n",
    "#### 🔹 Variable Declaration\n",
    "In Python, variables are created dynamically:\n",
    "```python\n",
    "  a = 5\n",
    "  b = \"Hello\"\n",
    "  c = [1, 2, 3]\n",
    "```\n",
    "No need to declare type — Python decides it at runtime (called dynamic typing).\n",
    "\n",
    "#### 🔹 Variable Naming Rules\n",
    "\n",
    "✅ Allowed:\n",
    "\n",
    "- Must start with a letter or underscore (_)\n",
    "\n",
    "- Can contain letters, digits, and underscores\n",
    "\n",
    "- Case-sensitive (Name ≠ name)\n",
    "\n",
    "❌ Not allowed:\n",
    "\n",
    "- Start with a number (`2name` ❌)\n",
    "\n",
    "- Contain spaces or special symbols (@, $, % ❌)\n",
    "\n",
    "- Use Python keywords (like class, for, def, etc.)\n",
    "\n",
    "Example of valid/invalid names:\n",
    "\n",
    "```python\n",
    "  _valid_name = 10\n",
    "  name2 = \"Dilli\"\n",
    "  Name = \"Ram\"\n",
    "  2name = \"Chaudhary\"  # ❌ invalid\n",
    "```"
   ]
  },
  {
   "cell_type": "code",
   "execution_count": null,
   "id": "82bda755",
   "metadata": {},
   "outputs": [],
   "source": []
  },
  {
   "cell_type": "code",
   "execution_count": null,
   "id": "d16bc4a8",
   "metadata": {},
   "outputs": [],
   "source": []
  }
 ],
 "metadata": {
  "kernelspec": {
   "display_name": "base",
   "language": "python",
   "name": "python3"
  },
  "language_info": {
   "name": "python",
   "version": "3.13.5"
  }
 },
 "nbformat": 4,
 "nbformat_minor": 5
}
