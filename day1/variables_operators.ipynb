{
 "cells": [
  {
   "cell_type": "markdown",
   "id": "4a71b7f4",
   "metadata": {},
   "source": [
    "### 🔹 What is a Variable?\n",
    "\n",
    "A variable is a name that refers to a memory location holding data.\n",
    "In Python, variables are references (not actual containers like in C or Java).\n",
    "\n",
    "_📌 Think: “A variable in Python is just a label pointing to an object in memory.”_\n",
    "\n",
    "Example:\n",
    "```python\n",
    "  x = 10\n",
    "  y = x\n",
    "  x = 20\n",
    "  print(y)  # Output: 10\n",
    "```\n",
    "\n",
    "👉 Because `x` was re-bound to a new object (`20`), `y` still points to the old one (`10`)."
   ]
  },
  {
   "cell_type": "code",
   "execution_count": null,
   "id": "82bda755",
   "metadata": {},
   "outputs": [],
   "source": []
  },
  {
   "cell_type": "code",
   "execution_count": null,
   "id": "d16bc4a8",
   "metadata": {},
   "outputs": [],
   "source": []
  }
 ],
 "metadata": {
  "kernelspec": {
   "display_name": "base",
   "language": "python",
   "name": "python3"
  },
  "language_info": {
   "name": "python",
   "version": "3.13.5"
  }
 },
 "nbformat": 4,
 "nbformat_minor": 5
}
