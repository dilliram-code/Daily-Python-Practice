{
 "cells": [
  {
   "cell_type": "markdown",
   "id": "f43ecd78",
   "metadata": {},
   "source": [
    "`Inheritance lets a class (the child/subclass) reuse and extend behavior/data from another class (the parent/base/superclass).`"
   ]
  },
  {
   "cell_type": "code",
   "execution_count": 2,
   "id": "b881c39f",
   "metadata": {},
   "outputs": [
    {
     "name": "stdout",
     "output_type": "stream",
     "text": [
      "Woof!\n"
     ]
    }
   ],
   "source": [
    "class Animal:\n",
    "  def speak(self):\n",
    "    return \"....\"\n",
    "  \n",
    "\n",
    "class Dog:\t\t\t\t\t\t\t\t\t\t\t# Dog inherits from Animal\n",
    "  def speak(self):\t\t\t\t\t\t\t# override\n",
    "    return \"Woof!\"\n",
    "  \n",
    "dog = Dog()\n",
    "print(dog.speak())\t\t\t\t\t\t\t # Woof!"
   ]
  },
  {
   "cell_type": "markdown",
   "id": "d44208ee",
   "metadata": {},
   "source": [
    "`Attribute lookup order: Dog → Animal → object.`"
   ]
  },
  {
   "cell_type": "code",
   "execution_count": 6,
   "id": "9c030c11",
   "metadata": {},
   "outputs": [
    {
     "name": "stdout",
     "output_type": "stream",
     "text": [
      "1\n",
      "2 Aarav\n"
     ]
    }
   ],
   "source": [
    "# Calling Parent Logic: super()\n",
    "class School:\n",
    "  def __init__(self, name):\n",
    "    self.name = name\n",
    "    \n",
    "class Classroom(School):\n",
    "  def __init__(self, name, role):\n",
    "    super().__init__(name)\n",
    "    self.role = role\n",
    "    \n",
    "class1 = Classroom(\"Dilli\", 1)\n",
    "class2 = Classroom(\"Aarav\", 2)\n",
    "\n",
    "print(class1.role)\n",
    "print(class2.role, class2.name)\n",
    "      "
   ]
  },
  {
   "cell_type": "code",
   "execution_count": null,
   "id": "281dd430",
   "metadata": {},
   "outputs": [],
   "source": []
  }
 ],
 "metadata": {
  "kernelspec": {
   "display_name": "base",
   "language": "python",
   "name": "python3"
  },
  "language_info": {
   "codemirror_mode": {
    "name": "ipython",
    "version": 3
   },
   "file_extension": ".py",
   "mimetype": "text/x-python",
   "name": "python",
   "nbconvert_exporter": "python",
   "pygments_lexer": "ipython3",
   "version": "3.10.14"
  }
 },
 "nbformat": 4,
 "nbformat_minor": 5
}
