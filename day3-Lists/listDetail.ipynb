{
 "cells": [
  {
   "cell_type": "markdown",
   "id": "48de783d",
   "metadata": {},
   "source": [
    "### What is a List in Python?\n",
    "\n",
    "A list in Python is an ordered, mutable (changeable) collection that can hold heterogeneous data types (integers, strings, floats, booleans, even other lists).\n",
    "\n",
    "**✅ Key properties:**\n",
    "\n",
    "- Ordered (index-based)\n",
    "\n",
    "- Mutable (can change after creation)\n",
    "\n",
    "- Allows duplicates\n",
    "\n",
    "- Can contain mixed data types"
   ]
  },
  {
   "cell_type": "code",
   "execution_count": 1,
   "id": "074d4c89",
   "metadata": {},
   "outputs": [
    {
     "name": "stdout",
     "output_type": "stream",
     "text": [
      "[10, 'apple', 3.14, True, [1, 2, 3]]\n"
     ]
    }
   ],
   "source": [
    "# Example\n",
    "my_list = [10, \"apple\", 3.14, True, [1, 2, 3]]\n",
    "print(my_list)"
   ]
  },
  {
   "cell_type": "markdown",
   "id": "b4b4125e",
   "metadata": {},
   "source": [
    "#### Creating Lists"
   ]
  },
  {
   "cell_type": "code",
   "execution_count": 3,
   "id": "b835da67",
   "metadata": {},
   "outputs": [],
   "source": [
    "# Basic Creation\n",
    "\n",
    "numbers = [1, 2, 3, 4, 5]\n",
    "fruits = [\"apple\", \"banana\", \"cherry\"]\n",
    "mixed = [10, \"hello\", True, 3.5]"
   ]
  },
  {
   "cell_type": "code",
   "execution_count": 4,
   "id": "bce76560",
   "metadata": {},
   "outputs": [],
   "source": [
    "# Using list() constructor\n",
    "\n",
    "list_from_str = list(\"Python\")   # ['P', 'y', 't', 'h', 'o', 'n']\n",
    "list_from_tuple = list((1, 2, 3))"
   ]
  },
  {
   "cell_type": "code",
   "execution_count": 5,
   "id": "aca8e169",
   "metadata": {},
   "outputs": [],
   "source": [
    "# Empty List\n",
    "\n",
    "empty = []\n",
    "empty2 = list()"
   ]
  },
  {
   "cell_type": "markdown",
   "id": "0cc46a2a",
   "metadata": {},
   "source": [
    "#### Indexing and Slicing\n",
    "- Index starts from 0 (forward) and -1 (backward)."
   ]
  },
  {
   "cell_type": "code",
   "execution_count": null,
   "id": "084f61dc",
   "metadata": {},
   "outputs": [
    {
     "name": "stdout",
     "output_type": "stream",
     "text": [
      "10\n",
      "50\n"
     ]
    }
   ],
   "source": [
    "data = [10, 20, 30, 40, 50]\n",
    "print(data[0])   # 10\n",
    "print(data[-1])  # 50       # the last one"
   ]
  },
  {
   "cell_type": "code",
   "execution_count": null,
   "id": "3b98cb8d",
   "metadata": {},
   "outputs": [
    {
     "name": "stdout",
     "output_type": "stream",
     "text": [
      "[20, 30, 40]\n",
      "[10, 20, 30]\n",
      "[10, 30, 50]\n",
      "[50, 40, 30, 20, 10]\n"
     ]
    }
   ],
   "source": [
    "# Slicing\n",
    "\n",
    "# Syntax: list[start:end:step]\n",
    "\n",
    "print(data[1:4])    # [20, 30, 40]      # index:4, itself is exclusive\n",
    "print(data[:3])     # [10, 20, 30]\n",
    "print(data[::2])    # [10, 30, 50]\n",
    "print(data[::-1])   # reverse list"
   ]
  },
  {
   "cell_type": "markdown",
   "id": "07086459",
   "metadata": {},
   "source": [
    "#### ⚡ Hidden Tip:\n",
    "- `[::-1]` is the fastest way to reverse a list (faster than reversed() in most cases)."
   ]
  },
  {
   "cell_type": "markdown",
   "id": "4093c232",
   "metadata": {},
   "source": [
    "#### List Methods in Depth"
   ]
  },
  {
   "cell_type": "code",
   "execution_count": 8,
   "id": "e83abc79",
   "metadata": {},
   "outputs": [
    {
     "name": "stdout",
     "output_type": "stream",
     "text": [
      "[1, 2, 3, 4]\n"
     ]
    }
   ],
   "source": [
    "# append()\n",
    "\n",
    "# Adds an element at the end.\n",
    "\n",
    "nums = [1, 2, 3]\n",
    "nums.append(4)\n",
    "print(nums)  # [1, 2, 3, 4]"
   ]
  },
  {
   "cell_type": "code",
   "execution_count": 10,
   "id": "c22bb026",
   "metadata": {},
   "outputs": [
    {
     "name": "stdout",
     "output_type": "stream",
     "text": [
      "[1, 2, 3, 4, [5, 6], [5, 6]]\n"
     ]
    }
   ],
   "source": [
    "# append a list as an element\n",
    "nums.append([5, 6])\n",
    "print(nums)  # [1, 2, 3, 4, [5, 6]]"
   ]
  },
  {
   "cell_type": "code",
   "execution_count": 11,
   "id": "2314a7c2",
   "metadata": {},
   "outputs": [
    {
     "name": "stdout",
     "output_type": "stream",
     "text": [
      "[1, 2, 3, 4, 5]\n"
     ]
    }
   ],
   "source": [
    "# extend()\n",
    "\n",
    "# Extends by adding multiple elements from an iterable (list, tuple, string).\n",
    "\n",
    "nums = [1, 2, 3]\n",
    "nums.extend([4, 5])\n",
    "print(nums)  # [1, 2, 3, 4, 5]"
   ]
  },
  {
   "cell_type": "markdown",
   "id": "197892a2",
   "metadata": {},
   "source": [
    "#### ⚡ Hidden Tip:\n",
    "- `extend()` is faster than a loop append when merging lists."
   ]
  },
  {
   "cell_type": "code",
   "execution_count": 12,
   "id": "0546273b",
   "metadata": {},
   "outputs": [
    {
     "name": "stdout",
     "output_type": "stream",
     "text": [
      "[1, 2, 3, 4]\n"
     ]
    }
   ],
   "source": [
    "# insert(index, value)\n",
    "\n",
    "# Inserts an element at a given position.\n",
    "\n",
    "nums = [1, 3, 4]\n",
    "nums.insert(1, 2)\n",
    "print(nums)  # [1, 2, 3, 4]"
   ]
  },
  {
   "cell_type": "code",
   "execution_count": 13,
   "id": "ee1e9565",
   "metadata": {},
   "outputs": [
    {
     "name": "stdout",
     "output_type": "stream",
     "text": [
      "30\n",
      "[10, 20, 40]\n"
     ]
    }
   ],
   "source": [
    "# pop([index])\n",
    "\n",
    "# Removes and returns an element by index. If no index → removes last.\n",
    "\n",
    "nums = [10, 20, 30, 40]\n",
    "removed = nums.pop(2)\n",
    "print(removed)  # 30\n",
    "print(nums)     # [10, 20, 40]"
   ]
  },
  {
   "cell_type": "code",
   "execution_count": 14,
   "id": "a40b44aa",
   "metadata": {},
   "outputs": [
    {
     "name": "stdout",
     "output_type": "stream",
     "text": [
      "[1, 2, 3]\n"
     ]
    }
   ],
   "source": [
    "# remove(value)\n",
    "\n",
    "# Removes first occurrence of a value.\n",
    "\n",
    "nums = [1, 2, 2, 3]\n",
    "nums.remove(2)\n",
    "print(nums)  # [1, 2, 3]\n",
    "\n",
    "\n",
    "# ⚠️ Raises ValueError if the value not found."
   ]
  },
  {
   "cell_type": "code",
   "execution_count": 15,
   "id": "e36191aa",
   "metadata": {},
   "outputs": [
    {
     "name": "stdout",
     "output_type": "stream",
     "text": [
      "[]\n"
     ]
    }
   ],
   "source": [
    "# clear()\n",
    "\n",
    "# Removes all elements.\n",
    "\n",
    "nums = [1, 2, 3]\n",
    "nums.clear()\n",
    "print(nums)  # []\n"
   ]
  },
  {
   "cell_type": "code",
   "execution_count": 16,
   "id": "8f67295e",
   "metadata": {},
   "outputs": [
    {
     "name": "stdout",
     "output_type": "stream",
     "text": [
      "1\n"
     ]
    }
   ],
   "source": [
    "# index(value)\n",
    "\n",
    "# Returns the first index of the given value.\n",
    "\n",
    "nums = [10, 20, 30, 20]\n",
    "print(nums.index(20))  # 1"
   ]
  },
  {
   "cell_type": "code",
   "execution_count": 17,
   "id": "e4b81bb9",
   "metadata": {},
   "outputs": [
    {
     "name": "stdout",
     "output_type": "stream",
     "text": [
      "3\n"
     ]
    }
   ],
   "source": [
    "# count(value)\n",
    "\n",
    "# Counts occurrences of a value.\n",
    "\n",
    "nums = [1, 2, 2, 3, 2]\n",
    "print(nums.count(2))  # 3"
   ]
  },
  {
   "cell_type": "code",
   "execution_count": 18,
   "id": "70895a3a",
   "metadata": {},
   "outputs": [
    {
     "name": "stdout",
     "output_type": "stream",
     "text": [
      "[1, 2, 3, 4]\n"
     ]
    }
   ],
   "source": [
    "# sort()\n",
    "\n",
    "# Sorts list in place (changes original list).\n",
    "\n",
    "nums = [3, 1, 4, 2]\n",
    "nums.sort()\n",
    "print(nums)  # [1, 2, 3, 4]"
   ]
  },
  {
   "cell_type": "code",
   "execution_count": 19,
   "id": "884f32cb",
   "metadata": {},
   "outputs": [],
   "source": [
    "# ➡️ Reverse sorting:\n",
    "\n",
    "nums.sort(reverse=True)"
   ]
  },
  {
   "cell_type": "code",
   "execution_count": 20,
   "id": "a6dfa602",
   "metadata": {},
   "outputs": [
    {
     "name": "stdout",
     "output_type": "stream",
     "text": [
      "[4, 3, 2, 1]\n"
     ]
    }
   ],
   "source": [
    "print(nums)"
   ]
  },
  {
   "cell_type": "code",
   "execution_count": 21,
   "id": "640f4235",
   "metadata": {},
   "outputs": [
    {
     "name": "stdout",
     "output_type": "stream",
     "text": [
      "['apple', 'banana', 'cherry']\n"
     ]
    }
   ],
   "source": [
    "# ➡️ For custom sorting:\n",
    "\n",
    "fruits = [\"banana\", \"apple\", \"cherry\"]\n",
    "fruits.sort(key=len)  # by string length\n",
    "print(fruits)"
   ]
  },
  {
   "cell_type": "code",
   "execution_count": 22,
   "id": "649d1498",
   "metadata": {},
   "outputs": [
    {
     "name": "stdout",
     "output_type": "stream",
     "text": [
      "[4, 2, 1, 3]\n",
      "[1, 2, 3, 4]\n"
     ]
    }
   ],
   "source": [
    "# sorted() (Built-in Function)\n",
    "\n",
    "# Returns a new sorted list (doesn’t modify original).\n",
    "\n",
    "nums = [4, 2, 1, 3]\n",
    "new_list = sorted(nums)\n",
    "print(nums)      # [4, 2, 1, 3]\n",
    "print(new_list)  # [1, 2, 3, 4]"
   ]
  },
  {
   "cell_type": "code",
   "execution_count": 24,
   "id": "6c93741b",
   "metadata": {},
   "outputs": [
    {
     "name": "stdout",
     "output_type": "stream",
     "text": [
      "[3, 2, 1]\n"
     ]
    }
   ],
   "source": [
    "# reverse()\n",
    "\n",
    "# Reverses list in place.\n",
    "\n",
    "nums = [1, 2, 3]\n",
    "nums.reverse()\n",
    "print(nums)  # [3, 2, 1]"
   ]
  },
  {
   "cell_type": "code",
   "execution_count": 28,
   "id": "6843375f",
   "metadata": {},
   "outputs": [
    {
     "name": "stdout",
     "output_type": "stream",
     "text": [
      "[1, 2, 3]\n"
     ]
    }
   ],
   "source": [
    "# copy()\n",
    "\n",
    "# Shallow copy of list.       # only the values, not reference\n",
    "\n",
    "a = [1, 2, 3]\n",
    "b = a.copy()\n",
    "b.append(4)\n",
    "print(a)  # [1, 2, 3]         # no change in 'a'"
   ]
  },
  {
   "cell_type": "code",
   "execution_count": 30,
   "id": "8103d19c",
   "metadata": {},
   "outputs": [
    {
     "name": "stdout",
     "output_type": "stream",
     "text": [
      "[1, 2, 3, 4]\n"
     ]
    }
   ],
   "source": [
    "# Hidden Tips:\n",
    "\n",
    "# Aliasing problem:\n",
    "\n",
    "a = [1, 2, 3]\n",
    "b = a\n",
    "b.append(4)\n",
    "print(a)  # [1, 2, 3, 4] → because both refer to same memory(reference)\n",
    "\n",
    "\n",
    "# ✅ Use copy() or slicing [:] to create a real copy."
   ]
  },
  {
   "cell_type": "code",
   "execution_count": 32,
   "id": "6dc763af",
   "metadata": {},
   "outputs": [
    {
     "name": "stdout",
     "output_type": "stream",
     "text": [
      "[1, 2, 3, 4, 5, 6, 7, 8, 9, 10]\n"
     ]
    }
   ],
   "source": [
    "# Combine lists faster:\n",
    "\n",
    "# new_list = [*list1, *list2]  # unpacking\n",
    "\n",
    "\n",
    "list1 = [1,2,3,4,5]\n",
    "list2 = [6,7,8,9,10]\n",
    "newlist = [*list1, *list2]\n",
    "print(newlist)"
   ]
  },
  {
   "cell_type": "markdown",
   "id": "5ebd3959",
   "metadata": {},
   "source": [
    "#### List Comprehension (Pythonic Way)\n",
    "Basic syntax:\n",
    "\n",
    "`[expression for item in iterable if condition]`"
   ]
  },
  {
   "cell_type": "code",
   "execution_count": 33,
   "id": "9ff7bf2c",
   "metadata": {},
   "outputs": [
    {
     "name": "stdout",
     "output_type": "stream",
     "text": [
      "[0, 1, 4, 9, 16, 25]\n"
     ]
    }
   ],
   "source": [
    "# Squares of numbers\n",
    "squares = [x**2 for x in range(6)]\n",
    "print(squares)  # [0, 1, 4, 9, 16, 25]"
   ]
  },
  {
   "cell_type": "code",
   "execution_count": 35,
   "id": "50978c14",
   "metadata": {},
   "outputs": [
    {
     "name": "stdout",
     "output_type": "stream",
     "text": [
      "[0, 2, 4, 6, 8]\n"
     ]
    }
   ],
   "source": [
    "# Even numbers only\n",
    "evens = [x for x in range(10) if x % 2 == 0]\n",
    "print(evens)"
   ]
  },
  {
   "cell_type": "code",
   "execution_count": 36,
   "id": "71107628",
   "metadata": {},
   "outputs": [
    {
     "name": "stdout",
     "output_type": "stream",
     "text": [
      "[1, 2, 3, 4, 5, 6]\n"
     ]
    }
   ],
   "source": [
    "# Nested list comprehension\n",
    "matrix = [[1, 2, 3], [4, 5, 6]]\n",
    "flattened = [num for row in matrix for num in row]\n",
    "print(flattened)  # [1, 2, 3, 4, 5, 6]"
   ]
  },
  {
   "cell_type": "markdown",
   "id": "256d0ada",
   "metadata": {},
   "source": [
    "#### ⚡ Hidden Tips:\n",
    "\n",
    "- List comprehensions are ~30% faster than normal loops.\n",
    "\n",
    "- Keep them simple; avoid 3+ nested comprehensions for readability."
   ]
  },
  {
   "cell_type": "markdown",
   "id": "09035325",
   "metadata": {},
   "source": [
    "#### Advanced List Tricks"
   ]
  },
  {
   "cell_type": "code",
   "execution_count": 37,
   "id": "eeb06ad0",
   "metadata": {},
   "outputs": [
    {
     "name": "stdout",
     "output_type": "stream",
     "text": [
      "[4, 2, 3, 1]\n"
     ]
    }
   ],
   "source": [
    "# Swapping elements\n",
    "\n",
    "nums = [1, 2, 3, 4]\n",
    "nums[0], nums[-1] = nums[-1], nums[0]\n",
    "print(nums)  # [4, 2, 3, 1]"
   ]
  },
  {
   "cell_type": "code",
   "execution_count": null,
   "id": "bc54c2a2",
   "metadata": {},
   "outputs": [],
   "source": []
  }
 ],
 "metadata": {
  "kernelspec": {
   "display_name": "base",
   "language": "python",
   "name": "python3"
  },
  "language_info": {
   "codemirror_mode": {
    "name": "ipython",
    "version": 3
   },
   "file_extension": ".py",
   "mimetype": "text/x-python",
   "name": "python",
   "nbconvert_exporter": "python",
   "pygments_lexer": "ipython3",
   "version": "3.13.5"
  }
 },
 "nbformat": 4,
 "nbformat_minor": 5
}
