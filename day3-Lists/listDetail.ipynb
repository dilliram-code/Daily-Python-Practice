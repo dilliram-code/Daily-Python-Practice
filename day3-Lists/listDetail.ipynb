{
 "cells": [
  {
   "cell_type": "markdown",
   "id": "48de783d",
   "metadata": {},
   "source": [
    "### What is a List in Python?\n",
    "\n",
    "A list in Python is an ordered, mutable (changeable) collection that can hold heterogeneous data types (integers, strings, floats, booleans, even other lists).\n",
    "\n",
    "**✅ Key properties:**\n",
    "\n",
    "- Ordered (index-based)\n",
    "\n",
    "- Mutable (can change after creation)\n",
    "\n",
    "- Allows duplicates\n",
    "\n",
    "- Can contain mixed data types"
   ]
  },
  {
   "cell_type": "code",
   "execution_count": 1,
   "id": "074d4c89",
   "metadata": {},
   "outputs": [
    {
     "name": "stdout",
     "output_type": "stream",
     "text": [
      "[10, 'apple', 3.14, True, [1, 2, 3]]\n"
     ]
    }
   ],
   "source": [
    "# Example\n",
    "my_list = [10, \"apple\", 3.14, True, [1, 2, 3]]\n",
    "print(my_list)"
   ]
  },
  {
   "cell_type": "code",
   "execution_count": null,
   "id": "b4b4125e",
   "metadata": {},
   "outputs": [],
   "source": []
  }
 ],
 "metadata": {
  "kernelspec": {
   "display_name": "base",
   "language": "python",
   "name": "python3"
  },
  "language_info": {
   "codemirror_mode": {
    "name": "ipython",
    "version": 3
   },
   "file_extension": ".py",
   "mimetype": "text/x-python",
   "name": "python",
   "nbconvert_exporter": "python",
   "pygments_lexer": "ipython3",
   "version": "3.13.5"
  }
 },
 "nbformat": 4,
 "nbformat_minor": 5
}
