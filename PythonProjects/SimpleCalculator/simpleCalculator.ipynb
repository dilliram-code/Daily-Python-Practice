{
 "cells": [
  {
   "cell_type": "code",
   "execution_count": 1,
   "id": "9cf9e7cb",
   "metadata": {},
   "outputs": [
    {
     "data": {
      "text/plain": [
       "7"
      ]
     },
     "execution_count": 1,
     "metadata": {},
     "output_type": "execute_result"
    }
   ],
   "source": [
    "def summation(first, second):\n",
    "  return first + second\n",
    "\n",
    "summation(3,4)"
   ]
  },
  {
   "cell_type": "code",
   "execution_count": 2,
   "id": "6064109f",
   "metadata": {},
   "outputs": [
    {
     "data": {
      "text/plain": [
       "5"
      ]
     },
     "execution_count": 2,
     "metadata": {},
     "output_type": "execute_result"
    }
   ],
   "source": [
    "def subtraction(first, second):\n",
    "  return (first - second)\n",
    "\n",
    "subtraction(10, 5)"
   ]
  },
  {
   "cell_type": "code",
   "execution_count": 3,
   "id": "9d8c37f6",
   "metadata": {},
   "outputs": [
    {
     "data": {
      "text/plain": [
       "36"
      ]
     },
     "execution_count": 3,
     "metadata": {},
     "output_type": "execute_result"
    }
   ],
   "source": [
    "def multiplication(first, second):\n",
    "  return (first * second)\n",
    "\n",
    "multiplication(4,9)"
   ]
  },
  {
   "cell_type": "code",
   "execution_count": 4,
   "id": "2bc649a9",
   "metadata": {},
   "outputs": [
    {
     "data": {
      "text/plain": [
       "0.5"
      ]
     },
     "execution_count": 4,
     "metadata": {},
     "output_type": "execute_result"
    }
   ],
   "source": [
    "def division(first, second):\n",
    "  return first/second\n",
    "\n",
    "division(10,20)"
   ]
  },
  {
   "cell_type": "code",
   "execution_count": null,
   "id": "abc322fb",
   "metadata": {},
   "outputs": [],
   "source": []
  }
 ],
 "metadata": {
  "kernelspec": {
   "display_name": "base",
   "language": "python",
   "name": "python3"
  },
  "language_info": {
   "codemirror_mode": {
    "name": "ipython",
    "version": 3
   },
   "file_extension": ".py",
   "mimetype": "text/x-python",
   "name": "python",
   "nbconvert_exporter": "python",
   "pygments_lexer": "ipython3",
   "version": "3.13.5"
  }
 },
 "nbformat": 4,
 "nbformat_minor": 5
}
