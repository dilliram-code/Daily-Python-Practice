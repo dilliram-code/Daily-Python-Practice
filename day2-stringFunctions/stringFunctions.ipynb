{
 "cells": [
  {
   "cell_type": "code",
   "execution_count": 1,
   "id": "690983aa",
   "metadata": {},
   "outputs": [
    {
     "name": "stdout",
     "output_type": "stream",
     "text": [
      "C:\\Users\\Dilli\\notes.txt\n",
      "Dilli\\n is literal backslash-n\n"
     ]
    }
   ],
   "source": [
    "# single, double quotes — equivalent\n",
    "s1 = 'hello'\n",
    "s2 = \"hello\"\n",
    "\n",
    "# triple quotes for multiline\n",
    "s3 = \"\"\"Line 1\n",
    "Line 2\n",
    "Line 3\"\"\"\n",
    "\n",
    "# raw strings: backslashes kept literally (useful for Windows paths, regex patterns)\n",
    "r = r\"C:\\Users\\Dilli\\notes.txt\"  # backslash is literal\n",
    "print(r)  # prints: C:\\Users\\Dilli\\notes.txt\n",
    "\n",
    "# raw + f-string (use fr or rf) — f-expression still evaluated\n",
    "name = \"Dilli\"\n",
    "fr_text = fr\"{name}\\n is literal backslash-n\"\n",
    "print(fr_text)  # Dilli\\n is literal backslash-n"
   ]
  },
  {
   "cell_type": "code",
   "execution_count": 2,
   "id": "f3368c54",
   "metadata": {},
   "outputs": [
    {
     "name": "stdout",
     "output_type": "stream",
     "text": [
      "N l\n",
      "epa\n",
      "Ne\n",
      "pal\n",
      "lapeN\n",
      "a\n",
      "b\n",
      "c\n"
     ]
    }
   ],
   "source": [
    "s = \"Nepal\"\n",
    "\n",
    "# indexing (0-based)\n",
    "print(s[0], s[-1])  # 'N' 'l'\n",
    "\n",
    "# slicing: s[start:stop:step]\n",
    "print(s[1:4])   # 'epa'\n",
    "print(s[:2])    # 'Ne'\n",
    "print(s[2:])    # 'pal'\n",
    "print(s[::-1])  # reversed string: 'lapeN'\n",
    "\n",
    "# iteration\n",
    "for ch in \"abc\":\n",
    "    print(ch)"
   ]
  },
  {
   "cell_type": "markdown",
   "id": "a927306c",
   "metadata": {},
   "source": [
    "`s[100] raises IndexError. But s[100:200] returns '' (empty string) — slicing is safe.`"
   ]
  },
  {
   "cell_type": "code",
   "execution_count": null,
   "id": "0b86c0b2",
   "metadata": {},
   "outputs": [
    {
     "name": "stdout",
     "output_type": "stream",
     "text": [
      "Dilli Silli\n"
     ]
    }
   ],
   "source": [
    "# Strings are immutable: operations produce new strings.\n",
    "name = \"Dilli\"\n",
    "name1 = name.replace(\"D\", \"S\")\n",
    "print(name,name1)"
   ]
  },
  {
   "cell_type": "markdown",
   "id": "ddd405d9",
   "metadata": {},
   "source": [
    "**Because they are immutable:**\n",
    "\n",
    "- You cannot change a character in place (s[0] = \"H\" raises TypeError).\n",
    "- Repeated concatenation in loops is inefficient (see performance section)."
   ]
  },
  {
   "cell_type": "code",
   "execution_count": 8,
   "id": "17e79679",
   "metadata": {},
   "outputs": [
    {
     "name": "stdout",
     "output_type": "stream",
     "text": [
      "5\n",
      "65\n",
      "☃\n",
      "123\n",
      "'a\\nb'\n",
      "True\n",
      "True\n"
     ]
    }
   ],
   "source": [
    "# Built-in functions & quick operations\n",
    "\n",
    "# length\n",
    "print(len(\"hello\"))  # 5\n",
    "\n",
    "# ord / chr (code point conversions)\n",
    "print(ord(\"A\"))   # 65\n",
    "print(chr(9731))  # '☃'\n",
    "\n",
    "# convert to string\n",
    "print(str(123))   # '123'\n",
    "print(repr(\"a\\nb\"))  # \"'a\\\\nb'\"\n",
    "\n",
    "# membership\n",
    "print(\"he\" in \"hello\")  # True\n",
    "print(\"z\" not in \"abc\")  # True"
   ]
  },
  {
   "cell_type": "code",
   "execution_count": 13,
   "id": "d7b124c9",
   "metadata": {},
   "outputs": [
    {
     "name": "stdout",
     "output_type": "stream",
     "text": [
      "hello world\n",
      "HELLO WORLD\n",
      "Hello World\n",
      "Hello world\n",
      "hello world\n",
      "=================================================\n",
      "True\n",
      "True\n",
      "True\n",
      "True\n",
      "True\n"
     ]
    }
   ],
   "source": [
    "# str methods (with examples)\n",
    "\n",
    "s = \"Hello World\"\n",
    "print(s.lower())        # 'hello world'\n",
    "print(s.upper())        # 'HELLO WORLD'\n",
    "print(s.title())        # 'Hello World'\n",
    "print(s.capitalize())   # 'Hello world'\n",
    "print(s.casefold())     # aggressive lowercasing for caseless comparison\n",
    "\n",
    "print(\"=================================================\")\n",
    "# checks\n",
    "print(\"abc\".isalpha())      # True\n",
    "print(\"123\".isdigit())      # True\n",
    "print(\" \".isspace())        # True\n",
    "print(\"abc123\".isalnum())  # True\n",
    "print(\"Hello\".endswith(\"lo\"))    # True"
   ]
  },
  {
   "cell_type": "code",
   "execution_count": 14,
   "id": "c43b65fb",
   "metadata": {},
   "outputs": [
    {
     "data": {
      "text/plain": [
       "['one,two,three']"
      ]
     },
     "execution_count": 14,
     "metadata": {},
     "output_type": "execute_result"
    }
   ],
   "source": [
    "# Searching & splitting\n",
    "s = \"one,two,three\"\n",
    "s.split()"
   ]
  },
  {
   "cell_type": "code",
   "execution_count": 15,
   "id": "52a3cc8b",
   "metadata": {},
   "outputs": [
    {
     "data": {
      "text/plain": [
       "['one', 'two', 'three']"
      ]
     },
     "execution_count": 15,
     "metadata": {},
     "output_type": "execute_result"
    }
   ],
   "source": [
    "s.split(\",\")"
   ]
  },
  {
   "cell_type": "code",
   "execution_count": 16,
   "id": "f9f66b7c",
   "metadata": {},
   "outputs": [
    {
     "data": {
      "text/plain": [
       "['one,two,three']"
      ]
     },
     "execution_count": 16,
     "metadata": {},
     "output_type": "execute_result"
    }
   ],
   "source": [
    "s.splitlines()"
   ]
  },
  {
   "cell_type": "code",
   "execution_count": 17,
   "id": "34548267",
   "metadata": {},
   "outputs": [
    {
     "data": {
      "text/plain": [
       "('one', ',', 'two,three')"
      ]
     },
     "execution_count": 17,
     "metadata": {},
     "output_type": "execute_result"
    }
   ],
   "source": [
    "s.partition(\",\")"
   ]
  },
  {
   "cell_type": "code",
   "execution_count": 18,
   "id": "f155e382",
   "metadata": {},
   "outputs": [
    {
     "data": {
      "text/plain": [
       "4"
      ]
     },
     "execution_count": 18,
     "metadata": {},
     "output_type": "execute_result"
    }
   ],
   "source": [
    "s.find(\"two\")"
   ]
  },
  {
   "cell_type": "code",
   "execution_count": 19,
   "id": "725bfd7e",
   "metadata": {},
   "outputs": [
    {
     "data": {
      "text/plain": [
       "12"
      ]
     },
     "execution_count": 19,
     "metadata": {},
     "output_type": "execute_result"
    }
   ],
   "source": [
    "s.rfind(\"e\")"
   ]
  },
  {
   "cell_type": "code",
   "execution_count": 20,
   "id": "2a8a7b24",
   "metadata": {},
   "outputs": [
    {
     "data": {
      "text/plain": [
       "4"
      ]
     },
     "execution_count": 20,
     "metadata": {},
     "output_type": "execute_result"
    }
   ],
   "source": [
    "s.index(\"two\")"
   ]
  },
  {
   "cell_type": "code",
   "execution_count": 21,
   "id": "9564c98d",
   "metadata": {},
   "outputs": [
    {
     "data": {
      "text/plain": [
       "3"
      ]
     },
     "execution_count": 21,
     "metadata": {},
     "output_type": "execute_result"
    }
   ],
   "source": [
    "s.count(\"e\")"
   ]
  },
  {
   "cell_type": "code",
   "execution_count": 22,
   "id": "ba611401",
   "metadata": {},
   "outputs": [
    {
     "data": {
      "text/plain": [
       "'hi'"
      ]
     },
     "execution_count": 22,
     "metadata": {},
     "output_type": "execute_result"
    }
   ],
   "source": [
    "\"  hi  \".strip()     # 'hi'"
   ]
  },
  {
   "cell_type": "code",
   "execution_count": 23,
   "id": "12b36894",
   "metadata": {},
   "outputs": [
    {
     "data": {
      "text/plain": [
       "'hello'"
      ]
     },
     "execution_count": 23,
     "metadata": {},
     "output_type": "execute_result"
    }
   ],
   "source": [
    "\"xxhelloxx\".strip(\"x\")  # 'hello'"
   ]
  },
  {
   "cell_type": "code",
   "execution_count": 24,
   "id": "15cc141d",
   "metadata": {},
   "outputs": [
    {
     "data": {
      "text/plain": [
       "'hi....'"
      ]
     },
     "execution_count": 24,
     "metadata": {},
     "output_type": "execute_result"
    }
   ],
   "source": [
    "\"hi\".ljust(6, \".\")   # 'hi....'"
   ]
  },
  {
   "cell_type": "code",
   "execution_count": 25,
   "id": "1ff9ba22",
   "metadata": {},
   "outputs": [
    {
     "data": {
      "text/plain": [
       "'----hi'"
      ]
     },
     "execution_count": 25,
     "metadata": {},
     "output_type": "execute_result"
    }
   ],
   "source": [
    "\"hi\".rjust(6, \"-\")    # '----hi'"
   ]
  },
  {
   "cell_type": "code",
   "execution_count": 27,
   "id": "6ae49b0a",
   "metadata": {},
   "outputs": [
    {
     "data": {
      "text/plain": [
       "'***hi***'"
      ]
     },
     "execution_count": 27,
     "metadata": {},
     "output_type": "execute_result"
    }
   ],
   "source": [
    "\"hi\".center(8, \"*\")  # '**hi***'"
   ]
  },
  {
   "cell_type": "code",
   "execution_count": 28,
   "id": "0e35871e",
   "metadata": {},
   "outputs": [
    {
     "name": "stdout",
     "output_type": "stream",
     "text": [
      "bonono\n"
     ]
    }
   ],
   "source": [
    "# eplace & translate\n",
    "print(\"banana\".replace(\"a\", \"o\"))   # 'bonono'"
   ]
  },
  {
   "cell_type": "code",
   "execution_count": 29,
   "id": "3e8d3559",
   "metadata": {},
   "outputs": [
    {
     "data": {
      "text/plain": [
       "'121c'"
      ]
     },
     "execution_count": 29,
     "metadata": {},
     "output_type": "execute_result"
    }
   ],
   "source": [
    "table = str.maketrans({\"a\": \"1\", \"b\": \"2\"})\n",
    "\"abac\".translate(table)  # '121c'"
   ]
  },
  {
   "cell_type": "code",
   "execution_count": 30,
   "id": "66fb08f0",
   "metadata": {},
   "outputs": [
    {
     "data": {
      "text/plain": [
       "b'caf\\xc3\\xa9'"
      ]
     },
     "execution_count": 30,
     "metadata": {},
     "output_type": "execute_result"
    }
   ],
   "source": [
    "\"café\".encode(\"utf-8\")     # b'caf\\xc3\\xa9"
   ]
  },
  {
   "cell_type": "code",
   "execution_count": 31,
   "metadata": {},
   "outputs": [
    {
     "data": {
      "text/plain": [
       "'café'"
      ]
     },
     "execution_count": 31,
     "metadata": {},
     "output_type": "execute_result"
    }
   ],
   "source": [
    "b\"caf\\xc3\\xa9\".decode(\"utf-8\")  # 'café'"
   ]
  },
  {
   "cell_type": "code",
   "execution_count": 32,
   "id": "50022756",
   "metadata": {},
   "outputs": [
    {
     "data": {
      "text/plain": [
       "'a,b,c'"
      ]
     },
     "execution_count": 32,
     "metadata": {},
     "output_type": "execute_result"
    }
   ],
   "source": [
    "# Join (important!)\n",
    "parts = [\"a\", \"b\", \"c\"]\n",
    "\",\".join(parts)  # 'a,b,c'   "
   ]
  },
  {
   "cell_type": "markdown",
   "id": "20e716ee",
   "metadata": {},
   "source": [
    "`# JOIN is fast; prefer join over repeated concat`"
   ]
  },
  {
   "cell_type": "code",
   "execution_count": 33,
   "id": "d96fb4f9",
   "metadata": {},
   "outputs": [
    {
     "data": {
      "text/plain": [
       "False"
      ]
     },
     "execution_count": 33,
     "metadata": {},
     "output_type": "execute_result"
    }
   ],
   "source": [
    "s = \"hello\"\n",
    "s.isnumeric()"
   ]
  },
  {
   "cell_type": "code",
   "execution_count": null,
   "id": "725363e5",
   "metadata": {},
   "outputs": [
    {
     "data": {
      "text/plain": [
       "'Hello Sita, score = 95'"
      ]
     },
     "execution_count": 35,
     "metadata": {},
     "output_type": "execute_result"
    }
   ],
   "source": [
    "# Formatting strings\n",
    "\n",
    "# Percent formatting (old)\n",
    "\"Hello %s, score = %d\" % (\"Sita\", 95)\n",
    "\n",
    "# better you avoid using it."
   ]
  },
  {
   "cell_type": "code",
   "execution_count": 37,
   "id": "e12a3b1e",
   "metadata": {},
   "outputs": [
    {
     "data": {
      "text/plain": [
       "'Hello Dilli, your score is 98.1'"
      ]
     },
     "execution_count": 37,
     "metadata": {},
     "output_type": "execute_result"
    }
   ],
   "source": [
    "# str.format()\n",
    "\n",
    "\"Hello {name}, your score is {score:.1f}\".format(name=\"Dilli\", score=98.123)"
   ]
  },
  {
   "cell_type": "code",
   "execution_count": 1,
   "id": "0bc65f31",
   "metadata": {},
   "outputs": [
    {
     "data": {
      "text/plain": [
       "'double: 10'"
      ]
     },
     "execution_count": 1,
     "metadata": {},
     "output_type": "execute_result"
    }
   ],
   "source": [
    "# -strings (Python 3.6+): recommended\n",
    "name = \"Sita\"\n",
    "score = 95.1234\n",
    "f\"Hello {name}, score={score:.2f}\"  # 'Hello Sita, score=95.12'\n",
    "\n",
    "# expressions are allowed\n",
    "f\"2+2={2+2}\"\n",
    "# calling functions OK:\n",
    "def fmt(x): return x*2\n",
    "\n",
    "\n",
    "f\"double: {fmt(5)}\"  # 'double: 10'"
   ]
  },
  {
   "cell_type": "markdown",
   "id": "72fb2eb7",
   "metadata": {},
   "source": [
    "#### Unicode & encodings\n",
    "\n",
    "- Python str stores text (Unicode code points).\n",
    "\n",
    "- bytes represent raw bytes; to convert str ↔ bytes use .encode() and .decode()."
   ]
  },
  {
   "cell_type": "code",
   "execution_count": 2,
   "id": "9345f099",
   "metadata": {},
   "outputs": [
    {
     "name": "stdout",
     "output_type": "stream",
     "text": [
      "b'\\xe0\\xa4\\xa8\\xe0\\xa4\\xae\\xe0\\xa4\\xb8\\xe0\\xa5\\x8d\\xe0\\xa4\\xa4\\xe0\\xa5\\x87'\n",
      "नमस्ते\n"
     ]
    }
   ],
   "source": [
    "s = \"नमस्ते\"     # Devanagari; valid Python str\n",
    "b = s.encode(\"utf-8\")\n",
    "print(b)         # bytes\n",
    "print(b.decode(\"utf-8\"))  # back to string"
   ]
  },
  {
   "cell_type": "code",
   "execution_count": null,
   "id": "75508af4",
   "metadata": {},
   "outputs": [],
   "source": []
  },
  {
   "cell_type": "code",
   "execution_count": null,
   "id": "082f8474",
   "metadata": {},
   "outputs": [],
   "source": []
  }
 ],
 "metadata": {
  "kernelspec": {
   "display_name": "base",
   "language": "python",
   "name": "python3"
  },
  "language_info": {
   "codemirror_mode": {
    "name": "ipython",
    "version": 3
   },
   "file_extension": ".py",
   "mimetype": "text/x-python",
   "name": "python",
   "nbconvert_exporter": "python",
   "pygments_lexer": "ipython3",
   "version": "3.10.14"
  }
 },
 "nbformat": 4,
 "nbformat_minor": 5
}
