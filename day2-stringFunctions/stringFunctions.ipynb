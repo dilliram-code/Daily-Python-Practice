{
 "cells": [
  {
   "cell_type": "code",
   "execution_count": 1,
   "id": "690983aa",
   "metadata": {},
   "outputs": [
    {
     "name": "stdout",
     "output_type": "stream",
     "text": [
      "C:\\Users\\Dilli\\notes.txt\n",
      "Dilli\\n is literal backslash-n\n"
     ]
    }
   ],
   "source": [
    "# single, double quotes — equivalent\n",
    "s1 = 'hello'\n",
    "s2 = \"hello\"\n",
    "\n",
    "# triple quotes for multiline\n",
    "s3 = \"\"\"Line 1\n",
    "Line 2\n",
    "Line 3\"\"\"\n",
    "\n",
    "# raw strings: backslashes kept literally (useful for Windows paths, regex patterns)\n",
    "r = r\"C:\\Users\\Dilli\\notes.txt\"  # backslash is literal\n",
    "print(r)  # prints: C:\\Users\\Dilli\\notes.txt\n",
    "\n",
    "# raw + f-string (use fr or rf) — f-expression still evaluated\n",
    "name = \"Dilli\"\n",
    "fr_text = fr\"{name}\\n is literal backslash-n\"\n",
    "print(fr_text)  # Dilli\\n is literal backslash-n"
   ]
  },
  {
   "cell_type": "code",
   "execution_count": null,
   "id": "f3368c54",
   "metadata": {},
   "outputs": [],
   "source": []
  }
 ],
 "metadata": {
  "kernelspec": {
   "display_name": "base",
   "language": "python",
   "name": "python3"
  },
  "language_info": {
   "codemirror_mode": {
    "name": "ipython",
    "version": 3
   },
   "file_extension": ".py",
   "mimetype": "text/x-python",
   "name": "python",
   "nbconvert_exporter": "python",
   "pygments_lexer": "ipython3",
   "version": "3.10.14"
  }
 },
 "nbformat": 4,
 "nbformat_minor": 5
}
