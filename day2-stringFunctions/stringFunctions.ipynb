{
 "cells": [
  {
   "cell_type": "code",
   "execution_count": 1,
   "id": "690983aa",
   "metadata": {},
   "outputs": [
    {
     "name": "stdout",
     "output_type": "stream",
     "text": [
      "C:\\Users\\Dilli\\notes.txt\n",
      "Dilli\\n is literal backslash-n\n"
     ]
    }
   ],
   "source": [
    "# single, double quotes — equivalent\n",
    "s1 = 'hello'\n",
    "s2 = \"hello\"\n",
    "\n",
    "# triple quotes for multiline\n",
    "s3 = \"\"\"Line 1\n",
    "Line 2\n",
    "Line 3\"\"\"\n",
    "\n",
    "# raw strings: backslashes kept literally (useful for Windows paths, regex patterns)\n",
    "r = r\"C:\\Users\\Dilli\\notes.txt\"  # backslash is literal\n",
    "print(r)  # prints: C:\\Users\\Dilli\\notes.txt\n",
    "\n",
    "# raw + f-string (use fr or rf) — f-expression still evaluated\n",
    "name = \"Dilli\"\n",
    "fr_text = fr\"{name}\\n is literal backslash-n\"\n",
    "print(fr_text)  # Dilli\\n is literal backslash-n"
   ]
  },
  {
   "cell_type": "code",
   "execution_count": 2,
   "id": "f3368c54",
   "metadata": {},
   "outputs": [
    {
     "name": "stdout",
     "output_type": "stream",
     "text": [
      "N l\n",
      "epa\n",
      "Ne\n",
      "pal\n",
      "lapeN\n",
      "a\n",
      "b\n",
      "c\n"
     ]
    }
   ],
   "source": [
    "s = \"Nepal\"\n",
    "\n",
    "# indexing (0-based)\n",
    "print(s[0], s[-1])  # 'N' 'l'\n",
    "\n",
    "# slicing: s[start:stop:step]\n",
    "print(s[1:4])   # 'epa'\n",
    "print(s[:2])    # 'Ne'\n",
    "print(s[2:])    # 'pal'\n",
    "print(s[::-1])  # reversed string: 'lapeN'\n",
    "\n",
    "# iteration\n",
    "for ch in \"abc\":\n",
    "    print(ch)"
   ]
  },
  {
   "cell_type": "markdown",
   "id": "a927306c",
   "metadata": {},
   "source": [
    "`s[100] raises IndexError. But s[100:200] returns '' (empty string) — slicing is safe.`"
   ]
  },
  {
   "cell_type": "code",
   "execution_count": null,
   "id": "0b86c0b2",
   "metadata": {},
   "outputs": [
    {
     "name": "stdout",
     "output_type": "stream",
     "text": [
      "Dilli Silli\n"
     ]
    }
   ],
   "source": [
    "# Strings are immutable: operations produce new strings.\n",
    "name = \"Dilli\"\n",
    "name1 = name.replace(\"D\", \"S\")\n",
    "print(name,name1)"
   ]
  },
  {
   "cell_type": "markdown",
   "id": "ddd405d9",
   "metadata": {},
   "source": [
    "**Because they are immutable:**\n",
    "\n",
    "- You cannot change a character in place (s[0] = \"H\" raises TypeError).\n",
    "- Repeated concatenation in loops is inefficient (see performance section)."
   ]
  },
  {
   "cell_type": "code",
   "execution_count": null,
   "id": "17e79679",
   "metadata": {},
   "outputs": [],
   "source": []
  },
  {
   "cell_type": "code",
   "execution_count": null,
   "id": "d7b124c9",
   "metadata": {},
   "outputs": [],
   "source": []
  }
 ],
 "metadata": {
  "kernelspec": {
   "display_name": "base",
   "language": "python",
   "name": "python3"
  },
  "language_info": {
   "codemirror_mode": {
    "name": "ipython",
    "version": 3
   },
   "file_extension": ".py",
   "mimetype": "text/x-python",
   "name": "python",
   "nbconvert_exporter": "python",
   "pygments_lexer": "ipython3",
   "version": "3.10.14"
  }
 },
 "nbformat": 4,
 "nbformat_minor": 5
}
