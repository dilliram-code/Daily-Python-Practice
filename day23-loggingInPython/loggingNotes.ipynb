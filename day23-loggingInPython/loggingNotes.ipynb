{
 "cells": [
  {
   "cell_type": "code",
   "execution_count": 1,
   "id": "5a9919a7",
   "metadata": {},
   "outputs": [
    {
     "name": "stderr",
     "output_type": "stream",
     "text": [
      "DEBUG:root:This is the debug message\n",
      "WARNING:root:This is the warning message\n",
      "INFO:root:This is the info message\n",
      "ERROR:root:This is the error message\n",
      "CRITICAL:root:This is the critical message\n"
     ]
    }
   ],
   "source": [
    "# Basic logging example\n",
    "import logging\n",
    "\n",
    "logging.basicConfig(level=logging.DEBUG)\n",
    "\n",
    "logging.debug(\"This is the debug message\")\n",
    "logging.warning(\"This is the warning message\")\n",
    "logging.info(\"This is the info message\")\n",
    "logging.error(\"This is the error message\")\n",
    "logging.critical(\"This is the critical message\")"
   ]
  },
  {
   "cell_type": "code",
   "execution_count": null,
   "id": "6322a1c1",
   "metadata": {},
   "outputs": [],
   "source": []
  }
 ],
 "metadata": {
  "kernelspec": {
   "display_name": "base",
   "language": "python",
   "name": "python3"
  },
  "language_info": {
   "codemirror_mode": {
    "name": "ipython",
    "version": 3
   },
   "file_extension": ".py",
   "mimetype": "text/x-python",
   "name": "python",
   "nbconvert_exporter": "python",
   "pygments_lexer": "ipython3",
   "version": "3.10.14"
  }
 },
 "nbformat": 4,
 "nbformat_minor": 5
}
