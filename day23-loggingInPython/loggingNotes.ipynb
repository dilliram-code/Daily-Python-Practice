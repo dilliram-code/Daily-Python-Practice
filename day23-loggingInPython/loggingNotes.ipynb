{
 "cells": [
  {
   "cell_type": "code",
   "execution_count": 6,
   "id": "5a9919a7",
   "metadata": {},
   "outputs": [
    {
     "name": "stderr",
     "output_type": "stream",
     "text": [
      "DEBUG:root:This is the debug message\n",
      "WARNING:root:This is the warning message\n",
      "INFO:root:This is the info message\n",
      "ERROR:root:This is the error message\n",
      "CRITICAL:root:This is the critical message\n"
     ]
    }
   ],
   "source": [
    "# Basic logging example\n",
    "import logging\n",
    "\n",
    "logging.basicConfig(level=logging.DEBUG)\n",
    "\n",
    "logging.debug(\"This is the debug message\")\n",
    "logging.warning(\"This is the warning message\")\n",
    "logging.info(\"This is the info message\")\n",
    "logging.error(\"This is the error message\")\n",
    "logging.critical(\"This is the critical message\")"
   ]
  },
  {
   "cell_type": "code",
   "execution_count": 28,
   "id": "6322a1c1",
   "metadata": {},
   "outputs": [],
   "source": [
    "# logging to a file\n",
    "\n",
    "import logging\n",
    "\n",
    "logging.basicConfig(\n",
    "\tfilename=\"app.log\",\n",
    "\tfilemode=\"w\",\n",
    "\tlevel=logging.DEBUG,\n",
    "  format=\"%(asctime)s - %(levelname)s - %(message)s\", force=True\n",
    ")\n",
    "\n",
    "logging.info(\"Program started\")\n",
    "logging.warning(\"Something might be wrong\")\n",
    "logging.error(\"An error occured\")"
   ]
  },
  {
   "cell_type": "code",
   "execution_count": 8,
   "id": "45c0ba3b",
   "metadata": {},
   "outputs": [
    {
     "name": "stdout",
     "output_type": "stream",
     "text": [
      "division by zero\n",
      "None\n"
     ]
    }
   ],
   "source": [
    "def divide(x,y):\n",
    "  try:\n",
    "    result = x /y\n",
    "    return result\n",
    "  except ZeroDivisionError as e:\n",
    "    print(e)\n",
    "\n",
    "print(divide(20,0))\n"
   ]
  },
  {
   "cell_type": "code",
   "execution_count": 10,
   "id": "26497d76",
   "metadata": {},
   "outputs": [
    {
     "name": "stderr",
     "output_type": "stream",
     "text": [
      "INFO:root:{x} is divided by {y}: {result}\n"
     ]
    },
    {
     "name": "stdout",
     "output_type": "stream",
     "text": [
      "20.0\n"
     ]
    }
   ],
   "source": [
    "# using  logging\n",
    "\n",
    "import logging\n",
    "logging.basicConfig(level=logging.DEBUG)\n",
    "def divide(x, y):\n",
    "  try:\n",
    "    result = x / y\n",
    "    logging.info(\"{x} is divided by {y}: {result}\")\n",
    "    return result\n",
    "  except ZeroDivisionError as e:\n",
    "    logging.error(\"Zero division error!\")\n",
    "\n",
    "\n",
    "print(divide(20, 1))"
   ]
  },
  {
   "cell_type": "code",
   "execution_count": 26,
   "id": "0742d208",
   "metadata": {},
   "outputs": [
    {
     "name": "stderr",
     "output_type": "stream",
     "text": [
      "INFO:root:sum of two positive numbers!\n"
     ]
    },
    {
     "name": "stdout",
     "output_type": "stream",
     "text": [
      "150\n"
     ]
    }
   ],
   "source": [
    "# using format inside logging\n",
    "import logging\n",
    "\n",
    "logging.basicConfig(level = logging.DEBUG,\n",
    "                    format='%(asctime)s-%(levelname)s-%(message)s')\n",
    "\n",
    "def summation(first, second):\n",
    "  \n",
    "    try:\n",
    "      if first > 0 and second > 0:\n",
    "        result = first + second\n",
    "        logging.info(\"sum of two positive numbers!\")\n",
    "        return result\n",
    "      else:\n",
    "        raise ValueError(\"Both numbers must be positive!\")\n",
    "    except Exception as e:\n",
    "      logging.error(\"The input is not valid: %s\", e)\n",
    "      return None\n",
    "      \n",
    "print(summation(50, 100))"
   ]
  },
  {
   "cell_type": "code",
   "execution_count": 27,
   "id": "0f3f4758",
   "metadata": {},
   "outputs": [
    {
     "name": "stdout",
     "output_type": "stream",
     "text": [
      "150\n"
     ]
    }
   ],
   "source": [
    "# create a logging file \n",
    "import logging\n",
    "\n",
    "logging.basicConfig(filename=\"myfile.log\",filemode=\"w\", level=logging.DEBUG,\n",
    "                    format='%(asctime)s-%(levelname)s-%(message)s', force=True)\n",
    "\n",
    "\n",
    "def summation(first, second):\n",
    "\n",
    "    try:\n",
    "      if first > 0 and second > 0:\n",
    "        result = first + second\n",
    "        logging.info(\"sum of two positive numbers!\")\n",
    "        return result\n",
    "      else:\n",
    "        raise ValueError(\"Both numbers must be positive!\")\n",
    "    except Exception as e:\n",
    "      logging.error(\"The input is not valid: %s\", e)\n",
    "      return None\n",
    "\n",
    "output = summation(50, 100)\n",
    "if output is not None:\n",
    "  print(output)\n",
    "else:\n",
    "  print(\"Error occured\")"
   ]
  },
  {
   "cell_type": "code",
   "execution_count": 46,
   "id": "c151033e",
   "metadata": {},
   "outputs": [
    {
     "name": "stdout",
     "output_type": "stream",
     "text": [
      "2025-09-13 22:19:00,383-INFO-function has started from here!\n",
      "2025-09-13 22:19:00,384-INFO-the value of i here is 0\n",
      "2025-09-13 22:19:00,384-INFO-the value of i here is 1\n",
      "2025-09-13 22:19:00,384-INFO-the value of i here is 2\n",
      "2025-09-13 22:19:00,384-INFO-the value of i here is 3\n",
      "2025-09-13 22:19:00,384-INFO-the value of i here is 4\n",
      "2025-09-13 22:19:00,384-INFO-the value of i here is 5\n",
      "2025-09-13 22:19:00,384-INFO-the value of i here is 6\n",
      "2025-09-13 22:19:00,385-INFO-the value of i here is 7\n",
      "2025-09-13 22:19:00,385-INFO-the value of i here is 8\n",
      "2025-09-13 22:19:00,385-INFO-the value of i here is 9\n",
      "\n",
      "The sum of the numbers:  55\n"
     ]
    }
   ],
   "source": [
    "# Another example \n",
    "\n",
    "import logging\n",
    "\n",
    "logging.basicConfig(level=logging.DEBUG,\n",
    "                    filename=\"logme.log\",\n",
    "                    filemode=\"w\",\n",
    "                    format='%(asctime)s-%(levelname)s-%(message)s', force=True)\n",
    "def addNumbers(args):\n",
    "  logging.info(\"function has started from here!\")\n",
    "  result = 0\n",
    "  for i in  range(len(args)):\n",
    "    logging.info(f\"the value of i here is {i}\")\n",
    "    result = result + args[i]\n",
    "  \n",
    "  return result\n",
    "\n",
    "\n",
    "numberList = [1, 2, 3, 4, 5, 6, 7, 8, 9, 10]\n",
    "addNumbers(numberList)\n",
    "\n",
    "with open(\"logme.log\") as f:\n",
    "  readFile = f.read()\n",
    "print(readFile)\n",
    "\n",
    "print(\"The sum of the numbers: \", addNumbers(numberList))"
   ]
  },
  {
   "cell_type": "code",
   "execution_count": null,
   "id": "ea1d80aa",
   "metadata": {},
   "outputs": [],
   "source": []
  }
 ],
 "metadata": {
  "kernelspec": {
   "display_name": "base",
   "language": "python",
   "name": "python3"
  },
  "language_info": {
   "codemirror_mode": {
    "name": "ipython",
    "version": 3
   },
   "file_extension": ".py",
   "mimetype": "text/x-python",
   "name": "python",
   "nbconvert_exporter": "python",
   "pygments_lexer": "ipython3",
   "version": "3.10.14"
  }
 },
 "nbformat": 4,
 "nbformat_minor": 5
}
