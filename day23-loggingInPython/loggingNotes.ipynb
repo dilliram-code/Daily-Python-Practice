{
 "cells": [
  {
   "cell_type": "code",
   "execution_count": 6,
   "id": "5a9919a7",
   "metadata": {},
   "outputs": [
    {
     "name": "stderr",
     "output_type": "stream",
     "text": [
      "DEBUG:root:This is the debug message\n",
      "WARNING:root:This is the warning message\n",
      "INFO:root:This is the info message\n",
      "ERROR:root:This is the error message\n",
      "CRITICAL:root:This is the critical message\n"
     ]
    }
   ],
   "source": [
    "# Basic logging example\n",
    "import logging\n",
    "\n",
    "logging.basicConfig(level=logging.DEBUG)\n",
    "\n",
    "logging.debug(\"This is the debug message\")\n",
    "logging.warning(\"This is the warning message\")\n",
    "logging.info(\"This is the info message\")\n",
    "logging.error(\"This is the error message\")\n",
    "logging.critical(\"This is the critical message\")"
   ]
  },
  {
   "cell_type": "code",
   "execution_count": 7,
   "id": "6322a1c1",
   "metadata": {},
   "outputs": [
    {
     "name": "stderr",
     "output_type": "stream",
     "text": [
      "INFO:root:Program started\n",
      "WARNING:root:Something might be wrong\n",
      "ERROR:root:An error occured\n"
     ]
    }
   ],
   "source": [
    "# logging to a file\n",
    "\n",
    "import logging\n",
    "\n",
    "logging.basicConfig(\n",
    "\tfilename=\"app.log\",\n",
    "\tfilemode=\"w\",\n",
    "\tlevel=logging.DEBUG,\n",
    "  format=\"%(asctime)s - %(levelname)s - %(message)s\"\n",
    ")\n",
    "\n",
    "logging.info(\"Program started\")\n",
    "logging.warning(\"Something might be wrong\")\n",
    "logging.error(\"An error occured\")"
   ]
  },
  {
   "cell_type": "code",
   "execution_count": 8,
   "id": "45c0ba3b",
   "metadata": {},
   "outputs": [
    {
     "name": "stdout",
     "output_type": "stream",
     "text": [
      "division by zero\n",
      "None\n"
     ]
    }
   ],
   "source": [
    "def divide(x,y):\n",
    "  try:\n",
    "    result = x /y\n",
    "    return result\n",
    "  except ZeroDivisionError as e:\n",
    "    print(e)\n",
    "\n",
    "print(divide(20,0))\n"
   ]
  },
  {
   "cell_type": "code",
   "execution_count": 10,
   "id": "26497d76",
   "metadata": {},
   "outputs": [
    {
     "name": "stderr",
     "output_type": "stream",
     "text": [
      "INFO:root:{x} is divided by {y}: {result}\n"
     ]
    },
    {
     "name": "stdout",
     "output_type": "stream",
     "text": [
      "20.0\n"
     ]
    }
   ],
   "source": [
    "# using  logging\n",
    "\n",
    "import logging\n",
    "logging.basicConfig(level=logging.DEBUG)\n",
    "def divide(x, y):\n",
    "  try:\n",
    "    result = x / y\n",
    "    logging.info(\"{x} is divided by {y}: {result}\")\n",
    "    return result\n",
    "  except ZeroDivisionError as e:\n",
    "    logging.error(\"Zero division error!\")\n",
    "\n",
    "\n",
    "print(divide(20, 1))"
   ]
  },
  {
   "cell_type": "code",
   "execution_count": null,
   "id": "0742d208",
   "metadata": {},
   "outputs": [],
   "source": []
  }
 ],
 "metadata": {
  "kernelspec": {
   "display_name": "base",
   "language": "python",
   "name": "python3"
  },
  "language_info": {
   "codemirror_mode": {
    "name": "ipython",
    "version": 3
   },
   "file_extension": ".py",
   "mimetype": "text/x-python",
   "name": "python",
   "nbconvert_exporter": "python",
   "pygments_lexer": "ipython3",
   "version": "3.10.14"
  }
 },
 "nbformat": 4,
 "nbformat_minor": 5
}
