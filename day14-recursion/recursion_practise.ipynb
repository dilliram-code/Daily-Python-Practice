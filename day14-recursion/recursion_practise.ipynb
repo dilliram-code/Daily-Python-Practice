{
 "cells": [
  {
   "cell_type": "code",
   "execution_count": null,
   "id": "95c8ddbd",
   "metadata": {},
   "outputs": [
    {
     "data": {
      "text/plain": [
       "20"
      ]
     },
     "execution_count": 3,
     "metadata": {},
     "output_type": "execute_result"
    }
   ],
   "source": [
    "# A very simple example: Multiplication is a repetative addition. However, this could be solved using recursion in more simpler way.\n",
    "def multiply(a,b):\n",
    "  result = 0\n",
    "  \n",
    "  for i in range(b):\n",
    "    result = result + a\n",
    "  return result\n",
    "\n",
    "multiply(4,5)"
   ]
  },
  {
   "cell_type": "code",
   "execution_count": 4,
   "id": "fa47f1be",
   "metadata": {},
   "outputs": [],
   "source": [
    "# Explanation: Since multiplication is an repetative addition, we can add all the a number for a number of times."
   ]
  },
  {
   "cell_type": "code",
   "execution_count": 1,
   "id": "3c1eb87d",
   "metadata": {},
   "outputs": [
    {
     "name": "stdout",
     "output_type": "stream",
     "text": [
      "20\n"
     ]
    }
   ],
   "source": [
    "# solving the same above problem using recursion\n",
    "def multiplication(a,b):\n",
    "  if b == 1:\n",
    "    return a\n",
    "  else:\n",
    "    result = a + multiplication(a, b-1)\n",
    "  return result\n",
    "\n",
    "mul = multiplication(4,5)\n",
    "print(mul)"
   ]
  },
  {
   "cell_type": "code",
   "execution_count": 2,
   "id": "24323bb9",
   "metadata": {},
   "outputs": [],
   "source": [
    "# Explanatibon: here, function multiplication calls itself untill the value of b becomes equal to 1."
   ]
  },
  {
   "cell_type": "code",
   "execution_count": 3,
   "id": "5f350d63",
   "metadata": {},
   "outputs": [
    {
     "data": {
      "text/plain": [
       "120"
      ]
     },
     "execution_count": 3,
     "metadata": {},
     "output_type": "execute_result"
    }
   ],
   "source": [
    "# Finding the factorial of a number using recursion\n",
    "def calculate_factorial(num):\n",
    "  if num == 1:\n",
    "    return 1\n",
    "  else:\n",
    "    return num * calculate_factorial(num-1)\n",
    "  \n",
    "calculate_factorial(5)"
   ]
  },
  {
   "cell_type": "code",
   "execution_count": null,
   "id": "9c17a6c7",
   "metadata": {},
   "outputs": [],
   "source": []
  },
  {
   "cell_type": "code",
   "execution_count": null,
   "id": "f25c7c4f",
   "metadata": {},
   "outputs": [],
   "source": []
  }
 ],
 "metadata": {
  "kernelspec": {
   "display_name": "base",
   "language": "python",
   "name": "python3"
  },
  "language_info": {
   "codemirror_mode": {
    "name": "ipython",
    "version": 3
   },
   "file_extension": ".py",
   "mimetype": "text/x-python",
   "name": "python",
   "nbconvert_exporter": "python",
   "pygments_lexer": "ipython3",
   "version": "3.10.14"
  }
 },
 "nbformat": 4,
 "nbformat_minor": 5
}
