{
 "cells": [
  {
   "cell_type": "markdown",
   "id": "b7a1b2f1",
   "metadata": {},
   "source": [
    "### What is Control Flow?\n",
    "\n",
    "Control flow determines the order in which statements are executed in a program.\n",
    "In Python, control flow depends on:\n",
    "\n",
    "- Conditionals (`if`, `elif`, `else`)\n",
    "\n",
    "- Loops (`for`, `while`)\n",
    "\n",
    "- Jump statements (`break`, `continue`, `pass`)"
   ]
  },
  {
   "cell_type": "markdown",
   "id": "02419ca1",
   "metadata": {},
   "source": [
    "#### The if Statements:\n",
    "\n",
    "- Python provides `if..elif..else` control statements as a part of decision marking. It consists of three different blocks, which are `if` block, `elif` (short of else if) block and `else` block."
   ]
  },
  {
   "cell_type": "code",
   "execution_count": null,
   "id": "13e0ffe4",
   "metadata": {},
   "outputs": [
    {
     "name": "stdout",
     "output_type": "stream",
     "text": [
      "Passed with distinction\n"
     ]
    }
   ],
   "source": [
    "# if elif else \n",
    "marks = 80 \n",
    "result = \"\"\n",
    "if marks < 30:\n",
    "   result = \"Failed\"\n",
    "elif marks > 75:\n",
    "   result = \"Passed with distinction\"\n",
    "else:\n",
    "   result = \"Passed\"\n",
    "\n",
    "print(result)"
   ]
  },
  {
   "cell_type": "code",
   "execution_count": 2,
   "id": "c909b786",
   "metadata": {},
   "outputs": [
    {
     "name": "stdout",
     "output_type": "stream",
     "text": [
      "Vowel alphabet\n",
      "Simple alphabet\n",
      "Vowel alphabet\n"
     ]
    }
   ],
   "source": [
    "# python match statement\n",
    "def checkVowel(n):\n",
    "   match n:\n",
    "      case 'a': return \"Vowel alphabet\"\n",
    "      case 'e': return \"Vowel alphabet\"\n",
    "      case 'i': return \"Vowel alphabet\"\n",
    "      case 'o': return \"Vowel alphabet\"\n",
    "      case 'u': return \"Vowel alphabet\"\n",
    "      case _: return \"Simple alphabet\"\n",
    "print (checkVowel('a'))\n",
    "print (checkVowel('m'))\n",
    "print (checkVowel('o'))"
   ]
  },
  {
   "cell_type": "markdown",
   "id": "76ed2a91",
   "metadata": {},
   "source": [
    "#### For Loop in Python\n",
    "🧩 Basic Syntax:\n",
    "```python\n",
    "    for variable in iterable:\n",
    "        # code block\n",
    "```\n",
    "\n",
    "- iterable means any sequence like list, tuple, string, dictionary, or range.\n",
    "\n",
    "- The loop variable takes one value from the iterable in each iteration."
   ]
  },
  {
   "cell_type": "code",
   "execution_count": 3,
   "id": "d292a799",
   "metadata": {},
   "outputs": [
    {
     "name": "stdout",
     "output_type": "stream",
     "text": [
      "apple\n",
      "banana\n",
      "cherry\n"
     ]
    }
   ],
   "source": [
    "fruits = [\"apple\", \"banana\", \"cherry\"]\n",
    "for fruit in fruits:\n",
    "    print(fruit)"
   ]
  },
  {
   "cell_type": "code",
   "execution_count": 4,
   "id": "25fc6689",
   "metadata": {},
   "outputs": [
    {
     "name": "stdout",
     "output_type": "stream",
     "text": [
      "P\n",
      "y\n",
      "t\n",
      "h\n",
      "o\n",
      "n\n"
     ]
    }
   ],
   "source": [
    "# Loop through a string\n",
    "for letter in \"Python\":\n",
    "    print(letter)"
   ]
  },
  {
   "cell_type": "code",
   "execution_count": 5,
   "id": "67a8322f",
   "metadata": {},
   "outputs": [
    {
     "name": "stdout",
     "output_type": "stream",
     "text": [
      "0\n",
      "1\n",
      "2\n",
      "3\n",
      "4\n"
     ]
    }
   ],
   "source": [
    "# Using range()\n",
    "for i in range(5):\n",
    "    print(i)"
   ]
  },
  {
   "cell_type": "code",
   "execution_count": 6,
   "id": "c98d6931",
   "metadata": {},
   "outputs": [
    {
     "name": "stdout",
     "output_type": "stream",
     "text": [
      "2\n",
      "4\n",
      "6\n",
      "8\n"
     ]
    }
   ],
   "source": [
    "# Using range(start, stop, step)\n",
    "for i in range(2, 10, 2):\n",
    "    print(i)"
   ]
  },
  {
   "cell_type": "code",
   "execution_count": 7,
   "id": "c2d69752",
   "metadata": {},
   "outputs": [
    {
     "name": "stdout",
     "output_type": "stream",
     "text": [
      "0\n",
      "1\n",
      "2\n",
      "Loop finished!\n"
     ]
    }
   ],
   "source": [
    "# Hidden Details:\n",
    "\n",
    "# You can use an else block with a for loop.\n",
    "# It runs only if the loop completes normally (no break used).\n",
    "\n",
    "for i in range(3):\n",
    "    print(i)\n",
    "else:\n",
    "    print(\"Loop finished!\")"
   ]
  },
  {
   "cell_type": "code",
   "execution_count": 8,
   "id": "6949e44a",
   "metadata": {},
   "outputs": [
    {
     "name": "stdout",
     "output_type": "stream",
     "text": [
      "0\n"
     ]
    }
   ],
   "source": [
    "# f a break is used:\n",
    "for i in range(3):\n",
    "    if i == 1:\n",
    "        break\n",
    "    print(i)\n",
    "else:\n",
    "    print(\"Loop finished!\")   # won’t run"
   ]
  },
  {
   "cell_type": "code",
   "execution_count": null,
   "id": "4165d81d",
   "metadata": {},
   "outputs": [],
   "source": []
  }
 ],
 "metadata": {
  "kernelspec": {
   "display_name": "base",
   "language": "python",
   "name": "python3"
  },
  "language_info": {
   "codemirror_mode": {
    "name": "ipython",
    "version": 3
   },
   "file_extension": ".py",
   "mimetype": "text/x-python",
   "name": "python",
   "nbconvert_exporter": "python",
   "pygments_lexer": "ipython3",
   "version": "3.13.5"
  }
 },
 "nbformat": 4,
 "nbformat_minor": 5
}
