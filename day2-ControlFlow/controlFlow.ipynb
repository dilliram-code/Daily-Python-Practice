{
 "cells": [
  {
   "cell_type": "markdown",
   "id": "02419ca1",
   "metadata": {},
   "source": [
    "#### The if Statements:\n",
    "\n",
    "- Python provides `if..elif..else` control statements as a part of decision marking. It consists of three different blocks, which are `if` block, `elif` (short of else if) block and `else` block."
   ]
  },
  {
   "cell_type": "code",
   "execution_count": null,
   "id": "13e0ffe4",
   "metadata": {},
   "outputs": [
    {
     "name": "stdout",
     "output_type": "stream",
     "text": [
      "Passed with distinction\n"
     ]
    }
   ],
   "source": [
    "# if elif else \n",
    "marks = 80 \n",
    "result = \"\"\n",
    "if marks < 30:\n",
    "   result = \"Failed\"\n",
    "elif marks > 75:\n",
    "   result = \"Passed with distinction\"\n",
    "else:\n",
    "   result = \"Passed\"\n",
    "\n",
    "print(result)"
   ]
  },
  {
   "cell_type": "code",
   "execution_count": 2,
   "id": "c909b786",
   "metadata": {},
   "outputs": [
    {
     "name": "stdout",
     "output_type": "stream",
     "text": [
      "Vowel alphabet\n",
      "Simple alphabet\n",
      "Vowel alphabet\n"
     ]
    }
   ],
   "source": [
    "# python match statement\n",
    "def checkVowel(n):\n",
    "   match n:\n",
    "      case 'a': return \"Vowel alphabet\"\n",
    "      case 'e': return \"Vowel alphabet\"\n",
    "      case 'i': return \"Vowel alphabet\"\n",
    "      case 'o': return \"Vowel alphabet\"\n",
    "      case 'u': return \"Vowel alphabet\"\n",
    "      case _: return \"Simple alphabet\"\n",
    "print (checkVowel('a'))\n",
    "print (checkVowel('m'))\n",
    "print (checkVowel('o'))"
   ]
  },
  {
   "cell_type": "code",
   "execution_count": null,
   "id": "76ed2a91",
   "metadata": {},
   "outputs": [],
   "source": []
  }
 ],
 "metadata": {
  "kernelspec": {
   "display_name": "base",
   "language": "python",
   "name": "python3"
  },
  "language_info": {
   "codemirror_mode": {
    "name": "ipython",
    "version": 3
   },
   "file_extension": ".py",
   "mimetype": "text/x-python",
   "name": "python",
   "nbconvert_exporter": "python",
   "pygments_lexer": "ipython3",
   "version": "3.13.5"
  }
 },
 "nbformat": 4,
 "nbformat_minor": 5
}
