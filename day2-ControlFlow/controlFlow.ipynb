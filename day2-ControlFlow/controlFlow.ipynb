{
 "cells": [
  {
   "cell_type": "markdown",
   "id": "b7a1b2f1",
   "metadata": {},
   "source": [
    "### What is Control Flow?\n",
    "\n",
    "Control flow determines the order in which statements are executed in a program.\n",
    "In Python, control flow depends on:\n",
    "\n",
    "- Conditionals (`if`, `elif`, `else`)\n",
    "\n",
    "- Loops (`for`, `while`)\n",
    "\n",
    "- Jump statements (`break`, `continue`, `pass`)"
   ]
  },
  {
   "cell_type": "markdown",
   "id": "02419ca1",
   "metadata": {},
   "source": [
    "#### The if Statements:\n",
    "\n",
    "- Python provides `if..elif..else` control statements as a part of decision marking. It consists of three different blocks, which are `if` block, `elif` (short of else if) block and `else` block."
   ]
  },
  {
   "cell_type": "code",
   "execution_count": null,
   "id": "13e0ffe4",
   "metadata": {},
   "outputs": [
    {
     "name": "stdout",
     "output_type": "stream",
     "text": [
      "Passed with distinction\n"
     ]
    }
   ],
   "source": [
    "# if elif else \n",
    "marks = 80 \n",
    "result = \"\"\n",
    "if marks < 30:\n",
    "   result = \"Failed\"\n",
    "elif marks > 75:\n",
    "   result = \"Passed with distinction\"\n",
    "else:\n",
    "   result = \"Passed\"\n",
    "\n",
    "print(result)"
   ]
  },
  {
   "cell_type": "code",
   "execution_count": 2,
   "id": "c909b786",
   "metadata": {},
   "outputs": [
    {
     "name": "stdout",
     "output_type": "stream",
     "text": [
      "Vowel alphabet\n",
      "Simple alphabet\n",
      "Vowel alphabet\n"
     ]
    }
   ],
   "source": [
    "# python match statement\n",
    "def checkVowel(n):\n",
    "   match n:\n",
    "      case 'a': return \"Vowel alphabet\"\n",
    "      case 'e': return \"Vowel alphabet\"\n",
    "      case 'i': return \"Vowel alphabet\"\n",
    "      case 'o': return \"Vowel alphabet\"\n",
    "      case 'u': return \"Vowel alphabet\"\n",
    "      case _: return \"Simple alphabet\"\n",
    "print (checkVowel('a'))\n",
    "print (checkVowel('m'))\n",
    "print (checkVowel('o'))"
   ]
  },
  {
   "cell_type": "markdown",
   "id": "76ed2a91",
   "metadata": {},
   "source": [
    "#### For Loop in Python\n",
    "🧩 Basic Syntax:\n",
    "```python\n",
    "    for variable in iterable:\n",
    "        # code block\n",
    "```\n",
    "\n",
    "- iterable means any sequence like list, tuple, string, dictionary, or range.\n",
    "\n",
    "- The loop variable takes one value from the iterable in each iteration."
   ]
  },
  {
   "cell_type": "code",
   "execution_count": 3,
   "id": "d292a799",
   "metadata": {},
   "outputs": [
    {
     "name": "stdout",
     "output_type": "stream",
     "text": [
      "apple\n",
      "banana\n",
      "cherry\n"
     ]
    }
   ],
   "source": [
    "fruits = [\"apple\", \"banana\", \"cherry\"]\n",
    "for fruit in fruits:\n",
    "    print(fruit)"
   ]
  },
  {
   "cell_type": "code",
   "execution_count": 4,
   "id": "25fc6689",
   "metadata": {},
   "outputs": [
    {
     "name": "stdout",
     "output_type": "stream",
     "text": [
      "P\n",
      "y\n",
      "t\n",
      "h\n",
      "o\n",
      "n\n"
     ]
    }
   ],
   "source": [
    "# Loop through a string\n",
    "for letter in \"Python\":\n",
    "    print(letter)"
   ]
  },
  {
   "cell_type": "code",
   "execution_count": 5,
   "id": "67a8322f",
   "metadata": {},
   "outputs": [
    {
     "name": "stdout",
     "output_type": "stream",
     "text": [
      "0\n",
      "1\n",
      "2\n",
      "3\n",
      "4\n"
     ]
    }
   ],
   "source": [
    "# Using range()\n",
    "for i in range(5):\n",
    "    print(i)"
   ]
  },
  {
   "cell_type": "code",
   "execution_count": 6,
   "id": "c98d6931",
   "metadata": {},
   "outputs": [
    {
     "name": "stdout",
     "output_type": "stream",
     "text": [
      "2\n",
      "4\n",
      "6\n",
      "8\n"
     ]
    }
   ],
   "source": [
    "# Using range(start, stop, step)\n",
    "for i in range(2, 10, 2):\n",
    "    print(i)"
   ]
  },
  {
   "cell_type": "code",
   "execution_count": 7,
   "id": "c2d69752",
   "metadata": {},
   "outputs": [
    {
     "name": "stdout",
     "output_type": "stream",
     "text": [
      "0\n",
      "1\n",
      "2\n",
      "Loop finished!\n"
     ]
    }
   ],
   "source": [
    "# Hidden Details:\n",
    "\n",
    "# You can use an else block with a for loop.\n",
    "# It runs only if the loop completes normally (no break used).\n",
    "\n",
    "for i in range(3):\n",
    "    print(i)\n",
    "else:\n",
    "    print(\"Loop finished!\")"
   ]
  },
  {
   "cell_type": "code",
   "execution_count": 8,
   "id": "6949e44a",
   "metadata": {},
   "outputs": [
    {
     "name": "stdout",
     "output_type": "stream",
     "text": [
      "0\n"
     ]
    }
   ],
   "source": [
    "# f a break is used:\n",
    "for i in range(3):\n",
    "    if i == 1:\n",
    "        break\n",
    "    print(i)\n",
    "else:\n",
    "    print(\"Loop finished!\")   # won’t run"
   ]
  },
  {
   "cell_type": "markdown",
   "id": "4165d81d",
   "metadata": {},
   "source": [
    "#### While Loop in Python\n",
    "🧩 Basic Syntax:\n",
    "```python\n",
    "  while condition:\n",
    "      # code block\n",
    "```\n",
    "- Executes repeatedly as long as the condition is True.\n",
    "\n",
    "- You `must update the condition inside the loop`; otherwise, it will run infinitely."
   ]
  },
  {
   "cell_type": "code",
   "execution_count": 9,
   "id": "3223f973",
   "metadata": {},
   "outputs": [
    {
     "name": "stdout",
     "output_type": "stream",
     "text": [
      "1\n",
      "2\n",
      "3\n",
      "4\n",
      "5\n"
     ]
    }
   ],
   "source": [
    "# Counting\n",
    "i = 1\n",
    "while i <= 5:\n",
    "    print(i)\n",
    "    i += 1"
   ]
  },
  {
   "cell_type": "markdown",
   "id": "36491fdb",
   "metadata": {},
   "source": [
    "#### infinite Loop (Be Careful!)\n",
    "```python\n",
    "while True:\n",
    "    print(\"This will run forever!\")\n",
    "```"
   ]
  },
  {
   "cell_type": "code",
   "execution_count": 10,
   "id": "7500d369",
   "metadata": {},
   "outputs": [],
   "source": [
    "# stop it using Ctrl + C."
   ]
  },
  {
   "cell_type": "code",
   "execution_count": 11,
   "id": "e5ca3947",
   "metadata": {},
   "outputs": [
    {
     "name": "stdout",
     "output_type": "stream",
     "text": [
      "0\n",
      "1\n",
      "2\n",
      "Condition is now false\n"
     ]
    }
   ],
   "source": [
    "# Hidden Detail:\n",
    "\n",
    "# Just like for, while also supports else.\n",
    "\n",
    "i = 0\n",
    "while i < 3:\n",
    "    print(i)\n",
    "    i += 1\n",
    "else:\n",
    "    print(\"Condition is now false\")"
   ]
  },
  {
   "cell_type": "markdown",
   "id": "ea4b223d",
   "metadata": {},
   "source": [
    "### Jump Statements\n",
    "\n",
    "- Jump statements control how loops execute or skip parts of code."
   ]
  },
  {
   "cell_type": "code",
   "execution_count": 12,
   "id": "badec893",
   "metadata": {},
   "outputs": [
    {
     "name": "stdout",
     "output_type": "stream",
     "text": [
      "0\n",
      "1\n",
      "2\n"
     ]
    }
   ],
   "source": [
    "# break Statement\n",
    "\n",
    "# Used to exit the loop immediately, even if the condition is still true.\n",
    "\n",
    "for i in range(5):\n",
    "    if i == 3:\n",
    "        break\n",
    "    print(i)"
   ]
  },
  {
   "cell_type": "code",
   "execution_count": 13,
   "id": "88885b28",
   "metadata": {},
   "outputs": [
    {
     "name": "stdout",
     "output_type": "stream",
     "text": [
      "0\n",
      "1\n",
      "3\n",
      "4\n"
     ]
    }
   ],
   "source": [
    "# continue Statement\n",
    "\n",
    "# Skips the current iteration and moves to the next one.\n",
    "\n",
    "for i in range(5):\n",
    "    if i == 2:\n",
    "        continue\n",
    "    print(i)"
   ]
  },
  {
   "cell_type": "code",
   "execution_count": 14,
   "id": "f7a56f09",
   "metadata": {},
   "outputs": [],
   "source": [
    "# 👉 When i == 2, the loop skips printing and jumps to the next iteration."
   ]
  },
  {
   "cell_type": "code",
   "execution_count": 15,
   "id": "cb52d8c9",
   "metadata": {},
   "outputs": [
    {
     "name": "stdout",
     "output_type": "stream",
     "text": [
      "0\n",
      "1\n",
      "2\n",
      "3\n",
      "4\n"
     ]
    }
   ],
   "source": [
    "# pass Statement\n",
    "\n",
    "# Does nothing — it’s a placeholder when syntax requires a statement but you don’t want any action.\n",
    "\n",
    "for i in range(5):\n",
    "    if i == 2:\n",
    "        pass  # no action, placeholder\n",
    "    print(i)"
   ]
  },
  {
   "cell_type": "code",
   "execution_count": 16,
   "id": "16b3052b",
   "metadata": {},
   "outputs": [
    {
     "name": "stdout",
     "output_type": "stream",
     "text": [
      "i = 1\n",
      "i = 3\n"
     ]
    }
   ],
   "source": [
    "# combined example\n",
    "i = 0\n",
    "while i < 5:\n",
    "    i += 1\n",
    "    if i == 2:\n",
    "        continue     # skip when i = 2\n",
    "    if i == 4:\n",
    "        break        # stop loop when i = 4\n",
    "    print(\"i =\", i)\n",
    "else:\n",
    "    print(\"Loop ended normally\")   # won’t execute because break was used"
   ]
  },
  {
   "cell_type": "code",
   "execution_count": 17,
   "id": "a288812c",
   "metadata": {},
   "outputs": [
    {
     "name": "stdout",
     "output_type": "stream",
     "text": [
      "Wrong password.\n",
      "Wrong password.\n",
      "Wrong password.\n",
      "Access denied after 3 attempts.\n"
     ]
    }
   ],
   "source": [
    "# Real life example\n",
    "correct_password = \"python123\"\n",
    "attempts = 0\n",
    "\n",
    "while attempts < 3:\n",
    "    password = input(\"Enter password: \")\n",
    "    if password == correct_password:\n",
    "        print(\"Access granted.\")\n",
    "        break\n",
    "    else:\n",
    "        print(\"Wrong password.\")\n",
    "    attempts += 1\n",
    "else:\n",
    "    print(\"Access denied after 3 attempts.\")"
   ]
  },
  {
   "cell_type": "code",
   "execution_count": null,
   "id": "39c2e81c",
   "metadata": {},
   "outputs": [],
   "source": []
  }
 ],
 "metadata": {
  "kernelspec": {
   "display_name": "base",
   "language": "python",
   "name": "python3"
  },
  "language_info": {
   "codemirror_mode": {
    "name": "ipython",
    "version": 3
   },
   "file_extension": ".py",
   "mimetype": "text/x-python",
   "name": "python",
   "nbconvert_exporter": "python",
   "pygments_lexer": "ipython3",
   "version": "3.13.5"
  }
 },
 "nbformat": 4,
 "nbformat_minor": 5
}
