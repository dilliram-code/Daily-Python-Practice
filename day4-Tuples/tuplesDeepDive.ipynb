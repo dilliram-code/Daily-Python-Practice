{
 "cells": [
  {
   "cell_type": "markdown",
   "id": "83eea391",
   "metadata": {},
   "source": [
    "### What is a Tuple?\n",
    "\n",
    "A tuple is an ordered, immutable collection of items.\n",
    "\n",
    "- Ordered → elements have a fixed position.\n",
    "\n",
    "- Immutable → can’t change, add, or remove items once created.\n",
    "\n",
    "- Allows duplicates\n",
    "\n",
    "- Can store mixed data types (int, float, string, list, dict, even another tuple)."
   ]
  },
  {
   "cell_type": "code",
   "execution_count": 1,
   "id": "82c2ad66",
   "metadata": {},
   "outputs": [],
   "source": [
    "# syntax\n",
    "\n",
    "my_tuple = (1, 2, 3)"
   ]
  },
  {
   "cell_type": "code",
   "execution_count": 2,
   "id": "892b5553",
   "metadata": {},
   "outputs": [],
   "source": [
    "# empty tuple\n",
    "\n",
    "empty = ()"
   ]
  },
  {
   "cell_type": "code",
   "execution_count": 3,
   "id": "340dc737",
   "metadata": {},
   "outputs": [],
   "source": [
    "# Single element tuple — add a comma!\n",
    "\n",
    "single = (5,)   # Correct\n",
    "not_tuple = (5) # Just an int"
   ]
  },
  {
   "cell_type": "code",
   "execution_count": 4,
   "id": "ca260fdd",
   "metadata": {},
   "outputs": [
    {
     "name": "stdout",
     "output_type": "stream",
     "text": [
      "(5,) 5\n"
     ]
    }
   ],
   "source": [
    "print(single, not_tuple)"
   ]
  },
  {
   "cell_type": "code",
   "execution_count": 5,
   "id": "39e69a25",
   "metadata": {},
   "outputs": [],
   "source": [
    "# Tuple without parentheses (Packing)\n",
    "\n",
    "packed = 1, 2, 3"
   ]
  },
  {
   "cell_type": "code",
   "execution_count": 6,
   "id": "a961faa0",
   "metadata": {},
   "outputs": [
    {
     "name": "stdout",
     "output_type": "stream",
     "text": [
      "(1, 2, 3)\n"
     ]
    }
   ],
   "source": [
    "print(packed)"
   ]
  },
  {
   "cell_type": "code",
   "execution_count": 7,
   "id": "5a4d4537",
   "metadata": {},
   "outputs": [],
   "source": [
    "# Unpacking\n",
    "\n",
    "a, b, c = packed"
   ]
  },
  {
   "cell_type": "code",
   "execution_count": 12,
   "id": "d2564823",
   "metadata": {},
   "outputs": [
    {
     "name": "stdout",
     "output_type": "stream",
     "text": [
      "(1, 2, 3)\n",
      "a: 1 \n",
      "b: 2 \n",
      "c: 3\n"
     ]
    }
   ],
   "source": [
    "\n",
    "print(packed)\n",
    "print(\"a:\",a, \"\\nb:\",b, \"\\nc:\",c)"
   ]
  },
  {
   "cell_type": "markdown",
   "id": "4b5bf077",
   "metadata": {},
   "source": [
    "#### Tuple Functions and Methods"
   ]
  },
  {
   "cell_type": "code",
   "execution_count": 13,
   "id": "53d44277",
   "metadata": {},
   "outputs": [
    {
     "name": "stdout",
     "output_type": "stream",
     "text": [
      "2\n",
      "3\n"
     ]
    }
   ],
   "source": [
    "# Only two built-in methods:\n",
    "\n",
    "t = (10, 20, 20, 30)\n",
    "print(t.count(20))  # 2\n",
    "print(t.index(30))  # 3"
   ]
  },
  {
   "cell_type": "code",
   "execution_count": 14,
   "id": "973806ed",
   "metadata": {},
   "outputs": [
    {
     "name": "stdout",
     "output_type": "stream",
     "text": [
      "4\n",
      "30\n",
      "10\n",
      "80\n",
      "[10, 20, 20, 30]\n"
     ]
    }
   ],
   "source": [
    "# Other useful functions:\n",
    "\n",
    "print(len(t))\n",
    "print(max(t))\n",
    "print(min(t))\n",
    "print(sum(t))\n",
    "print(sorted(t))"
   ]
  },
  {
   "cell_type": "markdown",
   "id": "06c15c73",
   "metadata": {},
   "source": [
    "#### Tuple Packing and Unpacking (Advanced Usage)"
   ]
  },
  {
   "cell_type": "code",
   "execution_count": 17,
   "id": "23957a4a",
   "metadata": {},
   "outputs": [],
   "source": [
    "# ✅ Nested Packing: tuple inside another tuple\n",
    "\n",
    "student = (\"Ram\", 20, (\"Math\", 85, 90))\n",
    "name, age, (subject, mid, final) = student"
   ]
  },
  {
   "cell_type": "code",
   "execution_count": 18,
   "id": "2c884225",
   "metadata": {},
   "outputs": [
    {
     "name": "stdout",
     "output_type": "stream",
     "text": [
      "Ram\n",
      "20\n"
     ]
    }
   ],
   "source": [
    "print(name)\n",
    "print(age)"
   ]
  },
  {
   "cell_type": "code",
   "execution_count": 20,
   "id": "6e891801",
   "metadata": {},
   "outputs": [
    {
     "name": "stdout",
     "output_type": "stream",
     "text": [
      "Math\n",
      "85\n",
      "90\n"
     ]
    }
   ],
   "source": [
    "print(subject)\n",
    "print(mid)\n",
    "print(final)"
   ]
  },
  {
   "cell_type": "code",
   "execution_count": 21,
   "id": "ee432efd",
   "metadata": {},
   "outputs": [
    {
     "name": "stdout",
     "output_type": "stream",
     "text": [
      "20 10\n"
     ]
    }
   ],
   "source": [
    "# ✅ Swapping Without Temp Variable\n",
    "\n",
    "x, y = 10, 20\n",
    "x, y = y, x\n",
    "print(x, y)  # 20 10"
   ]
  },
  {
   "cell_type": "code",
   "execution_count": 22,
   "id": "cd686e10",
   "metadata": {},
   "outputs": [
    {
     "name": "stdout",
     "output_type": "stream",
     "text": [
      "1\n",
      "[2, 3, 4]\n",
      "5\n"
     ]
    }
   ],
   "source": [
    "#  Using * (Extended Unpacking)\n",
    "\n",
    "t = (1, 2, 3, 4, 5)\n",
    "a, *b, c = t\n",
    "print(a)  # 1\n",
    "print(b)  # [2, 3, 4]\n",
    "print(c)  # 5"
   ]
  },
  {
   "cell_type": "code",
   "execution_count": null,
   "id": "90dfdd89",
   "metadata": {},
   "outputs": [],
   "source": []
  }
 ],
 "metadata": {
  "kernelspec": {
   "display_name": "base",
   "language": "python",
   "name": "python3"
  },
  "language_info": {
   "codemirror_mode": {
    "name": "ipython",
    "version": 3
   },
   "file_extension": ".py",
   "mimetype": "text/x-python",
   "name": "python",
   "nbconvert_exporter": "python",
   "pygments_lexer": "ipython3",
   "version": "3.13.5"
  }
 },
 "nbformat": 4,
 "nbformat_minor": 5
}
