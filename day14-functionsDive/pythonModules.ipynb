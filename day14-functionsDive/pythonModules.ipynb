{
 "cells": [
  {
   "cell_type": "markdown",
   "id": "e140d659",
   "metadata": {},
   "source": [
    "**What is a Module?**\n",
    "\n",
    "- A module in Python is simply a file that contains Python code (functions, classes, variables).\n",
    "\n",
    "- File extension: `.py`\n",
    "- Modules help you:\n",
    "- Organize code into reusable pieces.\n",
    "- Avoid duplication.\n",
    "- Improve readability."
   ]
  },
  {
   "cell_type": "code",
   "execution_count": null,
   "id": "e1f4cb11",
   "metadata": {},
   "outputs": [
    {
     "name": "stdout",
     "output_type": "stream",
     "text": [
      "Dive\n"
     ]
    }
   ],
   "source": []
  },
  {
   "cell_type": "code",
   "execution_count": null,
   "id": "2c8377e6",
   "metadata": {},
   "outputs": [],
   "source": []
  }
 ],
 "metadata": {
  "kernelspec": {
   "display_name": "base",
   "language": "python",
   "name": "python3"
  },
  "language_info": {
   "codemirror_mode": {
    "name": "ipython",
    "version": 3
   },
   "file_extension": ".py",
   "mimetype": "text/x-python",
   "name": "python",
   "nbconvert_exporter": "python",
   "pygments_lexer": "ipython3",
   "version": "3.10.14"
  }
 },
 "nbformat": 4,
 "nbformat_minor": 5
}
