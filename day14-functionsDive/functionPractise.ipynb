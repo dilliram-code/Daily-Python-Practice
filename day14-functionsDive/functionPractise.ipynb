{
 "cells": [
  {
   "cell_type": "code",
   "execution_count": null,
   "id": "57630060",
   "metadata": {},
   "outputs": [],
   "source": []
  },
  {
   "cell_type": "code",
   "execution_count": 1,
   "id": "776bc9a0",
   "metadata": {},
   "outputs": [
    {
     "name": "stdout",
     "output_type": "stream",
     "text": [
      "1 2 3\n"
     ]
    }
   ],
   "source": [
    "def func(x, y, /, z):\n",
    "    print(x, y, z)\n",
    "\n",
    "\n",
    "# x and y must be positional\n",
    "func(1, 2, z=3)    # OK\n",
    "# func(x=1, y=2, z=3)  # TypeError in CPython if positional-only"
   ]
  },
  {
   "cell_type": "code",
   "execution_count": 2,
   "id": "c79bcb1b",
   "metadata": {},
   "outputs": [
    {
     "ename": "TypeError",
     "evalue": "func() got some positional-only arguments passed as keyword arguments: 'x, y'",
     "output_type": "error",
     "traceback": [
      "\u001b[1;31m---------------------------------------------------------------------------\u001b[0m",
      "\u001b[1;31mTypeError\u001b[0m                                 Traceback (most recent call last)",
      "Cell \u001b[1;32mIn[2], line 1\u001b[0m\n\u001b[1;32m----> 1\u001b[0m \u001b[43mfunc\u001b[49m\u001b[43m(\u001b[49m\u001b[43mx\u001b[49m\u001b[38;5;241;43m=\u001b[39;49m\u001b[38;5;241;43m1\u001b[39;49m\u001b[43m,\u001b[49m\u001b[43m \u001b[49m\u001b[43my\u001b[49m\u001b[38;5;241;43m=\u001b[39;49m\u001b[38;5;241;43m2\u001b[39;49m\u001b[43m,\u001b[49m\u001b[43m \u001b[49m\u001b[43mz\u001b[49m\u001b[38;5;241;43m=\u001b[39;49m\u001b[38;5;241;43m3\u001b[39;49m\u001b[43m)\u001b[49m\n",
      "\u001b[1;31mTypeError\u001b[0m: func() got some positional-only arguments passed as keyword arguments: 'x, y'"
     ]
    }
   ],
   "source": [
    "func(x=1, y=2, z=3)"
   ]
  },
  {
   "cell_type": "markdown",
   "id": "026a2f57",
   "metadata": {},
   "source": [
    "#### Default argument evaluation & mutable defaults pitfall\n",
    "`Rule: Default argument expressions are evaluated once at function definition time, not at call time.`"
   ]
  },
  {
   "cell_type": "code",
   "execution_count": 6,
   "id": "08263203",
   "metadata": {},
   "outputs": [
    {
     "data": {
      "text/plain": [
       "[1]"
      ]
     },
     "execution_count": 6,
     "metadata": {},
     "output_type": "execute_result"
    }
   ],
   "source": [
    "# Bad practice of passing mutable as a parameter by default\n",
    "def bad_practice(value, sequence=[]):\n",
    "  sequence.append(value)\n",
    "  return sequence\n",
    "\n",
    "bad_practice(1)"
   ]
  },
  {
   "cell_type": "code",
   "execution_count": 7,
   "id": "518ecd3d",
   "metadata": {},
   "outputs": [
    {
     "data": {
      "text/plain": [
       "[1, 2]"
      ]
     },
     "execution_count": 7,
     "metadata": {},
     "output_type": "execute_result"
    }
   ],
   "source": [
    "bad_practice(2)"
   ]
  },
  {
   "cell_type": "code",
   "execution_count": 8,
   "id": "ea5a7b56",
   "metadata": {},
   "outputs": [],
   "source": [
    "# [1, 2]  <-- same list reused (surprising)"
   ]
  },
  {
   "cell_type": "code",
   "execution_count": 9,
   "id": "2b60aa2f",
   "metadata": {},
   "outputs": [
    {
     "data": {
      "text/plain": [
       "[1]"
      ]
     },
     "execution_count": 9,
     "metadata": {},
     "output_type": "execute_result"
    }
   ],
   "source": [
    "# Corrected version\n",
    "def good_practice(value, sequence=None):\n",
    "  if sequence is None:\n",
    "    sequence = []\n",
    "  sequence.append(value)\n",
    "  return sequence\n",
    "\n",
    "good_practice(1)\n"
   ]
  },
  {
   "cell_type": "code",
   "execution_count": 10,
   "id": "cf06331c",
   "metadata": {},
   "outputs": [
    {
     "data": {
      "text/plain": [
       "[2]"
      ]
     },
     "execution_count": 10,
     "metadata": {},
     "output_type": "execute_result"
    }
   ],
   "source": [
    "good_practice(2)"
   ]
  },
  {
   "cell_type": "code",
   "execution_count": 11,
   "id": "9e9bb602",
   "metadata": {},
   "outputs": [],
   "source": [
    "# Explanation: see output, this time earlier list is not reused. "
   ]
  },
  {
   "cell_type": "markdown",
   "id": "cfc7c9a8",
   "metadata": {},
   "source": [
    "##### Argument Unpacking(*/ **): List and Dict"
   ]
  },
  {
   "cell_type": "code",
   "execution_count": 13,
   "id": "428603df",
   "metadata": {},
   "outputs": [
    {
     "data": {
      "text/plain": [
       "6"
      ]
     },
     "execution_count": 13,
     "metadata": {},
     "output_type": "execute_result"
    }
   ],
   "source": [
    "def add(a,b,c): return a+b+c\n",
    "add(1,2,3)"
   ]
  },
  {
   "cell_type": "code",
   "execution_count": 15,
   "id": "4ea8a3c1",
   "metadata": {},
   "outputs": [
    {
     "data": {
      "text/plain": [
       "150"
      ]
     },
     "execution_count": 15,
     "metadata": {},
     "output_type": "execute_result"
    }
   ],
   "source": [
    "def add_us(a, b, c, d, e): return a+b+c+d+e\n",
    "myList = [10, 20, 30, 40, 50]\n",
    "\n",
    "add_us(*myList)\n",
    "\n",
    "# List is unpacked using *"
   ]
  },
  {
   "cell_type": "code",
   "execution_count": 17,
   "id": "221f4a23",
   "metadata": {},
   "outputs": [
    {
     "data": {
      "text/plain": [
       "6000"
      ]
     },
     "execution_count": 17,
     "metadata": {},
     "output_type": "execute_result"
    }
   ],
   "source": [
    "def multiply_us(a,b,c): return a*b*c\n",
    "\n",
    "myDict = {\"a\": 10, \"b\": 20, \"c\": 30}\n",
    "\n",
    "multiply_us(**myDict)\n",
    "\n",
    "# Dictionary is unpacked using **"
   ]
  },
  {
   "cell_type": "markdown",
   "id": "665002d9",
   "metadata": {},
   "source": [
    "#### Merge rules for list and dict"
   ]
  },
  {
   "cell_type": "code",
   "execution_count": 19,
   "id": "68b69474",
   "metadata": {},
   "outputs": [
    {
     "data": {
      "text/plain": [
       "['Dilli', 'Rakesh', 'Madan', 'Lucky']"
      ]
     },
     "execution_count": 19,
     "metadata": {},
     "output_type": "execute_result"
    }
   ],
   "source": [
    "main_list = [\"Dilli\", \"Rakesh\", \"Madan\"]\n",
    "merged_list = [*main_list, \"Lucky\"]\n",
    "\n",
    "merged_list\n",
    "\n",
    "# * is used to merge the list"
   ]
  },
  {
   "cell_type": "code",
   "execution_count": 23,
   "id": "898ffef5",
   "metadata": {},
   "outputs": [
    {
     "data": {
      "text/plain": [
       "{'first': 1, 'second': 2, 'third': 3, 'fourth': 4, 'fifth': 5}"
      ]
     },
     "execution_count": 23,
     "metadata": {},
     "output_type": "execute_result"
    }
   ],
   "source": [
    "main_dict = {\"first\": 1, \"second\": 2, \"third\": 3, \"fourth\": 4}\n",
    "merged_dict = {**main_dict, \"fifth\": 5}\n",
    "\n",
    "merged_dict\n",
    "# ** is used to dictionary"
   ]
  },
  {
   "cell_type": "code",
   "execution_count": 24,
   "id": "8ad58eee",
   "metadata": {},
   "outputs": [
    {
     "data": {
      "text/plain": [
       "7"
      ]
     },
     "execution_count": 24,
     "metadata": {},
     "output_type": "execute_result"
    }
   ],
   "source": [
    "# Lambda function vs Normal function\n",
    "\n",
    "# Lambda function\n",
    "addition = lambda x, y: x+y\n",
    "addition(3,4)"
   ]
  },
  {
   "cell_type": "code",
   "execution_count": 25,
   "id": "f7e5c27b",
   "metadata": {},
   "outputs": [
    {
     "data": {
      "text/plain": [
       "16"
      ]
     },
     "execution_count": 25,
     "metadata": {},
     "output_type": "execute_result"
    }
   ],
   "source": [
    "square = lambda x: x**2\n",
    "square(4)"
   ]
  },
  {
   "cell_type": "code",
   "execution_count": null,
   "id": "0db0b693",
   "metadata": {},
   "outputs": [
    {
     "data": {
      "text/plain": [
       "9"
      ]
     },
     "execution_count": 26,
     "metadata": {},
     "output_type": "execute_result"
    }
   ],
   "source": [
    "# Normal function\n",
    "# addition\n",
    "def addition(x, y):\n",
    "  return x + y\n",
    "\n",
    "addition(4,5)"
   ]
  },
  {
   "cell_type": "code",
   "execution_count": 27,
   "id": "0943c3e2",
   "metadata": {},
   "outputs": [
    {
     "data": {
      "text/plain": [
       "64"
      ]
     },
     "execution_count": 27,
     "metadata": {},
     "output_type": "execute_result"
    }
   ],
   "source": [
    "# square\n",
    "def square(x):\n",
    "  return x**2\n",
    "\n",
    "square(8)"
   ]
  },
  {
   "cell_type": "markdown",
   "id": "4ba724b6",
   "metadata": {},
   "source": [
    "##### Lambda Function inside other function"
   ]
  },
  {
   "cell_type": "code",
   "execution_count": 31,
   "id": "c3a95adf",
   "metadata": {},
   "outputs": [
    {
     "name": "stdout",
     "output_type": "stream",
     "text": [
      "[1, 4, 9, 16, 25]\n"
     ]
    }
   ],
   "source": [
    "# lambda function with map function\n",
    "numbers = [1, 2, 3, 4, 5]\n",
    "square = map(lambda x: x**2, numbers)\n",
    "\n",
    "print(list(square))"
   ]
  },
  {
   "cell_type": "code",
   "execution_count": null,
   "id": "3a0cebf4",
   "metadata": {},
   "outputs": [],
   "source": []
  },
  {
   "cell_type": "code",
   "execution_count": null,
   "id": "632fc690",
   "metadata": {},
   "outputs": [],
   "source": []
  }
 ],
 "metadata": {
  "kernelspec": {
   "display_name": "base",
   "language": "python",
   "name": "python3"
  },
  "language_info": {
   "codemirror_mode": {
    "name": "ipython",
    "version": 3
   },
   "file_extension": ".py",
   "mimetype": "text/x-python",
   "name": "python",
   "nbconvert_exporter": "python",
   "pygments_lexer": "ipython3",
   "version": "3.10.14"
  }
 },
 "nbformat": 4,
 "nbformat_minor": 5
}
