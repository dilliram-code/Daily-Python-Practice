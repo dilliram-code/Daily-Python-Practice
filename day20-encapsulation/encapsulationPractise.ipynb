{
 "cells": [
  {
   "cell_type": "code",
   "execution_count": 3,
   "id": "6d1fb82c",
   "metadata": {},
   "outputs": [
    {
     "name": "stdout",
     "output_type": "stream",
     "text": [
      "Dilli\n",
      "30\n"
     ]
    }
   ],
   "source": [
    "# public example\n",
    "class Student:\n",
    "  def __init__(self, name, age):\n",
    "    self.name = name\t\t\t\t\t\t\t# public\n",
    "    self.age = age\t\t\t\t\t\t\t\t# public\n",
    "\n",
    "s = Student(\"Dilli\", 30)\n",
    "\n",
    "print(s.name)\t\t\t\t\t\t\t\t\t\t\t# ✅ allowed\n",
    "print(s.age)\t\t\t\t\t\t\t\t\t\t\t# ✅ allowed"
   ]
  },
  {
   "cell_type": "code",
   "execution_count": null,
   "id": "092ecb92",
   "metadata": {},
   "outputs": [],
   "source": []
  }
 ],
 "metadata": {
  "kernelspec": {
   "display_name": "base",
   "language": "python",
   "name": "python3"
  },
  "language_info": {
   "codemirror_mode": {
    "name": "ipython",
    "version": 3
   },
   "file_extension": ".py",
   "mimetype": "text/x-python",
   "name": "python",
   "nbconvert_exporter": "python",
   "pygments_lexer": "ipython3",
   "version": "3.10.14"
  }
 },
 "nbformat": 4,
 "nbformat_minor": 5
}
