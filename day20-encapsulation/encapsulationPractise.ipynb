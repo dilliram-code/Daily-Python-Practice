{
 "cells": [
  {
   "cell_type": "code",
   "execution_count": null,
   "id": "6d1fb82c",
   "metadata": {},
   "outputs": [
    {
     "name": "stdout",
     "output_type": "stream",
     "text": [
      "Dilli\n",
      "30\n"
     ]
    }
   ],
   "source": [
    "# public example\n",
    "class Student:\n",
    "  def __init__(self, name, age):\n",
    "    self.name = name\t\t\t\t\t\t\t# public property\n",
    "    self.age = age\t\t\t\t\t\t\t\t# public property\n",
    "\n",
    "s = Student(\"Dilli\", 30)\n",
    "\n",
    "print(s.name)\t\t\t\t\t\t\t\t\t\t\t# ✅ allowed\n",
    "print(s.age)\t\t\t\t\t\t\t\t\t\t\t# ✅ allowed"
   ]
  },
  {
   "cell_type": "code",
   "execution_count": 7,
   "id": "092ecb92",
   "metadata": {},
   "outputs": [
    {
     "name": "stdout",
     "output_type": "stream",
     "text": [
      "Football\n",
      "11\n"
     ]
    }
   ],
   "source": [
    "# protected example(_variable)\n",
    "class Sports:\n",
    "  def __init__(self, name, players):\n",
    "    self._name = name\t\t\t\t\t\t\t\t\t\t# protected\n",
    "    self._players = players\t\t\t\t\t\t\t# protected\n",
    "    \n",
    "s1 = Sports(\"Football\", 11)\n",
    "s2 = Sports(\"Volleyball\", 6)\n",
    "\n",
    "print(s1._name)\t\t\t\t\t\t\t\t\t\t\t\t\t# ⚠️ works but not recommended\n",
    "print(s1._players)"
   ]
  },
  {
   "cell_type": "markdown",
   "id": "209ed9d5",
   "metadata": {},
   "source": [
    "Rule: Use `_var` only inside class or subclasses, though Python won’t stop you from accessing it."
   ]
  },
  {
   "cell_type": "code",
   "execution_count": 8,
   "id": "e17866d0",
   "metadata": {},
   "outputs": [],
   "source": [
    "# private example(__variable)\n",
    "class Bank:\n",
    "  def __init__(self, balance, address):\n",
    "    self.__balance = balance\t\t\t\t\t\t\t\t# private var\n",
    "    self.__address = address\t\t\t\t\t\t# private var\n",
    "    \n",
    "  def deposit(self, amount):\n",
    "    self.__balance += amount\n",
    "  \n",
    "  def get_balance(self):\n",
    "    return self.__balance\n",
    "  \n",
    "account = Bank(10000, \"Gorusinge\")\n",
    "account.deposit(400)"
   ]
  },
  {
   "cell_type": "code",
   "execution_count": 9,
   "id": "8190c503",
   "metadata": {},
   "outputs": [
    {
     "data": {
      "text/plain": [
       "10400"
      ]
     },
     "execution_count": 9,
     "metadata": {},
     "output_type": "execute_result"
    }
   ],
   "source": [
    "account.get_balance()"
   ]
  },
  {
   "cell_type": "code",
   "execution_count": 10,
   "id": "047d1598",
   "metadata": {},
   "outputs": [
    {
     "ename": "AttributeError",
     "evalue": "'Bank' object has no attribute '__balance'",
     "output_type": "error",
     "traceback": [
      "\u001b[1;31m---------------------------------------------------------------------------\u001b[0m",
      "\u001b[1;31mAttributeError\u001b[0m                            Traceback (most recent call last)",
      "Cell \u001b[1;32mIn[10], line 1\u001b[0m\n\u001b[1;32m----> 1\u001b[0m \u001b[38;5;28mprint\u001b[39m(\u001b[43maccount\u001b[49m\u001b[38;5;241;43m.\u001b[39;49m\u001b[43m__balance\u001b[49m)\n",
      "\u001b[1;31mAttributeError\u001b[0m: 'Bank' object has no attribute '__balance'"
     ]
    }
   ],
   "source": [
    "print(account.__balance)"
   ]
  },
  {
   "cell_type": "code",
   "execution_count": 12,
   "id": "cbe5e7df",
   "metadata": {},
   "outputs": [
    {
     "name": "stdout",
     "output_type": "stream",
     "text": [
      "10400\n"
     ]
    }
   ],
   "source": [
    "# ⚠️ Name mangling trick (not recommended)\n",
    "print(account._Bank__balance)"
   ]
  },
  {
   "cell_type": "code",
   "execution_count": 18,
   "id": "30b5c2ad",
   "metadata": {},
   "outputs": [
    {
     "name": "stdout",
     "output_type": "stream",
     "text": [
      "10000\n",
      "200000\n"
     ]
    }
   ],
   "source": [
    "# Encapsulation with Getters and Setters\n",
    "# We often provide getter/setter methods to safely access/modify private data.\n",
    "\n",
    "class Employee:\n",
    "  def __init__(self, name, salary):\n",
    "    self.__name = name\n",
    "    self.__salary = salary\n",
    "    \n",
    "  def get_salary(self):\n",
    "    return self.__salary\n",
    "  \n",
    "  def set_salary(self, new_salary):\n",
    "    if new_salary > 0:\n",
    "      self.__salary = new_salary\n",
    "    else:\n",
    "      print(\"Invalid input!\")\n",
    "  \n",
    "emp = Employee(\"Rakesh\", 10000)\n",
    "\n",
    "print(emp.get_salary())\n",
    "emp.set_salary(200000)\n",
    "print(emp.get_salary())"
   ]
  },
  {
   "cell_type": "code",
   "execution_count": 20,
   "id": "3195bbec",
   "metadata": {},
   "outputs": [
    {
     "name": "stdout",
     "output_type": "stream",
     "text": [
      "30\n"
     ]
    }
   ],
   "source": [
    "# staticmethod\n",
    "class Calculation:\n",
    "  \n",
    "  @staticmethod\n",
    "  def sumNumbers(first, second):\n",
    "    return first + second\n",
    "\n",
    "print(Calculation.sumNumbers(10,20))"
   ]
  },
  {
   "cell_type": "code",
   "execution_count": null,
   "id": "d64f1f42",
   "metadata": {},
   "outputs": [],
   "source": [
    "# Notice we didn’t create an object of MathUtils.\n",
    "\n",
    "# No self or cls is passed.``"
   ]
  },
  {
   "cell_type": "code",
   "execution_count": null,
   "id": "0f4be4a0",
   "metadata": {},
   "outputs": [
    {
     "name": "stdout",
     "output_type": "stream",
     "text": [
      "Instance method (needs self)\n",
      "Class method (needs cls)\n",
      "Static method(no cls or self)\n"
     ]
    }
   ],
   "source": [
    "# Difference between instancemethod, classmethod and staticmethod\n",
    "\n",
    "class City:\n",
    "  \n",
    "  # instance method\n",
    "  def instance_method(self):\n",
    "    print(\"Instance method (needs self)\")\n",
    "  \n",
    "  # classmethod\n",
    "  @classmethod\n",
    "  def class_method(cls):\n",
    "    print(\"Class method (needs cls)\")\n",
    "  \n",
    "  \n",
    "  # staticmethod\n",
    "  @staticmethod\n",
    "  def static_method():\n",
    "    print(\"Static method(no cls or self)\")\n",
    "\n",
    "city1 = City()\n",
    "\n",
    "# instance method\n",
    "city1.instance_method()    # via object\n",
    "\n",
    "# class method\n",
    "City.class_method()\t\t\t\t\t# via class\n",
    "\n",
    "# static method\n",
    "City.static_method()\t\t\t\t# via class"
   ]
  },
  {
   "cell_type": "code",
   "execution_count": 9,
   "id": "0e9a7753",
   "metadata": {},
   "outputs": [
    {
     "name": "stdout",
     "output_type": "stream",
     "text": [
      "False\n",
      "True\n"
     ]
    }
   ],
   "source": [
    "# Static method Example with encapsulation\n",
    "class PasswordValidator:\n",
    "  __min_length = 8\n",
    "  @staticmethod\n",
    "  def is_valid(password):\n",
    "    if len(password) < PasswordValidator.__min_length:\n",
    "      return False\n",
    "    if not any(c.isdigit() for c in password):\n",
    "      return False\n",
    "    return True\n",
    "  \n",
    "print(PasswordValidator.is_valid(\"abc\"))  # False as the len is lesser\n",
    "print(PasswordValidator.is_valid(\"abc123b$%%capture\"))"
   ]
  },
  {
   "cell_type": "code",
   "execution_count": 15,
   "id": "c3e2542a",
   "metadata": {},
   "outputs": [
    {
     "name": "stdout",
     "output_type": "stream",
     "text": [
      "98.6\n",
      "98.6\n",
      "<__main__.Temperature object at 0x000001D9B260CE20>\n"
     ]
    }
   ],
   "source": [
    "# Mixing @property, @staticmethod and @classmethod\n",
    "\n",
    "class Temperature:\n",
    "  def __init__(self, celsius):\n",
    "    self._celsius = celsius\n",
    "    \n",
    "  @property\n",
    "  def celsius(self):\n",
    "    return self._celsius\n",
    "  \n",
    "  @celsius.setter\n",
    "  def celsius(self, value):\n",
    "    self._celsius = value\n",
    "  \n",
    "  @staticmethod\n",
    "  def celsius_to_fahrenheit(c):\n",
    "    return (c * 9/5) + 32\n",
    "  \n",
    "  @classmethod\n",
    "  def from_fahrenheit(cls, f):\n",
    "    return cls((f - 32) * 5/9)\n",
    "    \n",
    "t = Temperature.from_fahrenheit(98.6)  # create object from fahrenheit\n",
    "\n",
    "print(t.celsius_to_fahrenheit(37))\n",
    "print(Temperature.celsius_to_fahrenheit(37))\n",
    "print(Temperature.from_fahrenheit(98.6))"
   ]
  },
  {
   "cell_type": "code",
   "execution_count": null,
   "id": "9a894bca",
   "metadata": {},
   "outputs": [],
   "source": []
  }
 ],
 "metadata": {
  "kernelspec": {
   "display_name": "base",
   "language": "python",
   "name": "python3"
  },
  "language_info": {
   "codemirror_mode": {
    "name": "ipython",
    "version": 3
   },
   "file_extension": ".py",
   "mimetype": "text/x-python",
   "name": "python",
   "nbconvert_exporter": "python",
   "pygments_lexer": "ipython3",
   "version": "3.10.14"
  }
 },
 "nbformat": 4,
 "nbformat_minor": 5
}
