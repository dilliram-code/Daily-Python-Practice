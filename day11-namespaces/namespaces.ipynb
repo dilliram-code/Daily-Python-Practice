{
 "cells": [
  {
   "cell_type": "markdown",
   "id": "1b890ba1",
   "metadata": {},
   "source": [
    "### Local and Global\n"
   ]
  },
  {
   "cell_type": "code",
   "execution_count": 11,
   "id": "81e09590",
   "metadata": {},
   "outputs": [
    {
     "name": "stdout",
     "output_type": "stream",
     "text": [
      "2\n",
      "3\n"
     ]
    }
   ],
   "source": [
    "# local and global\n",
    "a = 3\n",
    "\n",
    "def temp():\n",
    "  b = 2\n",
    "  print(b)\n",
    "\n",
    "\n",
    "temp()\n",
    "print(a)"
   ]
  },
  {
   "cell_type": "code",
   "execution_count": 2,
   "id": "f5dc4a15",
   "metadata": {},
   "outputs": [
    {
     "name": "stdout",
     "output_type": "stream",
     "text": [
      "Rakesh\n",
      "Dilli\n"
     ]
    }
   ],
   "source": [
    "# local and global same name\n",
    "name = \"Dilli\"\n",
    "\n",
    "def name_func():\n",
    "  name = \"Rakesh\"\n",
    "  print(name)\n",
    "name_func()\n",
    "print(name)"
   ]
  },
  {
   "cell_type": "code",
   "execution_count": 4,
   "id": "c5499876",
   "metadata": {},
   "outputs": [],
   "source": [
    "# Explanation:\n",
    "# The 'name' var outside the function and 'name' var inside the function has differnet scopes. They are the part of different scopes from each other. The first one is the part of global scope whereas the latter one is of local"
   ]
  },
  {
   "cell_type": "code",
   "execution_count": 5,
   "id": "509310a0",
   "metadata": {},
   "outputs": [
    {
     "name": "stdout",
     "output_type": "stream",
     "text": [
      "I am  unmarried\n",
      "unmarried\n"
     ]
    }
   ],
   "source": [
    "# local and global - local doesn't have but global has\n",
    "status = \"unmarried\"\n",
    "\n",
    "def myFunction():\n",
    "  # local variable\n",
    "  print(\"I am \", status)\n",
    "  \n",
    "myFunction()\n",
    "print(status)"
   ]
  },
  {
   "cell_type": "code",
   "execution_count": 1,
   "id": "ad4761cd",
   "metadata": {},
   "outputs": [
    {
     "ename": "UnboundLocalError",
     "evalue": "local variable 'a' referenced before assignment",
     "output_type": "error",
     "traceback": [
      "\u001b[1;31m---------------------------------------------------------------------------\u001b[0m",
      "\u001b[1;31mUnboundLocalError\u001b[0m                         Traceback (most recent call last)",
      "Cell \u001b[1;32mIn[1], line 9\u001b[0m\n\u001b[0;32m      6\u001b[0m   a \u001b[38;5;241m+\u001b[39m\u001b[38;5;241m=\u001b[39m \u001b[38;5;241m1\u001b[39m\n\u001b[0;32m      7\u001b[0m   \u001b[38;5;28mprint\u001b[39m(a)\n\u001b[1;32m----> 9\u001b[0m \u001b[43mtemp\u001b[49m\u001b[43m(\u001b[49m\u001b[43m)\u001b[49m\n\u001b[0;32m     10\u001b[0m \u001b[38;5;28mprint\u001b[39m(a)\n",
      "Cell \u001b[1;32mIn[1], line 6\u001b[0m, in \u001b[0;36mtemp\u001b[1;34m()\u001b[0m\n\u001b[0;32m      4\u001b[0m \u001b[38;5;28;01mdef\u001b[39;00m \u001b[38;5;21mtemp\u001b[39m():\n\u001b[0;32m      5\u001b[0m   \u001b[38;5;66;03m# local var\u001b[39;00m\n\u001b[1;32m----> 6\u001b[0m   a \u001b[38;5;241m+\u001b[39m\u001b[38;5;241m=\u001b[39m \u001b[38;5;241m1\u001b[39m\n\u001b[0;32m      7\u001b[0m   \u001b[38;5;28mprint\u001b[39m(a)\n",
      "\u001b[1;31mUnboundLocalError\u001b[0m: local variable 'a' referenced before assignment"
     ]
    }
   ],
   "source": [
    "# local and global --> editing level\n",
    "a = 2\n",
    "\n",
    "def temp():\n",
    "  # local var\n",
    "  a += 1\n",
    "  print(a)\n",
    "  \n",
    "temp()\n",
    "print(a)"
   ]
  },
  {
   "cell_type": "code",
   "execution_count": null,
   "id": "3c5d9add",
   "metadata": {},
   "outputs": [],
   "source": [
    "# Explanation: Although we can access the global variable, we cannot modify the global variable inside from the function\n",
    "\n",
    "# However, there is a way:"
   ]
  },
  {
   "cell_type": "code",
   "execution_count": 3,
   "id": "48904810",
   "metadata": {},
   "outputs": [
    {
     "name": "stdout",
     "output_type": "stream",
     "text": [
      "3\n",
      "3\n"
     ]
    }
   ],
   "source": [
    "a = 2\n",
    "\n",
    "\n",
    "def temp():\n",
    "  # local var\n",
    "  global a\n",
    "  a += 1\n",
    "  print(a)\n",
    "\n",
    "\n",
    "temp()\n",
    "print(a)"
   ]
  },
  {
   "cell_type": "code",
   "execution_count": 4,
   "id": "4b447ab6",
   "metadata": {},
   "outputs": [],
   "source": [
    "# To modify the global variable from the function's scope, we need the global term but this is not recommended as it can cause many issues."
   ]
  },
  {
   "cell_type": "code",
   "execution_count": 5,
   "id": "28d09edc",
   "metadata": {},
   "outputs": [
    {
     "name": "stdout",
     "output_type": "stream",
     "text": [
      "1\n",
      "1\n"
     ]
    }
   ],
   "source": [
    "# global created inside local\n",
    "def num():\n",
    "  global a\n",
    "  a = 1\n",
    "  \n",
    "  print(a)\n",
    "  \n",
    "num()\n",
    "print(a)"
   ]
  },
  {
   "cell_type": "code",
   "execution_count": 6,
   "id": "23744854",
   "metadata": {},
   "outputs": [],
   "source": [
    "# Explanation: Python allows us to create a global variable from local namespaces but this is not a good practice."
   ]
  },
  {
   "cell_type": "code",
   "execution_count": 9,
   "id": "86310a9d",
   "metadata": {},
   "outputs": [
    {
     "name": "stdout",
     "output_type": "stream",
     "text": [
      "5\n",
      "5\n"
     ]
    }
   ],
   "source": [
    "# function parameter is a local variable\n",
    "def func(z):\n",
    "  print(z)\n",
    "  \n",
    "a = 5\n",
    "func(5)\n",
    "print(a)\n",
    "# print(z)  ==> This will produce an error since we are attempting to print a var in the global space whereas the var is inside the local namespaces of the func. "
   ]
  },
  {
   "cell_type": "code",
   "execution_count": 8,
   "id": "d914e8b5",
   "metadata": {},
   "outputs": [],
   "source": [
    "# Explanation: The parameter of the function i.e. z here is a local variable. It is created under the local namespaces. \n"
   ]
  },
  {
   "cell_type": "markdown",
   "id": "1f4334d1",
   "metadata": {},
   "source": [
    "### BuildIn Scope"
   ]
  },
  {
   "cell_type": "code",
   "execution_count": 12,
   "id": "4375baa4",
   "metadata": {},
   "outputs": [
    {
     "name": "stdout",
     "output_type": "stream",
     "text": [
      "['ArithmeticError', 'AssertionError', 'AttributeError', 'BaseException', 'BlockingIOError', 'BrokenPipeError', 'BufferError', 'BytesWarning', 'ChildProcessError', 'ConnectionAbortedError', 'ConnectionError', 'ConnectionRefusedError', 'ConnectionResetError', 'DeprecationWarning', 'EOFError', 'Ellipsis', 'EncodingWarning', 'EnvironmentError', 'Exception', 'False', 'FileExistsError', 'FileNotFoundError', 'FloatingPointError', 'FutureWarning', 'GeneratorExit', 'IOError', 'ImportError', 'ImportWarning', 'IndentationError', 'IndexError', 'InterruptedError', 'IsADirectoryError', 'KeyError', 'KeyboardInterrupt', 'LookupError', 'MemoryError', 'ModuleNotFoundError', 'NameError', 'None', 'NotADirectoryError', 'NotImplemented', 'NotImplementedError', 'OSError', 'OverflowError', 'PendingDeprecationWarning', 'PermissionError', 'ProcessLookupError', 'RecursionError', 'ReferenceError', 'ResourceWarning', 'RuntimeError', 'RuntimeWarning', 'StopAsyncIteration', 'StopIteration', 'SyntaxError', 'SyntaxWarning', 'SystemError', 'SystemExit', 'TabError', 'TimeoutError', 'True', 'TypeError', 'UnboundLocalError', 'UnicodeDecodeError', 'UnicodeEncodeError', 'UnicodeError', 'UnicodeTranslateError', 'UnicodeWarning', 'UserWarning', 'ValueError', 'Warning', 'WindowsError', 'ZeroDivisionError', '__IPYTHON__', '__build_class__', '__debug__', '__doc__', '__import__', '__loader__', '__name__', '__package__', '__spec__', 'abs', 'aiter', 'all', 'anext', 'any', 'ascii', 'bin', 'bool', 'breakpoint', 'bytearray', 'bytes', 'callable', 'chr', 'classmethod', 'compile', 'complex', 'copyright', 'credits', 'delattr', 'dict', 'dir', 'display', 'divmod', 'enumerate', 'eval', 'exec', 'execfile', 'filter', 'float', 'format', 'frozenset', 'get_ipython', 'getattr', 'globals', 'hasattr', 'hash', 'help', 'hex', 'id', 'input', 'int', 'isinstance', 'issubclass', 'iter', 'len', 'license', 'list', 'locals', 'map', 'max', 'memoryview', 'min', 'next', 'object', 'oct', 'open', 'ord', 'pow', 'print', 'property', 'range', 'repr', 'reversed', 'round', 'runfile', 'set', 'setattr', 'slice', 'sorted', 'staticmethod', 'str', 'sum', 'super', 'tuple', 'type', 'vars', 'zip']\n"
     ]
    }
   ],
   "source": [
    "import builtins\n",
    "print(dir(builtins))"
   ]
  },
  {
   "cell_type": "code",
   "execution_count": 13,
   "id": "d07af7a4",
   "metadata": {},
   "outputs": [
    {
     "ename": "TypeError",
     "evalue": "max() takes 0 positional arguments but 1 was given",
     "output_type": "error",
     "traceback": [
      "\u001b[1;31m---------------------------------------------------------------------------\u001b[0m",
      "\u001b[1;31mTypeError\u001b[0m                                 Traceback (most recent call last)",
      "Cell \u001b[1;32mIn[13], line 6\u001b[0m\n\u001b[0;32m      3\u001b[0m \u001b[38;5;28;01mdef\u001b[39;00m \u001b[38;5;21mmax\u001b[39m():\n\u001b[0;32m      4\u001b[0m   \u001b[38;5;28mprint\u001b[39m(\u001b[38;5;124m\"\u001b[39m\u001b[38;5;124mhello\u001b[39m\u001b[38;5;124m\"\u001b[39m)\n\u001b[1;32m----> 6\u001b[0m \u001b[38;5;28;43mmax\u001b[39;49m\u001b[43m(\u001b[49m\u001b[43mL\u001b[49m\u001b[43m)\u001b[49m\n\u001b[0;32m      7\u001b[0m \u001b[38;5;66;03m# Guess? What could be the answer here?\u001b[39;00m\n",
      "\u001b[1;31mTypeError\u001b[0m: max() takes 0 positional arguments but 1 was given"
     ]
    }
   ],
   "source": [
    "# Interesting concept\n",
    "L = [1,2,3]\n",
    "def max():\n",
    "  print(\"hello\")\n",
    "  \n",
    "max(L)\n",
    "# Guess? What could be the answer here?"
   ]
  },
  {
   "cell_type": "markdown",
   "id": "813b1de3",
   "metadata": {},
   "source": [
    "`Explanation`: Why this happened? Here, max function(written by me) is actually trying to overwrite the builtin max(used to find the max value) function. "
   ]
  },
  {
   "cell_type": "markdown",
   "id": "045ef1f9",
   "metadata": {},
   "source": [
    "### Enclosing Scope"
   ]
  },
  {
   "cell_type": "code",
   "execution_count": 14,
   "id": "30e6e59b",
   "metadata": {},
   "outputs": [
    {
     "name": "stdout",
     "output_type": "stream",
     "text": [
      "Inner function!\n",
      "Outer function!\n",
      "Main program!\n"
     ]
    }
   ],
   "source": [
    "def outer():\n",
    "  def inner():\n",
    "    print(\"Inner function!\")\n",
    "  inner()\n",
    "  print(\"Outer function!\")\n",
    "  \n",
    "outer()\n",
    "print(\"Main program!\")"
   ]
  },
  {
   "cell_type": "code",
   "execution_count": 17,
   "id": "d6c8167a",
   "metadata": {},
   "outputs": [
    {
     "name": "stdout",
     "output_type": "stream",
     "text": [
      "3\n",
      "outer function!\n",
      "main program\n"
     ]
    }
   ],
   "source": [
    "# Enclosing scope\n",
    "def myOuter():\n",
    "  # Enclosing scope\n",
    "  a = 3\n",
    "  def myInner():\n",
    "    print(a)\n",
    "    \n",
    "  myInner()\n",
    "  print(\"outer function!\")\n",
    "  \n",
    "a = 1  \n",
    "myOuter()  \n",
    "print(\"main program\")"
   ]
  },
  {
   "cell_type": "code",
   "execution_count": 18,
   "id": "65a10b7e",
   "metadata": {},
   "outputs": [
    {
     "name": "stdout",
     "output_type": "stream",
     "text": [
      "1\n",
      "outer function!\n",
      "main program\n"
     ]
    }
   ],
   "source": [
    "def myOuter():\n",
    "  # Enclosing scope\n",
    "\n",
    "  def myInner():\n",
    "    print(a)\n",
    "\n",
    "  myInner()\n",
    "  print(\"outer function!\")\n",
    "\n",
    "\n",
    "a = 1\n",
    "myOuter()\n",
    "print(\"main program\")"
   ]
  },
  {
   "cell_type": "code",
   "execution_count": 19,
   "id": "651cf7d2",
   "metadata": {},
   "outputs": [],
   "source": [
    "# When variable doesn't exit in the function's scope, it searches in the global scope."
   ]
  },
  {
   "cell_type": "code",
   "execution_count": 21,
   "id": "c95e6753",
   "metadata": {},
   "outputs": [
    {
     "ename": "NameError",
     "evalue": "name 'b' is not defined",
     "output_type": "error",
     "traceback": [
      "\u001b[1;31m---------------------------------------------------------------------------\u001b[0m",
      "\u001b[1;31mNameError\u001b[0m                                 Traceback (most recent call last)",
      "Cell \u001b[1;32mIn[21], line 8\u001b[0m\n\u001b[0;32m      5\u001b[0m   innerFunction()\n\u001b[0;32m      6\u001b[0m   \u001b[38;5;28mprint\u001b[39m(\u001b[38;5;124m\"\u001b[39m\u001b[38;5;124mOuter Function\u001b[39m\u001b[38;5;124m\"\u001b[39m)\n\u001b[1;32m----> 8\u001b[0m \u001b[43mouterFunction\u001b[49m\u001b[43m(\u001b[49m\u001b[43m)\u001b[49m\n\u001b[0;32m      9\u001b[0m \u001b[38;5;28mprint\u001b[39m(\u001b[38;5;124m\"\u001b[39m\u001b[38;5;124mMain function!\u001b[39m\u001b[38;5;124m\"\u001b[39m)\n",
      "Cell \u001b[1;32mIn[21], line 5\u001b[0m, in \u001b[0;36mouterFunction\u001b[1;34m()\u001b[0m\n\u001b[0;32m      3\u001b[0m \u001b[38;5;28;01mdef\u001b[39;00m \u001b[38;5;21minnerFunction\u001b[39m():\n\u001b[0;32m      4\u001b[0m   \u001b[38;5;28mprint\u001b[39m(b)\n\u001b[1;32m----> 5\u001b[0m \u001b[43minnerFunction\u001b[49m\u001b[43m(\u001b[49m\u001b[43m)\u001b[49m\n\u001b[0;32m      6\u001b[0m \u001b[38;5;28mprint\u001b[39m(\u001b[38;5;124m\"\u001b[39m\u001b[38;5;124mOuter Function\u001b[39m\u001b[38;5;124m\"\u001b[39m)\n",
      "Cell \u001b[1;32mIn[21], line 4\u001b[0m, in \u001b[0;36mouterFunction.<locals>.innerFunction\u001b[1;34m()\u001b[0m\n\u001b[0;32m      3\u001b[0m \u001b[38;5;28;01mdef\u001b[39;00m \u001b[38;5;21minnerFunction\u001b[39m():\n\u001b[1;32m----> 4\u001b[0m   \u001b[38;5;28mprint\u001b[39m(\u001b[43mb\u001b[49m)\n",
      "\u001b[1;31mNameError\u001b[0m: name 'b' is not defined"
     ]
    }
   ],
   "source": [
    "# enclosing scope\n",
    "def outerFunction():\n",
    "  def innerFunction():\n",
    "    print(b)\n",
    "  innerFunction()\n",
    "  print(\"Outer Function\")\n",
    "\n",
    "outerFunction()\n",
    "print(\"Main function!\")"
   ]
  },
  {
   "cell_type": "code",
   "execution_count": 22,
   "id": "dd8cce43",
   "metadata": {},
   "outputs": [],
   "source": [
    "# Explanation: Since the variable 'b' is not defined"
   ]
  },
  {
   "cell_type": "markdown",
   "id": "172cf833",
   "metadata": {},
   "source": [
    "#### Nonlocal keyword"
   ]
  },
  {
   "cell_type": "code",
   "execution_count": null,
   "id": "73cbfbd2",
   "metadata": {},
   "outputs": [
    {
     "name": "stdout",
     "output_type": "stream",
     "text": [
      "2\n",
      "Outerone!\n",
      "MainFunction!\n"
     ]
    }
   ],
   "source": [
    "def outerOne():\n",
    "  a = 1\n",
    "  def innerOne():\n",
    "    nonlocal a \n",
    "    a += 1    # This throws an error, but using nonlocal keyword we can...\n",
    "    print(a)\n",
    "  innerOne()\n",
    "  print(\"Outerone!\")\n",
    "  \n",
    "outerOne()\n",
    "print(\"MainFunction!\")"
   ]
  },
  {
   "cell_type": "markdown",
   "id": "6c539fdd",
   "metadata": {},
   "source": [
    "### Alternatives to global"
   ]
  },
  {
   "cell_type": "code",
   "execution_count": 1,
   "id": "390360e1",
   "metadata": {},
   "outputs": [
    {
     "name": "stdout",
     "output_type": "stream",
     "text": [
      "11\n"
     ]
    }
   ],
   "source": [
    "# pass variables as paramters\n",
    "def do_increment(num):\n",
    "  num += 1\n",
    "  return num\n",
    "\n",
    "num_value = 10\n",
    "print(do_increment(num_value))"
   ]
  },
  {
   "cell_type": "code",
   "execution_count": 8,
   "id": "dbe7b86b",
   "metadata": {},
   "outputs": [
    {
     "name": "stdout",
     "output_type": "stream",
     "text": [
      "1\n",
      "2\n"
     ]
    }
   ],
   "source": [
    "# use classes and objects\n",
    "class Calculation:\n",
    "  def __init__(self):\n",
    "    self.count = 0\n",
    "  def increment(self):\n",
    "    self.count += 1\n",
    "    \n",
    "c = Calculation()\n",
    "\n",
    "# first increment\n",
    "c.increment()\n",
    "print(c.count)\n",
    "\n",
    "# second increment\n",
    "c.increment()\n",
    "print(c.count)"
   ]
  },
  {
   "cell_type": "code",
   "execution_count": 18,
   "id": "f29bcfca",
   "metadata": {},
   "outputs": [
    {
     "name": "stdout",
     "output_type": "stream",
     "text": [
      "1\n"
     ]
    }
   ],
   "source": [
    "# use nonlocal for nested functions\n",
    "def outerfunction():\n",
    "  count = 0\n",
    "  def innerfunction():\n",
    "    nonlocal count\n",
    "    count += 1\n",
    "    return count\n",
    "  return innerfunction\n",
    "counter = outerfunction()\n",
    "\n",
    "print(counter())"
   ]
  },
  {
   "cell_type": "markdown",
   "id": "1d57d227",
   "metadata": {},
   "source": [
    "#### Key takeaways!\n",
    "\n",
    "- Why Namespaces are Important?\n",
    "\n",
    "- Avoids name collisions.\n",
    "\n",
    "- Helps Python manage memory efficiently.\n",
    "\n",
    "- Makes code modular and maintainable."
   ]
  }
 ],
 "metadata": {
  "kernelspec": {
   "display_name": "base",
   "language": "python",
   "name": "python3"
  },
  "language_info": {
   "codemirror_mode": {
    "name": "ipython",
    "version": 3
   },
   "file_extension": ".py",
   "mimetype": "text/x-python",
   "name": "python",
   "nbconvert_exporter": "python",
   "pygments_lexer": "ipython3",
   "version": "3.10.14"
  }
 },
 "nbformat": 4,
 "nbformat_minor": 5
}
