{
 "cells": [
  {
   "cell_type": "code",
   "execution_count": 1,
   "id": "1b890ba1",
   "metadata": {},
   "outputs": [
    {
     "name": "stdout",
     "output_type": "stream",
     "text": [
      "2\n",
      "3\n"
     ]
    }
   ],
   "source": [
    "# local and global\n",
    "a = 3\n",
    "\n",
    "def temp():\n",
    "  b = 2\n",
    "  print(b)\n",
    "\n",
    "temp()\n",
    "print(a)"
   ]
  },
  {
   "cell_type": "code",
   "execution_count": 2,
   "id": "f5dc4a15",
   "metadata": {},
   "outputs": [
    {
     "name": "stdout",
     "output_type": "stream",
     "text": [
      "Rakesh\n",
      "Dilli\n"
     ]
    }
   ],
   "source": [
    "# local and global same name\n",
    "name = \"Dilli\"\n",
    "\n",
    "def name_func():\n",
    "  name = \"Rakesh\"\n",
    "  print(name)\n",
    "name_func()\n",
    "print(name)"
   ]
  },
  {
   "cell_type": "code",
   "execution_count": 4,
   "id": "c5499876",
   "metadata": {},
   "outputs": [],
   "source": [
    "# Explanation:\n",
    "# The 'name' var outside the function and 'name' var inside the function has differnet scopes. They are the part of different scopes from each other. The first one is the part of global scope whereas the latter one is of local"
   ]
  },
  {
   "cell_type": "code",
   "execution_count": 5,
   "id": "509310a0",
   "metadata": {},
   "outputs": [
    {
     "name": "stdout",
     "output_type": "stream",
     "text": [
      "I am  unmarried\n",
      "unmarried\n"
     ]
    }
   ],
   "source": [
    "# local and global - local doesn't have but global has\n",
    "status = \"unmarried\"\n",
    "\n",
    "def myFunction():\n",
    "  # local variable\n",
    "  print(\"I am \", status)\n",
    "  \n",
    "myFunction()\n",
    "print(status)"
   ]
  },
  {
   "cell_type": "code",
   "execution_count": null,
   "id": "ad4761cd",
   "metadata": {},
   "outputs": [],
   "source": []
  }
 ],
 "metadata": {
  "kernelspec": {
   "display_name": "base",
   "language": "python",
   "name": "python3"
  },
  "language_info": {
   "codemirror_mode": {
    "name": "ipython",
    "version": 3
   },
   "file_extension": ".py",
   "mimetype": "text/x-python",
   "name": "python",
   "nbconvert_exporter": "python",
   "pygments_lexer": "ipython3",
   "version": "3.10.14"
  }
 },
 "nbformat": 4,
 "nbformat_minor": 5
}
