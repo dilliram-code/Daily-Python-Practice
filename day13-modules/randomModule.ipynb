{
 "cells": [
  {
   "cell_type": "markdown",
   "id": "df3feed4",
   "metadata": {},
   "source": [
    "#### Random Module:\n",
    "\n",
    "- The random module in Python is part of the standard library. It provides functions to generate pseudo-random numbers, shuffle data, sample items, and more."
   ]
  },
  {
   "cell_type": "code",
   "execution_count": 1,
   "id": "0bf5a7a1",
   "metadata": {},
   "outputs": [
    {
     "name": "stdout",
     "output_type": "stream",
     "text": [
      "0.4076892750023101\n"
     ]
    }
   ],
   "source": [
    "# random.random()  => Returns a float between 0.0 and 1.0.\n",
    "import random\n",
    "\n",
    "print(random.random())"
   ]
  },
  {
   "cell_type": "code",
   "execution_count": 6,
   "id": "5795b89f",
   "metadata": {},
   "outputs": [
    {
     "data": {
      "text/plain": [
       "6.4312297025294605"
      ]
     },
     "execution_count": 6,
     "metadata": {},
     "output_type": "execute_result"
    }
   ],
   "source": [
    "# random.uniform(a, b) => Returns a float between a and b (inclusive of both ends).\n",
    "\n",
    "random.uniform(5, 10)"
   ]
  },
  {
   "cell_type": "code",
   "execution_count": 9,
   "id": "30dfbc39",
   "metadata": {},
   "outputs": [
    {
     "data": {
      "text/plain": [
       "10"
      ]
     },
     "execution_count": 9,
     "metadata": {},
     "output_type": "execute_result"
    }
   ],
   "source": [
    "# random.randint(a, b) => Returns a random integer between a and b (inclusive).\n",
    "\n",
    "random.randint(1, 10)"
   ]
  },
  {
   "cell_type": "code",
   "execution_count": 11,
   "id": "d57d3e18",
   "metadata": {},
   "outputs": [
    {
     "data": {
      "text/plain": [
       "8"
      ]
     },
     "execution_count": 11,
     "metadata": {},
     "output_type": "execute_result"
    }
   ],
   "source": [
    "# random.randrange(start, stop, step) => Works like range() but returns a random number.\n",
    "\n",
    "random.randrange(0, 10, 2)"
   ]
  },
  {
   "cell_type": "markdown",
   "id": "d2b83402",
   "metadata": {},
   "source": [
    "##### Working with sequences"
   ]
  },
  {
   "cell_type": "code",
   "execution_count": 12,
   "id": "719f20c4",
   "metadata": {},
   "outputs": [
    {
     "data": {
      "text/plain": [
       "'yellow'"
      ]
     },
     "execution_count": 12,
     "metadata": {},
     "output_type": "execute_result"
    }
   ],
   "source": [
    "# random.choice(seq) => Returns a random element from a sequence.\n",
    "colors = ['red', 'green', 'blue', 'yellow', 'white', 'black']\n",
    "random.choice(colors)"
   ]
  },
  {
   "cell_type": "code",
   "execution_count": 16,
   "id": "6366ea7a",
   "metadata": {},
   "outputs": [
    {
     "data": {
      "text/plain": [
       "[4, 3, 6]"
      ]
     },
     "execution_count": 16,
     "metadata": {},
     "output_type": "execute_result"
    }
   ],
   "source": [
    "# random.sample(seq, k=n) => Returns k unique elements (without replacement).\n",
    "roll_numbers = [1, 2, 3, 4, 5, 6, 7, 8, 9, 10]\n",
    "random.choices(roll_numbers, k = 3)"
   ]
  },
  {
   "cell_type": "code",
   "execution_count": 18,
   "id": "64a4813f",
   "metadata": {},
   "outputs": [
    {
     "name": "stdout",
     "output_type": "stream",
     "text": [
      "[50, 20, 30, 40, 60, 10]\n"
     ]
    }
   ],
   "source": [
    "# random.shuffle(seq) => Shuffles the list in-place.\n",
    "deck = [10, 20, 30, 40, 50, 60]\n",
    "random.shuffle(deck)\n",
    "print(deck)"
   ]
  },
  {
   "cell_type": "markdown",
   "id": "f24403ff",
   "metadata": {},
   "source": [
    "#### Controlling Randomness with Seeds"
   ]
  },
  {
   "cell_type": "code",
   "execution_count": 26,
   "id": "8c6ba649",
   "metadata": {},
   "outputs": [
    {
     "name": "stdout",
     "output_type": "stream",
     "text": [
      "1\n",
      "0.09158478740507359\n"
     ]
    }
   ],
   "source": [
    "# random.seed()\n",
    "# => Sets the seed for reproducibility. Same seed = same sequence of numbers.\n",
    "\n",
    "random.seed(2)\n",
    "print(random.randint(1,10)) \t\t\t# always 1\n",
    "print(random.random()) \t\t\t\t\t\t# always 0.09158478740507359"
   ]
  },
  {
   "cell_type": "markdown",
   "id": "66889026",
   "metadata": {},
   "source": [
    "#### Simulations & Mini Projects with random"
   ]
  },
  {
   "cell_type": "code",
   "execution_count": 29,
   "id": "b3bf8a5b",
   "metadata": {},
   "outputs": [
    {
     "name": "stdout",
     "output_type": "stream",
     "text": [
      "Rolled: 6\n"
     ]
    }
   ],
   "source": [
    "# simulate a die roll\n",
    "def roll_dice():\n",
    "  return random.randint(1,6)\n",
    "\n",
    "print(\"Rolled:\", roll_dice())"
   ]
  },
  {
   "cell_type": "code",
   "execution_count": 30,
   "id": "71405374",
   "metadata": {},
   "outputs": [
    {
     "name": "stdout",
     "output_type": "stream",
     "text": [
      "Coin toss:  Tail\n"
     ]
    }
   ],
   "source": [
    "# simulate a coin toss\n",
    "def coin_toss():\n",
    "  return random.choice(['Head', 'Tail'])\n",
    "\n",
    "print(\"Coin toss: \", coin_toss())"
   ]
  },
  {
   "cell_type": "code",
   "execution_count": 32,
   "id": "65837674",
   "metadata": {},
   "outputs": [
    {
     "name": "stdout",
     "output_type": "stream",
     "text": [
      "[1, 2, 3, 4, 5, 6, 7, 8, 9, 10, 11, 12, 13, 14, 15, 16, 17, 18, 19, 20, 21, 22, 23, 24, 25, 26, 27, 28, 29, 30, 31, 32, 33, 34, 35, 36, 37, 38, 39, 40, 41, 42, 43, 44, 45, 46, 47, 48, 49, 50]\n",
      "[44, 11, 28, 41, 26, 33]\n"
     ]
    }
   ],
   "source": [
    "# lottery simulator\n",
    "numbers = list(range(1,51))   # numbers from 1 to 50.\n",
    "print(numbers)\n",
    "\n",
    "lottery = random.sample(numbers, 6)\n",
    "print(lottery)"
   ]
  },
  {
   "cell_type": "code",
   "execution_count": null,
   "id": "2089f047",
   "metadata": {},
   "outputs": [],
   "source": []
  }
 ],
 "metadata": {
  "kernelspec": {
   "display_name": "base",
   "language": "python",
   "name": "python3"
  },
  "language_info": {
   "codemirror_mode": {
    "name": "ipython",
    "version": 3
   },
   "file_extension": ".py",
   "mimetype": "text/x-python",
   "name": "python",
   "nbconvert_exporter": "python",
   "pygments_lexer": "ipython3",
   "version": "3.10.14"
  }
 },
 "nbformat": 4,
 "nbformat_minor": 5
}
