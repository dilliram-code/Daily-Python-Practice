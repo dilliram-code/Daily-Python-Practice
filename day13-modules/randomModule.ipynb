{
 "cells": [
  {
   "cell_type": "markdown",
   "id": "df3feed4",
   "metadata": {},
   "source": [
    "#### Random Module:\n",
    "\n",
    "- The random module in Python is part of the standard library. It provides functions to generate pseudo-random numbers, shuffle data, sample items, and more."
   ]
  },
  {
   "cell_type": "code",
   "execution_count": 1,
   "id": "0bf5a7a1",
   "metadata": {},
   "outputs": [
    {
     "name": "stdout",
     "output_type": "stream",
     "text": [
      "0.4076892750023101\n"
     ]
    }
   ],
   "source": [
    "# random.random()  => Returns a float between 0.0 and 1.0.\n",
    "import random\n",
    "\n",
    "print(random.random())"
   ]
  },
  {
   "cell_type": "code",
   "execution_count": 6,
   "id": "5795b89f",
   "metadata": {},
   "outputs": [
    {
     "data": {
      "text/plain": [
       "6.4312297025294605"
      ]
     },
     "execution_count": 6,
     "metadata": {},
     "output_type": "execute_result"
    }
   ],
   "source": [
    "# random.uniform(a, b) => Returns a float between a and b (inclusive of both ends).\n",
    "\n",
    "random.uniform(5, 10)"
   ]
  },
  {
   "cell_type": "code",
   "execution_count": 9,
   "id": "30dfbc39",
   "metadata": {},
   "outputs": [
    {
     "data": {
      "text/plain": [
       "10"
      ]
     },
     "execution_count": 9,
     "metadata": {},
     "output_type": "execute_result"
    }
   ],
   "source": [
    "# random.randint(a, b) => Returns a random integer between a and b (inclusive).\n",
    "\n",
    "random.randint(1, 10)"
   ]
  },
  {
   "cell_type": "code",
   "execution_count": 11,
   "id": "d57d3e18",
   "metadata": {},
   "outputs": [
    {
     "data": {
      "text/plain": [
       "8"
      ]
     },
     "execution_count": 11,
     "metadata": {},
     "output_type": "execute_result"
    }
   ],
   "source": [
    "# random.randrange(start, stop, step) => Works like range() but returns a random number.\n",
    "\n",
    "random.randrange(0, 10, 2)"
   ]
  },
  {
   "cell_type": "markdown",
   "id": "d2b83402",
   "metadata": {},
   "source": [
    "##### Working with sequences"
   ]
  },
  {
   "cell_type": "code",
   "execution_count": 12,
   "id": "719f20c4",
   "metadata": {},
   "outputs": [
    {
     "data": {
      "text/plain": [
       "'yellow'"
      ]
     },
     "execution_count": 12,
     "metadata": {},
     "output_type": "execute_result"
    }
   ],
   "source": [
    "# random.choice(seq) => Returns a random element from a sequence.\n",
    "colors = ['red', 'green', 'blue', 'yellow', 'white', 'black']\n",
    "random.choice(colors)"
   ]
  },
  {
   "cell_type": "code",
   "execution_count": 16,
   "id": "6366ea7a",
   "metadata": {},
   "outputs": [
    {
     "data": {
      "text/plain": [
       "[4, 3, 6]"
      ]
     },
     "execution_count": 16,
     "metadata": {},
     "output_type": "execute_result"
    }
   ],
   "source": [
    "# random.sample(seq, k=n) => Returns k unique elements (without replacement).\n",
    "roll_numbers = [1, 2, 3, 4, 5, 6, 7, 8, 9, 10]\n",
    "random.choices(roll_numbers, k = 3)"
   ]
  },
  {
   "cell_type": "code",
   "execution_count": 18,
   "id": "64a4813f",
   "metadata": {},
   "outputs": [
    {
     "name": "stdout",
     "output_type": "stream",
     "text": [
      "[50, 20, 30, 40, 60, 10]\n"
     ]
    }
   ],
   "source": [
    "# random.shuffle(seq) => Shuffles the list in-place.\n",
    "deck = [10, 20, 30, 40, 50, 60]\n",
    "random.shuffle(deck)\n",
    "print(deck)"
   ]
  },
  {
   "cell_type": "code",
   "execution_count": null,
   "id": "f24403ff",
   "metadata": {},
   "outputs": [],
   "source": []
  }
 ],
 "metadata": {
  "kernelspec": {
   "display_name": "base",
   "language": "python",
   "name": "python3"
  },
  "language_info": {
   "codemirror_mode": {
    "name": "ipython",
    "version": 3
   },
   "file_extension": ".py",
   "mimetype": "text/x-python",
   "name": "python",
   "nbconvert_exporter": "python",
   "pygments_lexer": "ipython3",
   "version": "3.10.14"
  }
 },
 "nbformat": 4,
 "nbformat_minor": 5
}
