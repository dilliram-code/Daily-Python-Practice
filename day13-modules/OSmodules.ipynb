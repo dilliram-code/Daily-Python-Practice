{
 "cells": [
  {
   "cell_type": "markdown",
   "id": "2e445be0",
   "metadata": {},
   "source": [
    "#### OS Module\n",
    "\n",
    "- The os module in Python allows you to interact with the Operating System. It provides functions for:\n",
    "\n",
    "`Working with files & directories`\n",
    "\n",
    "`Managing paths`\n",
    "\n",
    "`Handling environment variables`\n",
    "\n",
    "`Executing system commands`\n",
    "\n",
    "`Gathering system information`"
   ]
  },
  {
   "cell_type": "code",
   "execution_count": 1,
   "id": "7d2df788",
   "metadata": {},
   "outputs": [
    {
     "name": "stdout",
     "output_type": "stream",
     "text": [
      "Current working directory: c:\\Users\\Dell\\OneDrive - MSFT\\Desktop\\Daily-Python-Practice\\day13-modules\n"
     ]
    }
   ],
   "source": [
    "import os\n",
    "\n",
    "# Get current working directory\n",
    "print(\"Current working directory:\", os.getcwd())"
   ]
  },
  {
   "cell_type": "code",
   "execution_count": 2,
   "id": "be28c5c2",
   "metadata": {},
   "outputs": [],
   "source": [
    "# Change directory\n",
    "os.chdir(\"..\")   # Go one level up"
   ]
  },
  {
   "cell_type": "code",
   "execution_count": 3,
   "id": "1d176d2f",
   "metadata": {},
   "outputs": [
    {
     "name": "stdout",
     "output_type": "stream",
     "text": [
      "Changed Directory: c:\\Users\\Dell\\OneDrive - MSFT\\Desktop\\Daily-Python-Practice\n"
     ]
    }
   ],
   "source": [
    "print(\"Changed Directory:\", os.getcwd())"
   ]
  },
  {
   "cell_type": "markdown",
   "id": "dc94c842",
   "metadata": {},
   "source": [
    "`🔹 os.getcwd() → returns the current working directory.`\n",
    "\n",
    "`🔹 os.chdir(path) → changes the working directory.`"
   ]
  },
  {
   "cell_type": "code",
   "execution_count": 4,
   "id": "611ffd43",
   "metadata": {},
   "outputs": [
    {
     "name": "stdout",
     "output_type": "stream",
     "text": [
      "['.git', '.vscode', 'advanced.png', 'backup_notes.csv', 'csv_file.md', 'day1', 'day10-decorator-generator-etc', 'day11-namespaces', 'day12-closures', 'day13-modules', 'day14-functionsDive', 'day15-recursion', 'day16-Regex', 'day2', 'day3', 'day4', 'day5', 'day6', 'day7-file_handling', 'day8-dictionary', 'day9-exception-handling', 'destination.txt', 'interview.md', 'my_notes.txt', 'notes.csv', 'PythonProjects', 'pythonSyllabus.md', 'README.md', 'shutil1.txt', 'shutil2.txt', 'shutil_module_practice.py', 'source.txt']\n"
     ]
    }
   ],
   "source": [
    "# List files/folders in current directory\n",
    "\n",
    "print(os.listdir())"
   ]
  },
  {
   "cell_type": "code",
   "execution_count": 5,
   "id": "91ba0fe4",
   "metadata": {},
   "outputs": [
    {
     "name": "stdout",
     "output_type": "stream",
     "text": [
      "['All Users', 'Default', 'Default User', 'Dell', 'desktop.ini', 'Public']\n"
     ]
    }
   ],
   "source": [
    "# List files in a specific directory\n",
    "print(os.listdir(\"C:/Users\"))"
   ]
  },
  {
   "cell_type": "markdown",
   "id": "926eb690",
   "metadata": {},
   "source": [
    "##### Creating and Removing Directories"
   ]
  },
  {
   "cell_type": "code",
   "execution_count": 6,
   "id": "703aba74",
   "metadata": {},
   "outputs": [],
   "source": [
    "# Create single directory\n",
    "os.mkdir(\"test_folder\")"
   ]
  },
  {
   "cell_type": "code",
   "execution_count": 7,
   "id": "bf735734",
   "metadata": {},
   "outputs": [
    {
     "data": {
      "text/plain": [
       "['.git',\n",
       " '.vscode',\n",
       " 'advanced.png',\n",
       " 'backup_notes.csv',\n",
       " 'csv_file.md',\n",
       " 'day1',\n",
       " 'day10-decorator-generator-etc',\n",
       " 'day11-namespaces',\n",
       " 'day12-closures',\n",
       " 'day13-modules',\n",
       " 'day14-functionsDive',\n",
       " 'day15-recursion',\n",
       " 'day16-Regex',\n",
       " 'day2',\n",
       " 'day3',\n",
       " 'day4',\n",
       " 'day5',\n",
       " 'day6',\n",
       " 'day7-file_handling',\n",
       " 'day8-dictionary',\n",
       " 'day9-exception-handling',\n",
       " 'destination.txt',\n",
       " 'interview.md',\n",
       " 'my_notes.txt',\n",
       " 'notes.csv',\n",
       " 'PythonProjects',\n",
       " 'pythonSyllabus.md',\n",
       " 'README.md',\n",
       " 'shutil1.txt',\n",
       " 'shutil2.txt',\n",
       " 'shutil_module_practice.py',\n",
       " 'source.txt',\n",
       " 'test_folder']"
      ]
     },
     "execution_count": 7,
     "metadata": {},
     "output_type": "execute_result"
    }
   ],
   "source": [
    "os.listdir()"
   ]
  },
  {
   "cell_type": "code",
   "execution_count": 8,
   "id": "e9e51814",
   "metadata": {},
   "outputs": [],
   "source": [
    "# Explanation: see the last folder this has been created recently."
   ]
  },
  {
   "cell_type": "code",
   "execution_count": 9,
   "id": "ff3cada5",
   "metadata": {},
   "outputs": [],
   "source": [
    "# Create nested directories\n",
    "os.makedirs(\"parent/children/grandchildren\")"
   ]
  },
  {
   "cell_type": "code",
   "execution_count": 10,
   "id": "61640c92",
   "metadata": {},
   "outputs": [
    {
     "data": {
      "text/plain": [
       "['.git',\n",
       " '.vscode',\n",
       " 'advanced.png',\n",
       " 'backup_notes.csv',\n",
       " 'csv_file.md',\n",
       " 'day1',\n",
       " 'day10-decorator-generator-etc',\n",
       " 'day11-namespaces',\n",
       " 'day12-closures',\n",
       " 'day13-modules',\n",
       " 'day14-functionsDive',\n",
       " 'day15-recursion',\n",
       " 'day16-Regex',\n",
       " 'day2',\n",
       " 'day3',\n",
       " 'day4',\n",
       " 'day5',\n",
       " 'day6',\n",
       " 'day7-file_handling',\n",
       " 'day8-dictionary',\n",
       " 'day9-exception-handling',\n",
       " 'destination.txt',\n",
       " 'interview.md',\n",
       " 'my_notes.txt',\n",
       " 'notes.csv',\n",
       " 'parent',\n",
       " 'PythonProjects',\n",
       " 'pythonSyllabus.md',\n",
       " 'README.md',\n",
       " 'shutil1.txt',\n",
       " 'shutil2.txt',\n",
       " 'shutil_module_practice.py',\n",
       " 'source.txt',\n",
       " 'test_folder']"
      ]
     },
     "execution_count": 10,
     "metadata": {},
     "output_type": "execute_result"
    }
   ],
   "source": [
    "os.listdir()"
   ]
  },
  {
   "cell_type": "code",
   "execution_count": 11,
   "id": "2a9e1b76",
   "metadata": {},
   "outputs": [],
   "source": [
    "# Remove empty directory\n",
    "os.rmdir(\"test_folder\")"
   ]
  },
  {
   "cell_type": "code",
   "execution_count": 12,
   "id": "eab22a23",
   "metadata": {},
   "outputs": [
    {
     "data": {
      "text/plain": [
       "['.git',\n",
       " '.vscode',\n",
       " 'advanced.png',\n",
       " 'backup_notes.csv',\n",
       " 'csv_file.md',\n",
       " 'day1',\n",
       " 'day10-decorator-generator-etc',\n",
       " 'day11-namespaces',\n",
       " 'day12-closures',\n",
       " 'day13-modules',\n",
       " 'day14-functionsDive',\n",
       " 'day15-recursion',\n",
       " 'day16-Regex',\n",
       " 'day2',\n",
       " 'day3',\n",
       " 'day4',\n",
       " 'day5',\n",
       " 'day6',\n",
       " 'day7-file_handling',\n",
       " 'day8-dictionary',\n",
       " 'day9-exception-handling',\n",
       " 'destination.txt',\n",
       " 'interview.md',\n",
       " 'my_notes.txt',\n",
       " 'notes.csv',\n",
       " 'parent',\n",
       " 'PythonProjects',\n",
       " 'pythonSyllabus.md',\n",
       " 'README.md',\n",
       " 'shutil1.txt',\n",
       " 'shutil2.txt',\n",
       " 'shutil_module_practice.py',\n",
       " 'source.txt']"
      ]
     },
     "execution_count": 12,
     "metadata": {},
     "output_type": "execute_result"
    }
   ],
   "source": [
    "os.listdir()"
   ]
  },
  {
   "cell_type": "code",
   "execution_count": 13,
   "id": "4c21fdbf",
   "metadata": {},
   "outputs": [],
   "source": [
    "# You won't see the \"test_folder\" in the folder list"
   ]
  },
  {
   "cell_type": "code",
   "execution_count": 14,
   "id": "7e94986f",
   "metadata": {},
   "outputs": [],
   "source": [
    "# Remove nested directories\n",
    "os.removedirs(\"parent/children/grandchildren\")"
   ]
  },
  {
   "cell_type": "code",
   "execution_count": 15,
   "id": "591eedca",
   "metadata": {},
   "outputs": [
    {
     "data": {
      "text/plain": [
       "['.git',\n",
       " '.vscode',\n",
       " 'advanced.png',\n",
       " 'backup_notes.csv',\n",
       " 'csv_file.md',\n",
       " 'day1',\n",
       " 'day10-decorator-generator-etc',\n",
       " 'day11-namespaces',\n",
       " 'day12-closures',\n",
       " 'day13-modules',\n",
       " 'day14-functionsDive',\n",
       " 'day15-recursion',\n",
       " 'day16-Regex',\n",
       " 'day2',\n",
       " 'day3',\n",
       " 'day4',\n",
       " 'day5',\n",
       " 'day6',\n",
       " 'day7-file_handling',\n",
       " 'day8-dictionary',\n",
       " 'day9-exception-handling',\n",
       " 'destination.txt',\n",
       " 'interview.md',\n",
       " 'my_notes.txt',\n",
       " 'notes.csv',\n",
       " 'PythonProjects',\n",
       " 'pythonSyllabus.md',\n",
       " 'README.md',\n",
       " 'shutil1.txt',\n",
       " 'shutil2.txt',\n",
       " 'shutil_module_practice.py',\n",
       " 'source.txt']"
      ]
     },
     "execution_count": 15,
     "metadata": {},
     "output_type": "execute_result"
    }
   ],
   "source": [
    "os.listdir()"
   ]
  },
  {
   "cell_type": "code",
   "execution_count": 16,
   "id": "2fbf4dbd",
   "metadata": {},
   "outputs": [],
   "source": [
    "# You won't see the directory in the list"
   ]
  },
  {
   "cell_type": "markdown",
   "id": "1d17e842",
   "metadata": {},
   "source": [
    "`⚠️ os.rmdir() and os.removedirs() only remove empty directories.`"
   ]
  },
  {
   "cell_type": "markdown",
   "id": "b61b1ee2",
   "metadata": {},
   "source": [
    "`For deleting non-empty folders, use shutil.rmtree() (from shutil module).`"
   ]
  },
  {
   "cell_type": "code",
   "execution_count": 17,
   "id": "5d17f55f",
   "metadata": {},
   "outputs": [],
   "source": [
    "# File operations\n",
    "\n",
    "# Rename a file\n",
    "os.rename(\"rename.txt\", \"iamrenamed.txt\")"
   ]
  },
  {
   "cell_type": "code",
   "execution_count": 18,
   "id": "2297cf21",
   "metadata": {},
   "outputs": [],
   "source": [
    "#  Remove a file\n",
    "os.remove(\"iamrenamed.txt\")"
   ]
  },
  {
   "cell_type": "markdown",
   "id": "e5ef6c05",
   "metadata": {},
   "source": [
    "##### Checking File/Directory Information"
   ]
  },
  {
   "cell_type": "code",
   "execution_count": 20,
   "id": "ce093b34",
   "metadata": {},
   "outputs": [
    {
     "name": "stdout",
     "output_type": "stream",
     "text": [
      "False\n"
     ]
    }
   ],
   "source": [
    "#  Check if path exists\n",
    "print(os.path.exists(\"imahero.txt\"))"
   ]
  },
  {
   "cell_type": "code",
   "execution_count": 21,
   "id": "434b19c3",
   "metadata": {},
   "outputs": [
    {
     "name": "stdout",
     "output_type": "stream",
     "text": [
      "True\n"
     ]
    }
   ],
   "source": [
    "print(os.path.exists(\"shutil1.txt\"))"
   ]
  },
  {
   "cell_type": "code",
   "execution_count": 22,
   "id": "75bdedaf",
   "metadata": {},
   "outputs": [
    {
     "name": "stdout",
     "output_type": "stream",
     "text": [
      "True\n"
     ]
    }
   ],
   "source": [
    "# Check if it's a file\n",
    "print(os.path.isfile(\"my_notes.txt\"))"
   ]
  },
  {
   "cell_type": "code",
   "execution_count": 26,
   "id": "95c729d0",
   "metadata": {},
   "outputs": [
    {
     "name": "stdout",
     "output_type": "stream",
     "text": [
      "True\n"
     ]
    }
   ],
   "source": [
    "print(os.path.isfile(\"backup_notes.csv\"))"
   ]
  },
  {
   "cell_type": "code",
   "execution_count": null,
   "id": "8eb01265",
   "metadata": {},
   "outputs": [
    {
     "name": "stdout",
     "output_type": "stream",
     "text": [
      "False\n"
     ]
    }
   ],
   "source": [
    "print(os.path.isfile(\"day15-recursion\")) # False as it is a directory."
   ]
  },
  {
   "cell_type": "code",
   "execution_count": 28,
   "id": "2c2c8263",
   "metadata": {},
   "outputs": [
    {
     "name": "stdout",
     "output_type": "stream",
     "text": [
      "True\n"
     ]
    }
   ],
   "source": [
    "print(os.path.isfile(\"README.md\"))"
   ]
  },
  {
   "cell_type": "code",
   "execution_count": 29,
   "id": "cd3a233b",
   "metadata": {},
   "outputs": [
    {
     "name": "stdout",
     "output_type": "stream",
     "text": [
      "False\n"
     ]
    }
   ],
   "source": [
    "#  Check if it's a directory\n",
    "print(os.path.isdir(\"some_folder\"))"
   ]
  },
  {
   "cell_type": "code",
   "execution_count": 30,
   "id": "78f20a4a",
   "metadata": {},
   "outputs": [
    {
     "name": "stdout",
     "output_type": "stream",
     "text": [
      "181\n"
     ]
    }
   ],
   "source": [
    "# Get file size\n",
    "print(os.path.getsize(\"notes.csv\"))"
   ]
  },
  {
   "cell_type": "markdown",
   "id": "d36dbf9f",
   "metadata": {},
   "source": [
    "##### Using os.path for Path Manipulation"
   ]
  },
  {
   "cell_type": "code",
   "execution_count": 31,
   "id": "ed8c6cf0",
   "metadata": {},
   "outputs": [
    {
     "name": "stdout",
     "output_type": "stream",
     "text": [
      "C:/Users/test\n"
     ]
    }
   ],
   "source": [
    "path = \"C:/Users/test/example.txt\"\n",
    "\n",
    "# Get directory name\n",
    "print(os.path.dirname(path))"
   ]
  },
  {
   "cell_type": "code",
   "execution_count": 32,
   "id": "a6b34ffc",
   "metadata": {},
   "outputs": [
    {
     "name": "stdout",
     "output_type": "stream",
     "text": [
      "example.txt\n"
     ]
    }
   ],
   "source": [
    "# Get base filename\n",
    "print(os.path.basename(path))"
   ]
  },
  {
   "cell_type": "code",
   "execution_count": 33,
   "id": "931c8715",
   "metadata": {},
   "outputs": [
    {
     "name": "stdout",
     "output_type": "stream",
     "text": [
      "('C:/Users/test', 'example.txt')\n"
     ]
    }
   ],
   "source": [
    "# Split path into (dir, file)\n",
    "print(os.path.split(path))"
   ]
  },
  {
   "cell_type": "code",
   "execution_count": 35,
   "id": "a4544241",
   "metadata": {},
   "outputs": [
    {
     "name": "stdout",
     "output_type": "stream",
     "text": [
      "('C:/Users/test/example', '.txt')\n"
     ]
    }
   ],
   "source": [
    "# Split filename and extension\n",
    "print(os.path.splitext(path))"
   ]
  },
  {
   "cell_type": "code",
   "execution_count": 36,
   "id": "cf4fee79",
   "metadata": {},
   "outputs": [
    {
     "name": "stdout",
     "output_type": "stream",
     "text": [
      "C:/Users\\test\\example.txt\n"
     ]
    }
   ],
   "source": [
    "# Join paths safely\n",
    "print(os.path.join(\"C:/Users\", \"test\", \"example.txt\"))"
   ]
  },
  {
   "cell_type": "markdown",
   "id": "2f5741ba",
   "metadata": {},
   "source": [
    "#### Environment Variables"
   ]
  },
  {
   "cell_type": "code",
   "execution_count": 37,
   "id": "ccb10b59",
   "metadata": {},
   "outputs": [
    {
     "name": "stdout",
     "output_type": "stream",
     "text": [
      "c:\\Users\\Dell\\anaconda3;C:\\Users\\Dell\\anaconda3;C:\\Users\\Dell\\anaconda3\\Library\\mingw-w64\\bin;C:\\Users\\Dell\\anaconda3\\Library\\usr\\bin;C:\\Users\\Dell\\anaconda3\\Library\\bin;C:\\Users\\Dell\\anaconda3\\Scripts;C:\\Users\\Dell\\anaconda3\\bin;C:\\Users\\Dell\\anaconda3\\condabin;C:\\WINDOWS\\system32;C:\\WINDOWS;C:\\WINDOWS\\System32\\Wbem;C:\\WINDOWS\\System32\\WindowsPowerShell\\v1.0;C:\\WINDOWS\\System32\\OpenSSH;C:\\Users\\Dell\\AppData\\Local\\Programs\\Python\\Python311;C:\\Program Files\\Git\\cmd;C:\\Program Files\\nodejs;C:\\Program Files\\MongoDB\\Server\\6.0\\bin;C:\\Program Files\\MongoDB\\Server\\6.0\\bin;C:\\Program Files\\Microsoft SQL Server\\Client SDK\\ODBC\\110\\Tools\\Binn;C:\\Program Files (x86)\\Microsoft SQL Server\\120\\Tools\\Binn;C:\\Program Files\\Microsoft SQL Server\\120\\Tools\\Binn;C:\\Program Files\\Microsoft SQL Server\\120\\DTS\\Binn;C:\\Program Files (x86)\\Microsoft SQL Server\\120\\Tools\\Binn\\ManagementStudio;C:\\Program Files (x86)\\Microsoft SQL Server\\120\\DTS\\Binn;C:\\MinGW\\bin;C:\\MinGW\\bin;C:\\Users\\Dell\\.console-ninja\\.bin;C:\\Users\\Dell\\anaconda3;C:\\Users\\Dell\\anaconda3\\Library\\mingw-w64\\bin;C:\\Users\\Dell\\anaconda3\\Library\\usr\\bin;C:\\Users\\Dell\\anaconda3\\Library\\bin;C:\\Users\\Dell\\anaconda3\\Scripts;C:\\Program Files\\MySQL\\MySQL Shell 8.0\\bin;C:\\Users\\Dell\\AppData\\Local\\Programs\\Python\\Python310\\Scripts;C:\\Users\\Dell\\AppData\\Local\\Programs\\Python\\Python310;C:\\Users\\Dell\\AppData\\Local\\Microsoft\\WindowsApps;C:\\Users\\Dell\\AppData\\Roaming\\npm;C:\\Users\\Dell\\AppData\\Local\\Programs\\Hyper\\resources\\bin;C:\\Program Files\\MongoDB\\Server\\6.0\\bin;C:\\Program Files\\JetBrains\\PyCharm Community Edition 2023.1\\bin;C:\\Users\\Dell\\AppData\\Local\\JetBrains\\Toolbox\\scripts;C:\\Users\\Dell\\AppData\\Local\\Programs\\Microsoft VS Code\\bin\n"
     ]
    }
   ],
   "source": [
    "# Get environment variable\n",
    "print(os.environ.get(\"PATH\"))"
   ]
  },
  {
   "cell_type": "code",
   "execution_count": 39,
   "id": "deca8279",
   "metadata": {},
   "outputs": [
    {
     "name": "stdout",
     "output_type": "stream",
     "text": [
      "HelloWorld\n"
     ]
    }
   ],
   "source": [
    "# Set environment variable\n",
    "os.environ[\"My_Var\"] = \"HelloWorld\"\n",
    "print(os.environ[\"My_Var\"])"
   ]
  },
  {
   "cell_type": "code",
   "execution_count": null,
   "id": "9c916f3e",
   "metadata": {},
   "outputs": [],
   "source": []
  }
 ],
 "metadata": {
  "kernelspec": {
   "display_name": "base",
   "language": "python",
   "name": "python3"
  },
  "language_info": {
   "codemirror_mode": {
    "name": "ipython",
    "version": 3
   },
   "file_extension": ".py",
   "mimetype": "text/x-python",
   "name": "python",
   "nbconvert_exporter": "python",
   "pygments_lexer": "ipython3",
   "version": "3.10.14"
  }
 },
 "nbformat": 4,
 "nbformat_minor": 5
}
