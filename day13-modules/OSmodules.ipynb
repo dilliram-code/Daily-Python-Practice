{
 "cells": [
  {
   "cell_type": "markdown",
   "id": "2e445be0",
   "metadata": {},
   "source": [
    "#### OS Module\n",
    "\n",
    "- The os module in Python allows you to interact with the Operating System. It provides functions for:\n",
    "\n",
    "`Working with files & directories`\n",
    "\n",
    "`Managing paths`\n",
    "\n",
    "`Handling environment variables`\n",
    "\n",
    "`Executing system commands`\n",
    "\n",
    "`Gathering system information`"
   ]
  },
  {
   "cell_type": "code",
   "execution_count": 1,
   "id": "7d2df788",
   "metadata": {},
   "outputs": [
    {
     "name": "stdout",
     "output_type": "stream",
     "text": [
      "Current working directory: c:\\Users\\Dell\\OneDrive - MSFT\\Desktop\\Daily-Python-Practice\\day13-modules\n"
     ]
    }
   ],
   "source": [
    "import os\n",
    "\n",
    "# Get current working directory\n",
    "print(\"Current working directory:\", os.getcwd())"
   ]
  },
  {
   "cell_type": "code",
   "execution_count": 2,
   "id": "be28c5c2",
   "metadata": {},
   "outputs": [],
   "source": [
    "# Change directory\n",
    "os.chdir(\"..\")   # Go one level up"
   ]
  },
  {
   "cell_type": "code",
   "execution_count": 3,
   "id": "1d176d2f",
   "metadata": {},
   "outputs": [
    {
     "name": "stdout",
     "output_type": "stream",
     "text": [
      "Changed Directory: c:\\Users\\Dell\\OneDrive - MSFT\\Desktop\\Daily-Python-Practice\n"
     ]
    }
   ],
   "source": [
    "print(\"Changed Directory:\", os.getcwd())"
   ]
  },
  {
   "cell_type": "markdown",
   "id": "dc94c842",
   "metadata": {},
   "source": [
    "`🔹 os.getcwd() → returns the current working directory.`\n",
    "\n",
    "`🔹 os.chdir(path) → changes the working directory.`"
   ]
  },
  {
   "cell_type": "code",
   "execution_count": null,
   "id": "611ffd43",
   "metadata": {},
   "outputs": [],
   "source": []
  }
 ],
 "metadata": {
  "kernelspec": {
   "display_name": "base",
   "language": "python",
   "name": "python3"
  },
  "language_info": {
   "codemirror_mode": {
    "name": "ipython",
    "version": 3
   },
   "file_extension": ".py",
   "mimetype": "text/x-python",
   "name": "python",
   "nbconvert_exporter": "python",
   "pygments_lexer": "ipython3",
   "version": "3.10.14"
  }
 },
 "nbformat": 4,
 "nbformat_minor": 5
}
