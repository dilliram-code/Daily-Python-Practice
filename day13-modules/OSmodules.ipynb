{
 "cells": [
  {
   "cell_type": "markdown",
   "id": "2e445be0",
   "metadata": {},
   "source": [
    "#### OS Module\n",
    "\n",
    "- The os module in Python allows you to interact with the Operating System. It provides functions for:\n",
    "\n",
    "`Working with files & directories`\n",
    "\n",
    "`Managing paths`\n",
    "\n",
    "`Handling environment variables`\n",
    "\n",
    "`Executing system commands`\n",
    "\n",
    "`Gathering system information`"
   ]
  },
  {
   "cell_type": "code",
   "execution_count": null,
   "id": "7d2df788",
   "metadata": {},
   "outputs": [],
   "source": []
  },
  {
   "cell_type": "code",
   "execution_count": null,
   "id": "be28c5c2",
   "metadata": {},
   "outputs": [],
   "source": []
  }
 ],
 "metadata": {
  "language_info": {
   "name": "python"
  }
 },
 "nbformat": 4,
 "nbformat_minor": 5
}
