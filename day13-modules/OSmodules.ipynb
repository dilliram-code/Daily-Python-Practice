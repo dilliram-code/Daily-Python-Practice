{
 "cells": [
  {
   "cell_type": "markdown",
   "id": "2e445be0",
   "metadata": {},
   "source": [
    "#### OS Module\n",
    "\n",
    "- The os module in Python allows you to interact with the Operating System. It provides functions for:\n",
    "\n",
    "`Working with files & directories`\n",
    "\n",
    "`Managing paths`\n",
    "\n",
    "`Handling environment variables`\n",
    "\n",
    "`Executing system commands`\n",
    "\n",
    "`Gathering system information`"
   ]
  },
  {
   "cell_type": "code",
   "execution_count": 1,
   "id": "7d2df788",
   "metadata": {},
   "outputs": [
    {
     "name": "stdout",
     "output_type": "stream",
     "text": [
      "Current working directory: c:\\Users\\Dell\\OneDrive - MSFT\\Desktop\\Daily-Python-Practice\\day13-modules\n"
     ]
    }
   ],
   "source": [
    "import os\n",
    "\n",
    "# Get current working directory\n",
    "print(\"Current working directory:\", os.getcwd())"
   ]
  },
  {
   "cell_type": "code",
   "execution_count": 2,
   "id": "be28c5c2",
   "metadata": {},
   "outputs": [],
   "source": [
    "# Change directory\n",
    "os.chdir(\"..\")   # Go one level up"
   ]
  },
  {
   "cell_type": "code",
   "execution_count": 3,
   "id": "1d176d2f",
   "metadata": {},
   "outputs": [
    {
     "name": "stdout",
     "output_type": "stream",
     "text": [
      "Changed Directory: c:\\Users\\Dell\\OneDrive - MSFT\\Desktop\\Daily-Python-Practice\n"
     ]
    }
   ],
   "source": [
    "print(\"Changed Directory:\", os.getcwd())"
   ]
  },
  {
   "cell_type": "markdown",
   "id": "dc94c842",
   "metadata": {},
   "source": [
    "`🔹 os.getcwd() → returns the current working directory.`\n",
    "\n",
    "`🔹 os.chdir(path) → changes the working directory.`"
   ]
  },
  {
   "cell_type": "code",
   "execution_count": 4,
   "id": "611ffd43",
   "metadata": {},
   "outputs": [
    {
     "name": "stdout",
     "output_type": "stream",
     "text": [
      "['.git', '.vscode', 'advanced.png', 'backup_notes.csv', 'csv_file.md', 'day1', 'day10-decorator-generator-etc', 'day11-namespaces', 'day12-closures', 'day13-modules', 'day14-functionsDive', 'day15-recursion', 'day16-Regex', 'day2', 'day3', 'day4', 'day5', 'day6', 'day7-file_handling', 'day8-dictionary', 'day9-exception-handling', 'destination.txt', 'interview.md', 'my_notes.txt', 'notes.csv', 'PythonProjects', 'pythonSyllabus.md', 'README.md', 'shutil1.txt', 'shutil2.txt', 'shutil_module_practice.py', 'source.txt']\n"
     ]
    }
   ],
   "source": [
    "# List files/folders in current directory\n",
    "\n",
    "print(os.listdir())"
   ]
  },
  {
   "cell_type": "code",
   "execution_count": 5,
   "id": "91ba0fe4",
   "metadata": {},
   "outputs": [
    {
     "name": "stdout",
     "output_type": "stream",
     "text": [
      "['All Users', 'Default', 'Default User', 'Dell', 'desktop.ini', 'Public']\n"
     ]
    }
   ],
   "source": [
    "# List files in a specific directory\n",
    "print(os.listdir(\"C:/Users\"))"
   ]
  },
  {
   "cell_type": "markdown",
   "id": "926eb690",
   "metadata": {},
   "source": [
    "##### Creating and Removing Directories"
   ]
  },
  {
   "cell_type": "code",
   "execution_count": 6,
   "id": "703aba74",
   "metadata": {},
   "outputs": [],
   "source": [
    "# Create single directory\n",
    "os.mkdir(\"test_folder\")"
   ]
  },
  {
   "cell_type": "code",
   "execution_count": 7,
   "id": "bf735734",
   "metadata": {},
   "outputs": [
    {
     "data": {
      "text/plain": [
       "['.git',\n",
       " '.vscode',\n",
       " 'advanced.png',\n",
       " 'backup_notes.csv',\n",
       " 'csv_file.md',\n",
       " 'day1',\n",
       " 'day10-decorator-generator-etc',\n",
       " 'day11-namespaces',\n",
       " 'day12-closures',\n",
       " 'day13-modules',\n",
       " 'day14-functionsDive',\n",
       " 'day15-recursion',\n",
       " 'day16-Regex',\n",
       " 'day2',\n",
       " 'day3',\n",
       " 'day4',\n",
       " 'day5',\n",
       " 'day6',\n",
       " 'day7-file_handling',\n",
       " 'day8-dictionary',\n",
       " 'day9-exception-handling',\n",
       " 'destination.txt',\n",
       " 'interview.md',\n",
       " 'my_notes.txt',\n",
       " 'notes.csv',\n",
       " 'PythonProjects',\n",
       " 'pythonSyllabus.md',\n",
       " 'README.md',\n",
       " 'shutil1.txt',\n",
       " 'shutil2.txt',\n",
       " 'shutil_module_practice.py',\n",
       " 'source.txt',\n",
       " 'test_folder']"
      ]
     },
     "execution_count": 7,
     "metadata": {},
     "output_type": "execute_result"
    }
   ],
   "source": [
    "os.listdir()"
   ]
  },
  {
   "cell_type": "code",
   "execution_count": 8,
   "id": "e9e51814",
   "metadata": {},
   "outputs": [],
   "source": [
    "# Explanation: see the last folder this has been created recently."
   ]
  },
  {
   "cell_type": "code",
   "execution_count": 9,
   "id": "ff3cada5",
   "metadata": {},
   "outputs": [],
   "source": [
    "# Create nested directories\n",
    "os.makedirs(\"parent/children/grandchildren\")"
   ]
  },
  {
   "cell_type": "code",
   "execution_count": 10,
   "id": "61640c92",
   "metadata": {},
   "outputs": [
    {
     "data": {
      "text/plain": [
       "['.git',\n",
       " '.vscode',\n",
       " 'advanced.png',\n",
       " 'backup_notes.csv',\n",
       " 'csv_file.md',\n",
       " 'day1',\n",
       " 'day10-decorator-generator-etc',\n",
       " 'day11-namespaces',\n",
       " 'day12-closures',\n",
       " 'day13-modules',\n",
       " 'day14-functionsDive',\n",
       " 'day15-recursion',\n",
       " 'day16-Regex',\n",
       " 'day2',\n",
       " 'day3',\n",
       " 'day4',\n",
       " 'day5',\n",
       " 'day6',\n",
       " 'day7-file_handling',\n",
       " 'day8-dictionary',\n",
       " 'day9-exception-handling',\n",
       " 'destination.txt',\n",
       " 'interview.md',\n",
       " 'my_notes.txt',\n",
       " 'notes.csv',\n",
       " 'parent',\n",
       " 'PythonProjects',\n",
       " 'pythonSyllabus.md',\n",
       " 'README.md',\n",
       " 'shutil1.txt',\n",
       " 'shutil2.txt',\n",
       " 'shutil_module_practice.py',\n",
       " 'source.txt',\n",
       " 'test_folder']"
      ]
     },
     "execution_count": 10,
     "metadata": {},
     "output_type": "execute_result"
    }
   ],
   "source": [
    "os.listdir()"
   ]
  },
  {
   "cell_type": "code",
   "execution_count": 11,
   "id": "2a9e1b76",
   "metadata": {},
   "outputs": [],
   "source": [
    "# Remove empty directory\n",
    "os.rmdir(\"test_folder\")"
   ]
  },
  {
   "cell_type": "code",
   "execution_count": 12,
   "id": "eab22a23",
   "metadata": {},
   "outputs": [
    {
     "data": {
      "text/plain": [
       "['.git',\n",
       " '.vscode',\n",
       " 'advanced.png',\n",
       " 'backup_notes.csv',\n",
       " 'csv_file.md',\n",
       " 'day1',\n",
       " 'day10-decorator-generator-etc',\n",
       " 'day11-namespaces',\n",
       " 'day12-closures',\n",
       " 'day13-modules',\n",
       " 'day14-functionsDive',\n",
       " 'day15-recursion',\n",
       " 'day16-Regex',\n",
       " 'day2',\n",
       " 'day3',\n",
       " 'day4',\n",
       " 'day5',\n",
       " 'day6',\n",
       " 'day7-file_handling',\n",
       " 'day8-dictionary',\n",
       " 'day9-exception-handling',\n",
       " 'destination.txt',\n",
       " 'interview.md',\n",
       " 'my_notes.txt',\n",
       " 'notes.csv',\n",
       " 'parent',\n",
       " 'PythonProjects',\n",
       " 'pythonSyllabus.md',\n",
       " 'README.md',\n",
       " 'shutil1.txt',\n",
       " 'shutil2.txt',\n",
       " 'shutil_module_practice.py',\n",
       " 'source.txt']"
      ]
     },
     "execution_count": 12,
     "metadata": {},
     "output_type": "execute_result"
    }
   ],
   "source": [
    "os.listdir()"
   ]
  },
  {
   "cell_type": "code",
   "execution_count": 13,
   "id": "4c21fdbf",
   "metadata": {},
   "outputs": [],
   "source": [
    "# You won't see the \"test_folder\" in the folder list"
   ]
  },
  {
   "cell_type": "code",
   "execution_count": 14,
   "id": "7e94986f",
   "metadata": {},
   "outputs": [],
   "source": [
    "# Remove nested directories\n",
    "os.removedirs(\"parent/children/grandchildren\")"
   ]
  },
  {
   "cell_type": "code",
   "execution_count": 15,
   "id": "591eedca",
   "metadata": {},
   "outputs": [
    {
     "data": {
      "text/plain": [
       "['.git',\n",
       " '.vscode',\n",
       " 'advanced.png',\n",
       " 'backup_notes.csv',\n",
       " 'csv_file.md',\n",
       " 'day1',\n",
       " 'day10-decorator-generator-etc',\n",
       " 'day11-namespaces',\n",
       " 'day12-closures',\n",
       " 'day13-modules',\n",
       " 'day14-functionsDive',\n",
       " 'day15-recursion',\n",
       " 'day16-Regex',\n",
       " 'day2',\n",
       " 'day3',\n",
       " 'day4',\n",
       " 'day5',\n",
       " 'day6',\n",
       " 'day7-file_handling',\n",
       " 'day8-dictionary',\n",
       " 'day9-exception-handling',\n",
       " 'destination.txt',\n",
       " 'interview.md',\n",
       " 'my_notes.txt',\n",
       " 'notes.csv',\n",
       " 'PythonProjects',\n",
       " 'pythonSyllabus.md',\n",
       " 'README.md',\n",
       " 'shutil1.txt',\n",
       " 'shutil2.txt',\n",
       " 'shutil_module_practice.py',\n",
       " 'source.txt']"
      ]
     },
     "execution_count": 15,
     "metadata": {},
     "output_type": "execute_result"
    }
   ],
   "source": [
    "os.listdir()"
   ]
  },
  {
   "cell_type": "code",
   "execution_count": 16,
   "id": "2fbf4dbd",
   "metadata": {},
   "outputs": [],
   "source": [
    "# You won't see the directory in the list"
   ]
  },
  {
   "cell_type": "code",
   "execution_count": null,
   "id": "1d17e842",
   "metadata": {},
   "outputs": [],
   "source": []
  }
 ],
 "metadata": {
  "kernelspec": {
   "display_name": "base",
   "language": "python",
   "name": "python3"
  },
  "language_info": {
   "codemirror_mode": {
    "name": "ipython",
    "version": 3
   },
   "file_extension": ".py",
   "mimetype": "text/x-python",
   "name": "python",
   "nbconvert_exporter": "python",
   "pygments_lexer": "ipython3",
   "version": "3.10.14"
  }
 },
 "nbformat": 4,
 "nbformat_minor": 5
}
