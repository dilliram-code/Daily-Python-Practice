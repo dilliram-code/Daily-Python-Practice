{
 "cells": [
  {
   "cell_type": "code",
   "execution_count": null,
   "id": "085b8fc8",
   "metadata": {},
   "outputs": [
    {
     "name": "stdout",
     "output_type": "stream",
     "text": [
      "I Am A Python Programmer.\n"
     ]
    }
   ],
   "source": [
    "# string.capwords()\n",
    "import string\n",
    "\n",
    "sentence = \"i am a python programmer.\"\n",
    "print(string.capwords(sentence))"
   ]
  },
  {
   "cell_type": "markdown",
   "id": "19c4b4fb",
   "metadata": {},
   "source": [
    "- Capitalizes first letter of each word (like .`title()`, but better)."
   ]
  },
  {
   "cell_type": "code",
   "execution_count": 4,
   "id": "ed6cda20",
   "metadata": {},
   "outputs": [
    {
     "name": "stdout",
     "output_type": "stream",
     "text": [
      "Welcome, Dilli Ram, to Nepal!\n"
     ]
    }
   ],
   "source": [
    "# string.Template class\n",
    "# Used for safe, readable string substitution.\n",
    "\n",
    "from string import Template\n",
    "\n",
    "template = Template(\"Welcome, $name, to $place!\")\n",
    "result = template.substitute(name=\"Dilli Ram\", place = \"Nepal\")\n",
    "\n",
    "print(result)"
   ]
  },
  {
   "cell_type": "code",
   "execution_count": 6,
   "id": "9f917b67",
   "metadata": {},
   "outputs": [
    {
     "name": "stdout",
     "output_type": "stream",
     "text": [
      "I am Dilli Ram, $age years old.\n"
     ]
    }
   ],
   "source": [
    "# safe substitution\n",
    "# ignores missing keys\n",
    "\n",
    "from string import Template\n",
    "\n",
    "template = Template(\"I am $name, $age years old.\")\n",
    "result = template.safe_substitute(name=\"Dilli Ram\")\n",
    "\n",
    "print(result)"
   ]
  },
  {
   "cell_type": "markdown",
   "id": "b3643516",
   "metadata": {},
   "source": [
    "`✅ Use case: Great for user-facing messages, config templates, emails.`"
   ]
  },
  {
   "cell_type": "markdown",
   "id": "c670ea3e",
   "metadata": {},
   "source": [
    "**Advanced Usage of string Module**"
   ]
  },
  {
   "cell_type": "code",
   "execution_count": 7,
   "id": "f4368518",
   "metadata": {},
   "outputs": [
    {
     "name": "stdout",
     "output_type": "stream",
     "text": [
      "Hey Everyone I am doing great Whats about you\n"
     ]
    }
   ],
   "source": [
    "# Custom Tokenizer using string.punctuation\n",
    "\n",
    "import string\n",
    "\n",
    "text = \"Hey! Everyone, I am doing great. What's about you?\"\n",
    "clean_text = \"\".join(ch for ch in text if ch not in string.punctuation)\n",
    "\n",
    "print(clean_text)"
   ]
  },
  {
   "cell_type": "code",
   "execution_count": 8,
   "id": "f77ef617",
   "metadata": {},
   "outputs": [
    {
     "name": "stdout",
     "output_type": "stream",
     "text": [
      "MynameisDilliramMyageis28IwanttoreadDS!\n"
     ]
    }
   ],
   "source": [
    "# removing whitespace\n",
    "\n",
    "import string\n",
    "\n",
    "text = \"My name is Dilliram\\n My age is 28\\t I want to read DS\\r!\"\n",
    "no_whitespace = \"\".join(ch for ch in text if ch not in string.whitespace)\n",
    "\n",
    "print(no_whitespace)"
   ]
  },
  {
   "cell_type": "code",
   "execution_count": 20,
   "id": "66179f6a",
   "metadata": {},
   "outputs": [
    {
     "name": "stdout",
     "output_type": "stream",
     "text": [
      "oV$jNCfA#=6oD5M`q_T<\n"
     ]
    }
   ],
   "source": [
    "# Random password generator\n",
    "\n",
    "import string\n",
    "import random\n",
    "def passwordGenertor(length = 12):\n",
    "  chars = string.ascii_letters + string.digits + string.punctuation\n",
    "  password = \"\".join(random.choice(chars) for _ in range(length))\n",
    "  \n",
    "  return password\n",
    "\n",
    "password1 = passwordGenertor(20)\n",
    "print(password1)"
   ]
  },
  {
   "cell_type": "code",
   "execution_count": 21,
   "id": "6d3df5b7",
   "metadata": {},
   "outputs": [
    {
     "name": "stdout",
     "output_type": "stream",
     "text": [
      "Strong Password 💪\n",
      "Weak Password ⚠️\n"
     ]
    }
   ],
   "source": [
    "# Password strength checker\n",
    "import string\n",
    "\n",
    "\n",
    "def check_password(password):\n",
    "    has_lower = any(ch in string.ascii_lowercase for ch in password)\n",
    "    has_upper = any(ch in string.ascii_uppercase for ch in password)\n",
    "    has_digit = any(ch in string.digits for ch in password)\n",
    "    has_punc = any(ch in string.punctuation for ch in password)\n",
    "\n",
    "    if all([has_lower, has_upper, has_digit, has_punc]):\n",
    "        return \"Strong Password 💪\"\n",
    "    else:\n",
    "        return \"Weak Password ⚠️\"\n",
    "\n",
    "\n",
    "print(check_password(\"Hello123!\"))\n",
    "print(check_password(\"password\"))"
   ]
  },
  {
   "cell_type": "code",
   "execution_count": 22,
   "id": "7961cdc9",
   "metadata": {},
   "outputs": [
    {
     "name": "stdout",
     "output_type": "stream",
     "text": [
      "{'hello': 2, 'world': 1, 'python': 1}\n"
     ]
    }
   ],
   "source": [
    "# Word frequency counter\n",
    "import string\n",
    "\n",
    "\n",
    "def word_frequency(text):\n",
    "    # Remove punctuation\n",
    "    text = ''.join(ch for ch in text if ch not in string.punctuation)\n",
    "    words = text.lower().split()\n",
    "    freq = {}\n",
    "    for word in words:\n",
    "        freq[word] = freq.get(word, 0) + 1\n",
    "    return freq\n",
    "\n",
    "\n",
    "print(word_frequency(\"Hello, world! Hello Python.\"))"
   ]
  },
  {
   "cell_type": "code",
   "execution_count": 23,
   "id": "8fb6ce6b",
   "metadata": {},
   "outputs": [
    {
     "name": "stdout",
     "output_type": "stream",
     "text": [
      "Khoor, Zruog!\n",
      "Hello, World!\n"
     ]
    }
   ],
   "source": [
    "# Caesar Cipher (Encryption/Decryption)\n",
    "import string\n",
    "\n",
    "\n",
    "def caesar_cipher_safe(text: str, shift: int) -> str:\n",
    "    shift = shift % 26\n",
    "    lower = string.ascii_lowercase\n",
    "    upper = string.ascii_uppercase\n",
    "\n",
    "    shifted_lower = lower[shift:] + lower[:shift]\n",
    "    shifted_upper = upper[shift:] + upper[:shift]\n",
    "\n",
    "    table = str.maketrans(lower + upper, shifted_lower + shifted_upper)\n",
    "    return text.translate(table)\n",
    "\n",
    "\n",
    "# Examples\n",
    "print(caesar_cipher_safe(\"Hello, World!\", 3))   # Khoor, Zruog!\n",
    "print(caesar_cipher_safe(\"Khoor, Zruog!\", -3))  # Hello, World!"
   ]
  },
  {
   "cell_type": "code",
   "execution_count": null,
   "id": "daf2a59c",
   "metadata": {},
   "outputs": [],
   "source": []
  }
 ],
 "metadata": {
  "kernelspec": {
   "display_name": "base",
   "language": "python",
   "name": "python3"
  },
  "language_info": {
   "codemirror_mode": {
    "name": "ipython",
    "version": 3
   },
   "file_extension": ".py",
   "mimetype": "text/x-python",
   "name": "python",
   "nbconvert_exporter": "python",
   "pygments_lexer": "ipython3",
   "version": "3.10.14"
  }
 },
 "nbformat": 4,
 "nbformat_minor": 5
}
