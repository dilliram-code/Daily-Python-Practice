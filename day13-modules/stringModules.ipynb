{
 "cells": [
  {
   "cell_type": "code",
   "execution_count": null,
   "id": "085b8fc8",
   "metadata": {},
   "outputs": [
    {
     "name": "stdout",
     "output_type": "stream",
     "text": [
      "I Am A Python Programmer.\n"
     ]
    }
   ],
   "source": [
    "# string.capwords()\n",
    "import string\n",
    "\n",
    "sentence = \"i am a python programmer.\"\n",
    "print(string.capwords(sentence))"
   ]
  },
  {
   "cell_type": "markdown",
   "id": "19c4b4fb",
   "metadata": {},
   "source": [
    "- Capitalizes first letter of each word (like .`title()`, but better)."
   ]
  },
  {
   "cell_type": "code",
   "execution_count": 4,
   "id": "ed6cda20",
   "metadata": {},
   "outputs": [
    {
     "name": "stdout",
     "output_type": "stream",
     "text": [
      "Welcome, Dilli Ram, to Nepal!\n"
     ]
    }
   ],
   "source": [
    "# string.Template class\n",
    "# Used for safe, readable string substitution.\n",
    "\n",
    "from string import Template\n",
    "\n",
    "template = Template(\"Welcome, $name, to $place!\")\n",
    "result = template.substitute(name=\"Dilli Ram\", place = \"Nepal\")\n",
    "\n",
    "print(result)"
   ]
  },
  {
   "cell_type": "code",
   "execution_count": 6,
   "id": "9f917b67",
   "metadata": {},
   "outputs": [
    {
     "name": "stdout",
     "output_type": "stream",
     "text": [
      "I am Dilli Ram, $age years old.\n"
     ]
    }
   ],
   "source": [
    "# safe substitution\n",
    "# ignores missing keys\n",
    "\n",
    "from string import Template\n",
    "\n",
    "template = Template(\"I am $name, $age years old.\")\n",
    "result = template.safe_substitute(name=\"Dilli Ram\")\n",
    "\n",
    "print(result)"
   ]
  },
  {
   "cell_type": "markdown",
   "id": "b3643516",
   "metadata": {},
   "source": [
    "`✅ Use case: Great for user-facing messages, config templates, emails.`"
   ]
  },
  {
   "cell_type": "markdown",
   "id": "c670ea3e",
   "metadata": {},
   "source": []
  }
 ],
 "metadata": {
  "kernelspec": {
   "display_name": "base",
   "language": "python",
   "name": "python3"
  },
  "language_info": {
   "codemirror_mode": {
    "name": "ipython",
    "version": 3
   },
   "file_extension": ".py",
   "mimetype": "text/x-python",
   "name": "python",
   "nbconvert_exporter": "python",
   "pygments_lexer": "ipython3",
   "version": "3.10.14"
  }
 },
 "nbformat": 4,
 "nbformat_minor": 5
}
