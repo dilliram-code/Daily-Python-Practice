{
 "cells": [
  {
   "cell_type": "code",
   "execution_count": 3,
   "id": "498b55a9",
   "metadata": {},
   "outputs": [
    {
     "name": "stdout",
     "output_type": "stream",
     "text": [
      "{\"name\": \"Alice\", \"age\": 25, \"is_student\": false, \"skills\": [\"Python\", \"Machine Learning\"]}\n"
     ]
    }
   ],
   "source": [
    "import json\n",
    "\n",
    "person = {\n",
    "    \"name\": \"Alice\",\n",
    "    \"age\": 25,\n",
    "    \"is_student\": False,\n",
    "    \"skills\": [\"Python\", \"Machine Learning\"],\n",
    "}\n",
    "\n",
    "json_string = json.dumps(person)\n",
    "print(json_string)"
   ]
  },
  {
   "cell_type": "code",
   "execution_count": 4,
   "id": "a5e4676f",
   "metadata": {},
   "outputs": [
    {
     "data": {
      "text/plain": [
       "str"
      ]
     },
     "execution_count": 4,
     "metadata": {},
     "output_type": "execute_result"
    }
   ],
   "source": [
    "type(json_string)"
   ]
  },
  {
   "cell_type": "code",
   "execution_count": 8,
   "id": "9a83a298",
   "metadata": {},
   "outputs": [
    {
     "name": "stdout",
     "output_type": "stream",
     "text": [
      "<class 'dict'>\n",
      "Bob\n"
     ]
    }
   ],
   "source": [
    "# JSON string to python dict\n",
    "\n",
    "json_data = '{\"name\": \"Bob\", \"age\": 30, \"skills\": [\"C++\", \"Data Science\"]}'\n",
    "python_dict = json.loads(json_data)\n",
    "\n",
    "print(type(python_dict))\n",
    "print(python_dict[\"name\"])"
   ]
  },
  {
   "cell_type": "code",
   "execution_count": 9,
   "id": "6130db20",
   "metadata": {},
   "outputs": [],
   "source": [
    "# Writing JSON to a file\n",
    "data = {\"id\": 1, \"title\": \"Learn JSON\", \"done\": False}\n",
    "with open(\"note.json\", \"w\") as f:\n",
    "  json.dump(data, f, indent=4)"
   ]
  },
  {
   "cell_type": "code",
   "execution_count": 10,
   "id": "d6274deb",
   "metadata": {},
   "outputs": [
    {
     "name": "stdout",
     "output_type": "stream",
     "text": [
      "{'id': 1, 'title': 'Learn JSON', 'done': False}\n"
     ]
    }
   ],
   "source": [
    "# Reading JSON from a file\n",
    "with open(\"note.json\", \"r\") as f:\n",
    "    content = json.load(f)\n",
    "\n",
    "print(content)\n",
    "# {'id': 1, 'title': 'Learn JSON', 'done': False}"
   ]
  },
  {
   "cell_type": "code",
   "execution_count": 1,
   "id": "903bd758",
   "metadata": {},
   "outputs": [
    {
     "name": "stdout",
     "output_type": "stream",
     "text": [
      "{\n",
      "    \"age\": 25,\n",
      "    \"is_student\": false,\n",
      "    \"name\": \"Alice\",\n",
      "    \"skills\": [\n",
      "        \"Python\",\n",
      "        \"Machine Learning\"\n",
      "    ]\n",
      "}\n"
     ]
    }
   ],
   "source": [
    "# Pretty-print JSON\n",
    "import json\n",
    "\n",
    "person = {\n",
    "    \"name\": \"Alice\",\n",
    "    \"age\": 25,\n",
    "    \"is_student\": False,\n",
    "    \"skills\": [\"Python\", \"Machine Learning\"],\n",
    "}\n",
    "\n",
    "print(json.dumps(person, indent=4, sort_keys=True))"
   ]
  },
  {
   "cell_type": "code",
   "execution_count": 2,
   "id": "136c84db",
   "metadata": {},
   "outputs": [],
   "source": [
    "# indent=4 → adds indentation\n",
    "# sort_keys=True → sorts keys alphabetically"
   ]
  },
  {
   "cell_type": "code",
   "execution_count": null,
   "id": "5168d996",
   "metadata": {},
   "outputs": [],
   "source": []
  },
  {
   "cell_type": "code",
   "execution_count": null,
   "id": "afb78daf",
   "metadata": {},
   "outputs": [],
   "source": []
  }
 ],
 "metadata": {
  "kernelspec": {
   "display_name": "base",
   "language": "python",
   "name": "python3"
  },
  "language_info": {
   "codemirror_mode": {
    "name": "ipython",
    "version": 3
   },
   "file_extension": ".py",
   "mimetype": "text/x-python",
   "name": "python",
   "nbconvert_exporter": "python",
   "pygments_lexer": "ipython3",
   "version": "3.10.14"
  }
 },
 "nbformat": 4,
 "nbformat_minor": 5
}
