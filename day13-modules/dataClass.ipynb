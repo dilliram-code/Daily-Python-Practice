{
 "cells": [
  {
   "cell_type": "markdown",
   "id": "e8fc5951",
   "metadata": {},
   "source": [
    "`What is the dataclasses module?`\n",
    "- Short answer: dataclasses (stdlib, added in Python 3.7 via PEP 557) is a set of tools — primarily the @dataclass decorator and helpers — that automatically generate boilerplate for classes whose main job is to store data (like __init__, __repr__, __eq__, optional ordering, hashing, etc.). It makes small model/record classes concise, typed, and easier to serialize/compare."
   ]
  },
  {
   "cell_type": "code",
   "execution_count": 2,
   "id": "1af320df",
   "metadata": {},
   "outputs": [
    {
     "name": "stdout",
     "output_type": "stream",
     "text": [
      "Person(name='Dilli', age=30)\n",
      "Dilli\n"
     ]
    }
   ],
   "source": [
    "# the minimal dataclass\n",
    "\n",
    "from dataclasses import dataclass\n",
    "\n",
    "\n",
    "@dataclass\n",
    "class Person:\n",
    "  name: str\n",
    "  age: int = 0\n",
    "  \n",
    "p = Person(\"Dilli\", 30)\n",
    "print(p)\n",
    "print(p.name)"
   ]
  },
  {
   "cell_type": "markdown",
   "id": "2f37f3fe",
   "metadata": {},
   "source": [
    "`What @dataclass did automatically:`\n",
    "\n",
    "- Generated `__init__(self, name: str, age: int = 0)`.\n",
    "\n",
    "- Generated a readable `__repr__`.\n",
    "\n",
    "- Generated `__eq__` that compares instances by field values (and type)."
   ]
  },
  {
   "cell_type": "markdown",
   "id": "a0c71e4f",
   "metadata": {},
   "source": []
  }
 ],
 "metadata": {
  "kernelspec": {
   "display_name": "base",
   "language": "python",
   "name": "python3"
  },
  "language_info": {
   "codemirror_mode": {
    "name": "ipython",
    "version": 3
   },
   "file_extension": ".py",
   "mimetype": "text/x-python",
   "name": "python",
   "nbconvert_exporter": "python",
   "pygments_lexer": "ipython3",
   "version": "3.10.14"
  }
 },
 "nbformat": 4,
 "nbformat_minor": 5
}
