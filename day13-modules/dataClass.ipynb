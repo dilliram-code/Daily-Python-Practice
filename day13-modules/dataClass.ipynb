{
 "cells": [
  {
   "cell_type": "markdown",
   "id": "e8fc5951",
   "metadata": {},
   "source": [
    "`What is the dataclasses module?`\n",
    "- In Python, the dataclass decorator is a feature introduced in Python 3.7 that provides a concise way to define classes primarily intended to store data. It automatically generates several special methods, such as `__init__`, `__repr__`, and `__eq__`, based on the class attributes you define. This simplifies the process of creating and working with data-focused classes."
   ]
  },
  {
   "cell_type": "code",
   "execution_count": 3,
   "id": "1af320df",
   "metadata": {},
   "outputs": [
    {
     "name": "stdout",
     "output_type": "stream",
     "text": [
      "Person(name='Dilli', age=30, profession='Data Scientist')\n",
      "Dilli\n"
     ]
    }
   ],
   "source": [
    "# the minimal dataclass\n",
    "\n",
    "from dataclasses import dataclass\n",
    "\n",
    "\n",
    "@dataclass\n",
    "class Person:\n",
    "  name: str\n",
    "  age: int = 0\n",
    "  profession: str = \"Data Scientist\"\n",
    "  \n",
    "p = Person(\"Dilli\", 30)\n",
    "print(p)\n",
    "print(p.name)"
   ]
  },
  {
   "cell_type": "markdown",
   "id": "2f37f3fe",
   "metadata": {},
   "source": [
    "`What @dataclass did automatically:`\n",
    "\n",
    "- Generated `__init__(self, name: str, age: int = 0)`.\n",
    "\n",
    "- Generated a readable `__repr__`.\n",
    "\n",
    "- Generated `__eq__` that compares instances by field values (and type)."
   ]
  },
  {
   "cell_type": "code",
   "execution_count": 5,
   "id": "a0c71e4f",
   "metadata": {},
   "outputs": [
    {
     "name": "stdout",
     "output_type": "stream",
     "text": [
      "Person(name='Dilli', age=30, profession='AI Engineer')\n"
     ]
    }
   ],
   "source": [
    "@dataclass\n",
    "class Person:\n",
    "  name: str\n",
    "  age: int = 0\n",
    "  profession: str = \"Data Scientist\"\n",
    "  \n",
    "p = Person(\"Dilli\", 30, \"AI Engineer\")\n",
    "print(p)"
   ]
  },
  {
   "cell_type": "code",
   "execution_count": 6,
   "id": "9ffc10bd",
   "metadata": {},
   "outputs": [],
   "source": [
    "# the default attribute value can be changed"
   ]
  },
  {
   "cell_type": "code",
   "execution_count": 8,
   "id": "7a99793e",
   "metadata": {},
   "outputs": [
    {
     "name": "stdout",
     "output_type": "stream",
     "text": [
      "Point(x_cor=20, y_cor=20)\n"
     ]
    }
   ],
   "source": [
    "# Immutable class\n",
    "\n",
    "@dataclass(frozen=True)\n",
    "class Point:\n",
    "  x_cor:int = 14\n",
    "  y_cor:int = 15\n",
    "  \n",
    "\n",
    "point = Point(20,20)\n",
    "print(point)"
   ]
  },
  {
   "cell_type": "code",
   "execution_count": 9,
   "id": "69bf73ba",
   "metadata": {},
   "outputs": [
    {
     "ename": "FrozenInstanceError",
     "evalue": "cannot assign to field 'x_cor'",
     "output_type": "error",
     "traceback": [
      "\u001b[1;31m---------------------------------------------------------------------------\u001b[0m",
      "\u001b[1;31mFrozenInstanceError\u001b[0m                       Traceback (most recent call last)",
      "Cell \u001b[1;32mIn[9], line 1\u001b[0m\n\u001b[1;32m----> 1\u001b[0m \u001b[43mpoint\u001b[49m\u001b[38;5;241;43m.\u001b[39;49m\u001b[43mx_cor\u001b[49m \u001b[38;5;241m=\u001b[39m \u001b[38;5;241m25\u001b[39m\n",
      "File \u001b[1;32m<string>:4\u001b[0m, in \u001b[0;36m__setattr__\u001b[1;34m(self, name, value)\u001b[0m\n",
      "\u001b[1;31mFrozenInstanceError\u001b[0m: cannot assign to field 'x_cor'"
     ]
    }
   ],
   "source": [
    "point.x_cor = 25"
   ]
  },
  {
   "cell_type": "code",
   "execution_count": 10,
   "id": "e868e960",
   "metadata": {},
   "outputs": [],
   "source": [
    "# reason: as the dataclass has been frozen so the instance can be changed once initialized."
   ]
  },
  {
   "cell_type": "code",
   "execution_count": 14,
   "id": "15bfe7ba",
   "metadata": {},
   "outputs": [
    {
     "name": "stdout",
     "output_type": "stream",
     "text": [
      "Company(name='Honeywell', est_date=1994, property_value=12)\n"
     ]
    }
   ],
   "source": [
    "# dataclass with inheritance\n",
    "\n",
    "@dataclass\n",
    "class Company:\n",
    "  name: str\n",
    "  est_date: int\n",
    "  property_value: int\n",
    "  \n",
    "\n",
    "@dataclass\n",
    "class Employee(Company):\n",
    "  employee_id: str\n",
    "  employee_depart: str\n",
    "  employee_age: int\n",
    "\n",
    "\n",
    "company = Company(\"Honeywell\", 1994, 12)\n",
    "employee = Employee(\"Dilli\", 1995, 10, \"101\", \"Health\", 32)\n",
    "\n",
    "print(company)"
   ]
  },
  {
   "cell_type": "code",
   "execution_count": 15,
   "id": "e776b976",
   "metadata": {},
   "outputs": [],
   "source": [
    "# We do not need to call the parent's instance using super()"
   ]
  },
  {
   "cell_type": "code",
   "execution_count": null,
   "id": "b021846c",
   "metadata": {},
   "outputs": [],
   "source": []
  }
 ],
 "metadata": {
  "kernelspec": {
   "display_name": "base",
   "language": "python",
   "name": "python3"
  },
  "language_info": {
   "codemirror_mode": {
    "name": "ipython",
    "version": 3
   },
   "file_extension": ".py",
   "mimetype": "text/x-python",
   "name": "python",
   "nbconvert_exporter": "python",
   "pygments_lexer": "ipython3",
   "version": "3.10.14"
  }
 },
 "nbformat": 4,
 "nbformat_minor": 5
}
