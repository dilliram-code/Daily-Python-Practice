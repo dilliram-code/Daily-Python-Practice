{
 "cells": [
  {
   "cell_type": "markdown",
   "id": "e8fc5951",
   "metadata": {},
   "source": [
    "`What is the dataclasses module?`\n",
    "- Short answer: dataclasses (stdlib, added in Python 3.7 via PEP 557) is a set of tools — primarily the @dataclass decorator and helpers — that automatically generate boilerplate for classes whose main job is to store data (like __init__, __repr__, __eq__, optional ordering, hashing, etc.). It makes small model/record classes concise, typed, and easier to serialize/compare."
   ]
  },
  {
   "cell_type": "code",
   "execution_count": null,
   "id": "1af320df",
   "metadata": {},
   "outputs": [],
   "source": []
  }
 ],
 "metadata": {
  "language_info": {
   "name": "python"
  }
 },
 "nbformat": 4,
 "nbformat_minor": 5
}
