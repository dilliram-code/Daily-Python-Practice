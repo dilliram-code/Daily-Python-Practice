{
 "cells": [
  {
   "cell_type": "markdown",
   "id": "e8fc5951",
   "metadata": {},
   "source": [
    "`What is the dataclasses module?`\n",
    "- In Python, the dataclass decorator is a feature introduced in Python 3.7 that provides a concise way to define classes primarily intended to store data. It automatically generates several special methods, such as `__init__`, `__repr__`, and `__eq__`, based on the class attributes you define. This simplifies the process of creating and working with data-focused classes."
   ]
  },
  {
   "cell_type": "code",
   "execution_count": 3,
   "id": "1af320df",
   "metadata": {},
   "outputs": [
    {
     "name": "stdout",
     "output_type": "stream",
     "text": [
      "Person(name='Dilli', age=30, profession='Data Scientist')\n",
      "Dilli\n"
     ]
    }
   ],
   "source": [
    "# the minimal dataclass\n",
    "\n",
    "from dataclasses import dataclass\n",
    "\n",
    "\n",
    "@dataclass\n",
    "class Person:\n",
    "  name: str\n",
    "  age: int = 0\n",
    "  profession: str = \"Data Scientist\"\n",
    "  \n",
    "p = Person(\"Dilli\", 30)\n",
    "print(p)\n",
    "print(p.name)"
   ]
  },
  {
   "cell_type": "markdown",
   "id": "2f37f3fe",
   "metadata": {},
   "source": [
    "`What @dataclass did automatically:`\n",
    "\n",
    "- Generated `__init__(self, name: str, age: int = 0)`.\n",
    "\n",
    "- Generated a readable `__repr__`.\n",
    "\n",
    "- Generated `__eq__` that compares instances by field values (and type)."
   ]
  },
  {
   "cell_type": "code",
   "execution_count": 5,
   "id": "a0c71e4f",
   "metadata": {},
   "outputs": [
    {
     "name": "stdout",
     "output_type": "stream",
     "text": [
      "Person(name='Dilli', age=30, profession='AI Engineer')\n"
     ]
    }
   ],
   "source": [
    "@dataclass\n",
    "class Person:\n",
    "  name: str\n",
    "  age: int = 0\n",
    "  profession: str = \"Data Scientist\"\n",
    "  \n",
    "p = Person(\"Dilli\", 30, \"AI Engineer\")\n",
    "print(p)"
   ]
  },
  {
   "cell_type": "code",
   "execution_count": 6,
   "id": "9ffc10bd",
   "metadata": {},
   "outputs": [],
   "source": [
    "# the default attribute value can be changed"
   ]
  }
 ],
 "metadata": {
  "kernelspec": {
   "display_name": "base",
   "language": "python",
   "name": "python3"
  },
  "language_info": {
   "codemirror_mode": {
    "name": "ipython",
    "version": 3
   },
   "file_extension": ".py",
   "mimetype": "text/x-python",
   "name": "python",
   "nbconvert_exporter": "python",
   "pygments_lexer": "ipython3",
   "version": "3.10.14"
  }
 },
 "nbformat": 4,
 "nbformat_minor": 5
}
