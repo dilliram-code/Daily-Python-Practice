{
 "cells": [
  {
   "cell_type": "markdown",
   "id": "210c25be",
   "metadata": {},
   "source": [
    "#### Math Module:\n",
    "- The math module in Python provides mathematical functions and constants that are not built into the core Python language. It includes functions for trigonometry, logarithms, powers, rounding, factorials, etc."
   ]
  },
  {
   "cell_type": "code",
   "execution_count": 1,
   "id": "ea1c7023",
   "metadata": {},
   "outputs": [
    {
     "name": "stdout",
     "output_type": "stream",
     "text": [
      "3.141592653589793\n",
      "2.718281828459045\n",
      "6.283185307179586\n",
      "inf\n",
      "-inf\n",
      "nan\n"
     ]
    }
   ],
   "source": [
    "# some constants\n",
    "import math\n",
    "\n",
    "print(math.pi)        # 3.141592653589793\n",
    "print(math.e)         # 2.718281828459045 (Euler’s number)\n",
    "print(math.tau)       # 6.283185307179586 (2π)\n",
    "print(math.inf)       # Infinity\n",
    "print(-math.inf)      # Negative Infinity\n",
    "print(math.nan)       # Not a Number (NaN)"
   ]
  },
  {
   "cell_type": "code",
   "execution_count": 3,
   "id": "7e2e7d0d",
   "metadata": {},
   "outputs": [
    {
     "name": "stdout",
     "output_type": "stream",
     "text": [
      "5\n",
      "4\n",
      "4\n",
      "7.3\n"
     ]
    }
   ],
   "source": [
    "# Rounding and absolute functions\n",
    "\n",
    "print(math.ceil(4.2))     # 5 (round up)\n",
    "print(math.floor(4.9))    # 4 (round down)\n",
    "print(math.trunc(4.9))    # 4 (truncate decimal)\n",
    "print(math.fabs(-7.3))    # 7.3 (absolute value for float)"
   ]
  },
  {
   "cell_type": "markdown",
   "id": "48f76ec8",
   "metadata": {},
   "source": [
    "`Difference:`\n",
    "\n",
    "- ceil → always rounds UP\n",
    "\n",
    "- floor → always rounds DOWN\n",
    "\n",
    "- trunc → chops off decimal (toward zero)\n",
    "\n",
    "- fabs → absolute value for floats"
   ]
  },
  {
   "cell_type": "code",
   "execution_count": 4,
   "id": "9d938bdf",
   "metadata": {},
   "outputs": [
    {
     "name": "stdout",
     "output_type": "stream",
     "text": [
      "8.0\n",
      "8\n",
      "4.0\n",
      "4\n",
      "2.718281828459045\n"
     ]
    }
   ],
   "source": [
    "# Power and square roots\n",
    "\n",
    "print(math.pow(2, 3))      # 8.0 (float power)\n",
    "print(2 ** 3)              # 8 (same but returns int if possible)\n",
    "print(math.sqrt(16))       # 4.0 (square root)\n",
    "print(math.isqrt(16))      # 4 (integer square root)\n",
    "print(math.exp(1))         # e^1 = 2.718281828459045"
   ]
  },
  {
   "cell_type": "code",
   "execution_count": 5,
   "id": "ff970306",
   "metadata": {},
   "outputs": [
    {
     "name": "stdout",
     "output_type": "stream",
     "text": [
      "3.0\n",
      "2.0\n",
      "5.0\n",
      "0.6931471805599453\n"
     ]
    }
   ],
   "source": [
    "# Logarithmic Finctions\n",
    "\n",
    "print(math.log(8, 2))   # log base 2 of 8 → 3.0\n",
    "print(math.log10(100))  # log base 10 of 100 → 2.0\n",
    "print(math.log2(32))    # log base 2 of 32 → 5.0\n",
    "print(math.log1p(1))    # log(1+x), avoids precision errors for small x"
   ]
  },
  {
   "cell_type": "code",
   "execution_count": 6,
   "id": "f3c8545f",
   "metadata": {},
   "outputs": [
    {
     "name": "stdout",
     "output_type": "stream",
     "text": [
      "1.0\n",
      "-1.0\n",
      "0.9999999999999999\n"
     ]
    }
   ],
   "source": [
    "# Trigonometric functions\n",
    "\n",
    "print(math.sin(math.pi/2))   # 1.0\n",
    "print(math.cos(math.pi))     # -1.0\n",
    "print(math.tan(math.pi/4))   # 1.0"
   ]
  },
  {
   "cell_type": "code",
   "execution_count": 7,
   "id": "1fc6dd68",
   "metadata": {},
   "outputs": [
    {
     "name": "stdout",
     "output_type": "stream",
     "text": [
      "1.5707963267948966\n",
      "1.5707963267948966\n",
      "0.7853981633974483\n",
      "0.7853981633974483\n"
     ]
    }
   ],
   "source": [
    "# Inverse trigonometric functions\n",
    "\n",
    "print(math.asin(1))   # π/2\n",
    "print(math.acos(0))   # π/2\n",
    "print(math.atan(1))   # π/4\n",
    "print(math.atan2(1, 1))  # atan(y/x) → π/4"
   ]
  },
  {
   "cell_type": "code",
   "execution_count": null,
   "id": "75364d1c",
   "metadata": {},
   "outputs": [],
   "source": []
  }
 ],
 "metadata": {
  "kernelspec": {
   "display_name": "base",
   "language": "python",
   "name": "python3"
  },
  "language_info": {
   "codemirror_mode": {
    "name": "ipython",
    "version": 3
   },
   "file_extension": ".py",
   "mimetype": "text/x-python",
   "name": "python",
   "nbconvert_exporter": "python",
   "pygments_lexer": "ipython3",
   "version": "3.10.14"
  }
 },
 "nbformat": 4,
 "nbformat_minor": 5
}
