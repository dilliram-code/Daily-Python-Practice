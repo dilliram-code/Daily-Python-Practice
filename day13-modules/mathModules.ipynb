{
 "cells": [
  {
   "cell_type": "markdown",
   "id": "210c25be",
   "metadata": {},
   "source": [
    "#### Math Module:\n",
    "- The math module in Python provides mathematical functions and constants that are not built into the core Python language. It includes functions for trigonometry, logarithms, powers, rounding, factorials, etc."
   ]
  },
  {
   "cell_type": "code",
   "execution_count": 1,
   "id": "ea1c7023",
   "metadata": {},
   "outputs": [
    {
     "name": "stdout",
     "output_type": "stream",
     "text": [
      "3.141592653589793\n",
      "2.718281828459045\n",
      "6.283185307179586\n",
      "inf\n",
      "-inf\n",
      "nan\n"
     ]
    }
   ],
   "source": [
    "# some constants\n",
    "import math\n",
    "\n",
    "print(math.pi)        # 3.141592653589793\n",
    "print(math.e)         # 2.718281828459045 (Euler’s number)\n",
    "print(math.tau)       # 6.283185307179586 (2π)\n",
    "print(math.inf)       # Infinity\n",
    "print(-math.inf)      # Negative Infinity\n",
    "print(math.nan)       # Not a Number (NaN)"
   ]
  },
  {
   "cell_type": "code",
   "execution_count": 3,
   "id": "7e2e7d0d",
   "metadata": {},
   "outputs": [
    {
     "name": "stdout",
     "output_type": "stream",
     "text": [
      "5\n",
      "4\n",
      "4\n",
      "7.3\n"
     ]
    }
   ],
   "source": [
    "# Rounding and absolute functions\n",
    "\n",
    "print(math.ceil(4.2))     # 5 (round up)\n",
    "print(math.floor(4.9))    # 4 (round down)\n",
    "print(math.trunc(4.9))    # 4 (truncate decimal)\n",
    "print(math.fabs(-7.3))    # 7.3 (absolute value for float)"
   ]
  },
  {
   "cell_type": "code",
   "execution_count": null,
   "id": "48f76ec8",
   "metadata": {},
   "outputs": [],
   "source": []
  }
 ],
 "metadata": {
  "kernelspec": {
   "display_name": "base",
   "language": "python",
   "name": "python3"
  },
  "language_info": {
   "codemirror_mode": {
    "name": "ipython",
    "version": 3
   },
   "file_extension": ".py",
   "mimetype": "text/x-python",
   "name": "python",
   "nbconvert_exporter": "python",
   "pygments_lexer": "ipython3",
   "version": "3.10.14"
  }
 },
 "nbformat": 4,
 "nbformat_minor": 5
}
