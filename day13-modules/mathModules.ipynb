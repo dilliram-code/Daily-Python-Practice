{
 "cells": [
  {
   "cell_type": "markdown",
   "id": "210c25be",
   "metadata": {},
   "source": [
    "#### Math Module:\n",
    "- The math module in Python provides mathematical functions and constants that are not built into the core Python language. It includes functions for trigonometry, logarithms, powers, rounding, factorials, etc."
   ]
  },
  {
   "cell_type": "code",
   "execution_count": 1,
   "id": "ea1c7023",
   "metadata": {},
   "outputs": [
    {
     "name": "stdout",
     "output_type": "stream",
     "text": [
      "3.141592653589793\n",
      "2.718281828459045\n",
      "6.283185307179586\n",
      "inf\n",
      "-inf\n",
      "nan\n"
     ]
    }
   ],
   "source": [
    "# some constants\n",
    "import math\n",
    "\n",
    "print(math.pi)        # 3.141592653589793\n",
    "print(math.e)         # 2.718281828459045 (Euler’s number)\n",
    "print(math.tau)       # 6.283185307179586 (2π)\n",
    "print(math.inf)       # Infinity\n",
    "print(-math.inf)      # Negative Infinity\n",
    "print(math.nan)       # Not a Number (NaN)"
   ]
  },
  {
   "cell_type": "code",
   "execution_count": 3,
   "id": "7e2e7d0d",
   "metadata": {},
   "outputs": [
    {
     "name": "stdout",
     "output_type": "stream",
     "text": [
      "5\n",
      "4\n",
      "4\n",
      "7.3\n"
     ]
    }
   ],
   "source": [
    "# Rounding and absolute functions\n",
    "\n",
    "print(math.ceil(4.2))     # 5 (round up)\n",
    "print(math.floor(4.9))    # 4 (round down)\n",
    "print(math.trunc(4.9))    # 4 (truncate decimal)\n",
    "print(math.fabs(-7.3))    # 7.3 (absolute value for float)"
   ]
  },
  {
   "cell_type": "markdown",
   "id": "48f76ec8",
   "metadata": {},
   "source": [
    "`Difference:`\n",
    "\n",
    "- ceil → always rounds UP\n",
    "\n",
    "- floor → always rounds DOWN\n",
    "\n",
    "- trunc → chops off decimal (toward zero)\n",
    "\n",
    "- fabs → absolute value for floats"
   ]
  },
  {
   "cell_type": "code",
   "execution_count": 4,
   "id": "9d938bdf",
   "metadata": {},
   "outputs": [
    {
     "name": "stdout",
     "output_type": "stream",
     "text": [
      "8.0\n",
      "8\n",
      "4.0\n",
      "4\n",
      "2.718281828459045\n"
     ]
    }
   ],
   "source": [
    "# Power and square roots\n",
    "\n",
    "print(math.pow(2, 3))      # 8.0 (float power)\n",
    "print(2 ** 3)              # 8 (same but returns int if possible)\n",
    "print(math.sqrt(16))       # 4.0 (square root)\n",
    "print(math.isqrt(16))      # 4 (integer square root)\n",
    "print(math.exp(1))         # e^1 = 2.718281828459045"
   ]
  },
  {
   "cell_type": "code",
   "execution_count": 5,
   "id": "ff970306",
   "metadata": {},
   "outputs": [
    {
     "name": "stdout",
     "output_type": "stream",
     "text": [
      "3.0\n",
      "2.0\n",
      "5.0\n",
      "0.6931471805599453\n"
     ]
    }
   ],
   "source": [
    "# Logarithmic Finctions\n",
    "\n",
    "print(math.log(8, 2))   # log base 2 of 8 → 3.0\n",
    "print(math.log10(100))  # log base 10 of 100 → 2.0\n",
    "print(math.log2(32))    # log base 2 of 32 → 5.0\n",
    "print(math.log1p(1))    # log(1+x), avoids precision errors for small x"
   ]
  },
  {
   "cell_type": "code",
   "execution_count": 6,
   "id": "f3c8545f",
   "metadata": {},
   "outputs": [
    {
     "name": "stdout",
     "output_type": "stream",
     "text": [
      "1.0\n",
      "-1.0\n",
      "0.9999999999999999\n"
     ]
    }
   ],
   "source": [
    "# Trigonometric functions\n",
    "\n",
    "print(math.sin(math.pi/2))   # 1.0\n",
    "print(math.cos(math.pi))     # -1.0\n",
    "print(math.tan(math.pi/4))   # 1.0"
   ]
  },
  {
   "cell_type": "code",
   "execution_count": 7,
   "id": "1fc6dd68",
   "metadata": {},
   "outputs": [
    {
     "name": "stdout",
     "output_type": "stream",
     "text": [
      "1.5707963267948966\n",
      "1.5707963267948966\n",
      "0.7853981633974483\n",
      "0.7853981633974483\n"
     ]
    }
   ],
   "source": [
    "# Inverse trigonometric functions\n",
    "\n",
    "print(math.asin(1))   # π/2\n",
    "print(math.acos(0))   # π/2\n",
    "print(math.atan(1))   # π/4\n",
    "print(math.atan2(1, 1))  # atan(y/x) → π/4"
   ]
  },
  {
   "cell_type": "code",
   "execution_count": 8,
   "id": "75364d1c",
   "metadata": {},
   "outputs": [
    {
     "name": "stdout",
     "output_type": "stream",
     "text": [
      "120\n"
     ]
    }
   ],
   "source": [
    "# Special functions\n",
    "print(math.factorial(5))  # 120"
   ]
  },
  {
   "cell_type": "code",
   "execution_count": 9,
   "id": "f5472543",
   "metadata": {},
   "outputs": [
    {
     "name": "stdout",
     "output_type": "stream",
     "text": [
      "6\n",
      "60\n"
     ]
    }
   ],
   "source": [
    "# GCD and LCM\n",
    "print(math.gcd(54, 24))   # 6\n",
    "print(math.lcm(12, 15))   # 60"
   ]
  },
  {
   "cell_type": "code",
   "execution_count": 10,
   "id": "7bf21b9a",
   "metadata": {},
   "outputs": [
    {
     "name": "stdout",
     "output_type": "stream",
     "text": [
      "1.0\n",
      "1.0\n"
     ]
    }
   ],
   "source": [
    "# Remainder & Modulus\n",
    "print(math.remainder(10, 3))   # 1.0 (closest to zero)\n",
    "print(math.fmod(10, 3))        # 1.0 (like % but float-safe)"
   ]
  },
  {
   "cell_type": "markdown",
   "id": "ab71cfca",
   "metadata": {},
   "source": [
    "`Difference:`\n",
    "\n",
    "- % → normal modulus\n",
    "- fmod → float-friendly\n",
    "- remainder → rounds quotient to nearest integer"
   ]
  },
  {
   "cell_type": "code",
   "execution_count": 11,
   "id": "bab895b3",
   "metadata": {},
   "outputs": [
    {
     "name": "stdout",
     "output_type": "stream",
     "text": [
      "5.0\n",
      "5.0\n"
     ]
    }
   ],
   "source": [
    "# Distance and Hypotenuse\n",
    "print(math.dist([0, 0], [3, 4]))   # 5.0 (Euclidean distance)\n",
    "print(math.hypot(3, 4))            # 5.0 (Pythagoras)"
   ]
  },
  {
   "cell_type": "markdown",
   "id": "6d3d7e7d",
   "metadata": {},
   "source": [
    "##### Practical Use Cases"
   ]
  },
  {
   "cell_type": "code",
   "execution_count": 12,
   "id": "201bda90",
   "metadata": {},
   "outputs": [
    {
     "name": "stdout",
     "output_type": "stream",
     "text": [
      "78.53981633974483 31.41592653589793\n"
     ]
    }
   ],
   "source": [
    "# Example 1: Circle Area & Circumference\n",
    "\n",
    "r = 5\n",
    "area = math.pi * r ** 2\n",
    "circumference = 2 * math.pi * r\n",
    "print(area, circumference)"
   ]
  },
  {
   "cell_type": "code",
   "execution_count": 13,
   "id": "74ef7cd6",
   "metadata": {},
   "outputs": [
    {
     "name": "stdout",
     "output_type": "stream",
     "text": [
      "5.0\n"
     ]
    }
   ],
   "source": [
    "# Distance between points\n",
    "\n",
    "p1, p2 = (1, 2), (4, 6)\n",
    "print(math.dist(p1, p2))  # 5.0"
   ]
  }
 ],
 "metadata": {
  "kernelspec": {
   "display_name": "base",
   "language": "python",
   "name": "python3"
  },
  "language_info": {
   "codemirror_mode": {
    "name": "ipython",
    "version": 3
   },
   "file_extension": ".py",
   "mimetype": "text/x-python",
   "name": "python",
   "nbconvert_exporter": "python",
   "pygments_lexer": "ipython3",
   "version": "3.10.14"
  }
 },
 "nbformat": 4,
 "nbformat_minor": 5
}
