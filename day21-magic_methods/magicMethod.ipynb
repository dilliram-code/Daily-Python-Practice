{
 "cells": [
  {
   "cell_type": "code",
   "execution_count": 2,
   "id": "a42c711a",
   "metadata": {},
   "outputs": [
    {
     "name": "stdout",
     "output_type": "stream",
     "text": [
      "Person('DR', 30)\n",
      "DR (30 years)\n"
     ]
    }
   ],
   "source": [
    "# __repr__ vs __str__\n",
    "class Person:\n",
    "    def __init__(self, name, age):\n",
    "        self.name = name\n",
    "        self.age = age\n",
    "\n",
    "    def __repr__(self):\n",
    "        return f\"Person({self.name!r}, {self.age})\"  # unambiguous\n",
    "\n",
    "    def __str__(self):\n",
    "        return f\"{self.name} ({self.age} years)\"     # readable\n",
    "\n",
    "\n",
    "p = Person(\"DR\", 30)\n",
    "print(repr(p))  # Person('DR', 30)\n",
    "print(str(p))   # DR (30 years)\n",
    "\n",
    "# Rule: repr() should help a developer; str() is for end-user readable form."
   ]
  },
  {
   "cell_type": "code",
   "execution_count": null,
   "id": "6addf9ff",
   "metadata": {},
   "outputs": [],
   "source": []
  }
 ],
 "metadata": {
  "kernelspec": {
   "display_name": "base",
   "language": "python",
   "name": "python3"
  },
  "language_info": {
   "codemirror_mode": {
    "name": "ipython",
    "version": 3
   },
   "file_extension": ".py",
   "mimetype": "text/x-python",
   "name": "python",
   "nbconvert_exporter": "python",
   "pygments_lexer": "ipython3",
   "version": "3.10.14"
  }
 },
 "nbformat": 4,
 "nbformat_minor": 5
}
