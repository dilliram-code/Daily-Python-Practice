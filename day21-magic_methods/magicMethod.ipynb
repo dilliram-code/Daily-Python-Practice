{
 "cells": [
  {
   "cell_type": "code",
   "execution_count": 3,
   "id": "a42c711a",
   "metadata": {},
   "outputs": [
    {
     "name": "stdout",
     "output_type": "stream",
     "text": [
      "Person('DR', 30)\n",
      "DR (30 years)\n"
     ]
    }
   ],
   "source": [
    "# __repr__ vs __str__\n",
    "class Person:\n",
    "    def __init__(self, name, age):\n",
    "        self.name = name\n",
    "        self.age = age\n",
    "\n",
    "    def __repr__(self):\n",
    "        return f\"Person({self.name!r}, {self.age})\"  # unambiguous\n",
    "\n",
    "    def __str__(self):\n",
    "        return f\"{self.name} ({self.age} years)\"     # readable\n",
    "\n",
    "\n",
    "p = Person(\"DR\", 30)\n",
    "print(repr(p))  # Person('DR', 30)\n",
    "print(str(p))   # DR (30 years)\n",
    "\n",
    "# Rule: repr() should help a developer; str() is for end-user readable form."
   ]
  },
  {
   "cell_type": "code",
   "execution_count": 4,
   "id": "6addf9ff",
   "metadata": {},
   "outputs": [
    {
     "name": "stdout",
     "output_type": "stream",
     "text": [
      "MyList with 3 items\n",
      "MyList([1, 2, 3])\n"
     ]
    }
   ],
   "source": [
    "# List-like Class\n",
    "class MyList:\n",
    "    def __init__(self, data):\n",
    "        self.data = data\n",
    "\n",
    "    def __repr__(self):\n",
    "        return f\"MyList({self.data!r})\"   # !r ensures repr() of data\n",
    "\n",
    "    def __str__(self):\n",
    "        return f\"MyList with {len(self.data)} items\"\n",
    "\n",
    "l = MyList([1, 2, 3])\n",
    "print(l)        # MyList with 3 items\n",
    "print(repr(l))  # MyList([1, 2, 3])\n"
   ]
  },
  {
   "cell_type": "code",
   "execution_count": null,
   "id": "ddc719dd",
   "metadata": {},
   "outputs": [
    {
     "name": "stdout",
     "output_type": "stream",
     "text": [
      "[Transaction(amount=100, type='deposit'), Transaction(amount=50, type='withdrawal')]\n"
     ]
    }
   ],
   "source": [
    "# debugging with repr\n",
    "class Transaction:\n",
    "    def __init__(self, amount, type_):\n",
    "        self.amount = amount\n",
    "        self.type_ = type_\n",
    "\n",
    "    def __repr__(self):\n",
    "        return f\"Transaction(amount={self.amount}, type='{self.type_}')\"\n",
    "\n",
    "\n",
    "transactions = [\n",
    "    Transaction(100, \"deposit\"),\n",
    "    Transaction(50, \"withdrawal\")\n",
    "]\n",
    "\n",
    "print(transactions)"
   ]
  },
  {
   "cell_type": "code",
   "execution_count": null,
   "id": "3126908a",
   "metadata": {},
   "outputs": [],
   "source": []
  }
 ],
 "metadata": {
  "kernelspec": {
   "display_name": "base",
   "language": "python",
   "name": "python3"
  },
  "language_info": {
   "codemirror_mode": {
    "name": "ipython",
    "version": 3
   },
   "file_extension": ".py",
   "mimetype": "text/x-python",
   "name": "python",
   "nbconvert_exporter": "python",
   "pygments_lexer": "ipython3",
   "version": "3.10.14"
  }
 },
 "nbformat": 4,
 "nbformat_minor": 5
}
