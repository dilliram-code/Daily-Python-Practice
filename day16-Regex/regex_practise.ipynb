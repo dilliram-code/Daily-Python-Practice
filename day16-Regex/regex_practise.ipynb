{
 "cells": [
  {
   "cell_type": "code",
   "execution_count": 13,
   "id": "9ff986df",
   "metadata": {},
   "outputs": [],
   "source": [
    "# import regular expression\n",
    "import re"
   ]
  },
  {
   "cell_type": "code",
   "execution_count": 14,
   "id": "e13100e6",
   "metadata": {},
   "outputs": [],
   "source": [
    "text = \"I love python programming\""
   ]
  },
  {
   "cell_type": "code",
   "execution_count": 21,
   "id": "5cfe6e12",
   "metadata": {},
   "outputs": [
    {
     "name": "stdout",
     "output_type": "stream",
     "text": [
      "None\n"
     ]
    }
   ],
   "source": [
    "# match\n",
    "print(re.match(\"python\", text))  # reason: match at the beginning only"
   ]
  },
  {
   "cell_type": "code",
   "execution_count": 22,
   "id": "b74fcfb0",
   "metadata": {},
   "outputs": [
    {
     "name": "stdout",
     "output_type": "stream",
     "text": [
      "<re.Match object; span=(0, 1), match='I'>\n"
     ]
    }
   ],
   "source": [
    "# match\n",
    "print(re.match(\"I\", text))   # Match at beginning ✅"
   ]
  },
  {
   "cell_type": "code",
   "execution_count": null,
   "id": "17b6391c",
   "metadata": {},
   "outputs": [
    {
     "name": "stdout",
     "output_type": "stream",
     "text": [
      "<re.Match object; span=(7, 13), match='python'>\n"
     ]
    }
   ],
   "source": [
    "# search\n",
    "print(re.search(\"python\", text))  # found anywhere ✅"
   ]
  },
  {
   "cell_type": "code",
   "execution_count": 25,
   "id": "6f88b587",
   "metadata": {},
   "outputs": [
    {
     "name": "stdout",
     "output_type": "stream",
     "text": [
      "None\n"
     ]
    }
   ],
   "source": [
    "print(re.match(\"Python\", text))  # ❌ None"
   ]
  },
  {
   "cell_type": "code",
   "execution_count": 17,
   "id": "8fffbf5d",
   "metadata": {},
   "outputs": [
    {
     "name": "stdout",
     "output_type": "stream",
     "text": [
      "<re.Match object; span=(3, 6), match='abc'>\n",
      "<re.Match object; span=(9, 12), match='abc'>\n"
     ]
    }
   ],
   "source": [
    "test_string = '123abc456abc789ABC123'\n",
    "pattern = re.compile(r\"abc\")\n",
    "matches = pattern.finditer(test_string)\n",
    "\n",
    "for match in matches:\n",
    "  print(match)"
   ]
  },
  {
   "cell_type": "code",
   "execution_count": null,
   "id": "cffa260b",
   "metadata": {},
   "outputs": [],
   "source": []
  },
  {
   "cell_type": "code",
   "execution_count": null,
   "id": "6a8e1e29",
   "metadata": {},
   "outputs": [],
   "source": []
  }
 ],
 "metadata": {
  "kernelspec": {
   "display_name": "base",
   "language": "python",
   "name": "python3"
  },
  "language_info": {
   "codemirror_mode": {
    "name": "ipython",
    "version": 3
   },
   "file_extension": ".py",
   "mimetype": "text/x-python",
   "name": "python",
   "nbconvert_exporter": "python",
   "pygments_lexer": "ipython3",
   "version": "3.10.14"
  }
 },
 "nbformat": 4,
 "nbformat_minor": 5
}
