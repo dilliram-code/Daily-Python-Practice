{
 "cells": [
  {
   "cell_type": "markdown",
   "id": "60d7901a",
   "metadata": {},
   "source": [
    "**Closure:** \n",
    "\n",
    "`A closure is an inner function that remembers it has access to variable in the local scopes in which it is created, even after the outer function scope has been finished its execution.`"
   ]
  },
  {
   "cell_type": "code",
   "execution_count": 3,
   "id": "82732fe0",
   "metadata": {},
   "outputs": [
    {
     "name": "stdout",
     "output_type": "stream",
     "text": [
      "My name is  Dilli Ram\n"
     ]
    }
   ],
   "source": [
    "def outer():\n",
    "  name = \"Dilli Ram\"\n",
    "  def inner():\n",
    "    print(\"My name is \", name)\n",
    "  return inner\n",
    "\n",
    "result = outer()  # Execution of outer function finishes here, but still inner function can access the variable name. \n",
    "result()"
   ]
  },
  {
   "cell_type": "code",
   "execution_count": null,
   "metadata": {},
   "outputs": [],
   "source": []
  },
  {
   "cell_type": "markdown",
   "id": "cd44bd6e",
   "metadata": {},
   "source": []
  },
  {
   "cell_type": "code",
   "execution_count": null,
   "id": "f2af8162",
   "metadata": {},
   "outputs": [],
   "source": []
  },
  {
   "cell_type": "code",
   "execution_count": null,
   "id": "768d6787",
   "metadata": {},
   "outputs": [],
   "source": []
  }
 ],
 "metadata": {
  "kernelspec": {
   "display_name": "base",
   "language": "python",
   "name": "python3"
  },
  "language_info": {
   "codemirror_mode": {
    "name": "ipython",
    "version": 3
   },
   "file_extension": ".py",
   "mimetype": "text/x-python",
   "name": "python",
   "nbconvert_exporter": "python",
   "pygments_lexer": "ipython3",
   "version": "3.10.14"
  }
 },
 "nbformat": 4,
 "nbformat_minor": 5
}
