{
 "cells": [
  {
   "cell_type": "markdown",
   "id": "60d7901a",
   "metadata": {},
   "source": [
    "**Closure:** \n",
    "\n",
    "`A closure is an inner function that remembers it has access to variable in the local scopes in which it is created, even after the outer function scope has been finished its execution.`"
   ]
  },
  {
   "cell_type": "code",
   "execution_count": 3,
   "id": "82732fe0",
   "metadata": {},
   "outputs": [
    {
     "name": "stdout",
     "output_type": "stream",
     "text": [
      "My name is  Dilli Ram\n"
     ]
    }
   ],
   "source": [
    "def outer():\n",
    "  name = \"Dilli Ram\"\n",
    "  def inner():\n",
    "    print(\"My name is \", name)\n",
    "  return inner\n",
    "\n",
    "result = outer()  # Execution of outer function finishes here, but still inner function can access the variable name. \n",
    "result()"
   ]
  },
  {
   "cell_type": "markdown",
   "id": "9e347abd",
   "metadata": {},
   "source": [
    "#### Practical Use Cases of Closures"
   ]
  },
  {
   "cell_type": "code",
   "execution_count": 8,
   "id": "f2af8162",
   "metadata": {},
   "outputs": [
    {
     "name": "stdout",
     "output_type": "stream",
     "text": [
      "6\n",
      "15\n"
     ]
    }
   ],
   "source": [
    "# Function Factory\n",
    "def multiplier(n1):\n",
    "  def inner(n2):\n",
    "    return n1 * n2\n",
    "  return inner\n",
    "\n",
    "\n",
    "double = multiplier(3)\n",
    "result1 = double(2)\n",
    "print(result1)\n",
    "\n",
    "\n",
    "triple = multiplier(5)\n",
    "result2 = triple(3)\n",
    "print(result2)"
   ]
  },
  {
   "cell_type": "markdown",
   "id": "768d6787",
   "metadata": {},
   "source": [
    "`Explanation:`\n",
    "- multiplier(3) returns a function where n1 = 3.\n",
    "- That returned function remembers n1 even after multiplier is gone."
   ]
  },
  {
   "cell_type": "code",
   "execution_count": 11,
   "id": "83a20b05",
   "metadata": {},
   "outputs": [
    {
     "name": "stdout",
     "output_type": "stream",
     "text": [
      "Withdrawl successful!, balance: 70\n",
      "Withdrawl successful!, balance: 50\n"
     ]
    }
   ],
   "source": [
    "# Data hiding\n",
    "# close can mimic private variables\n",
    "def bank_account(balance):\n",
    "  def withdraw(amount):\n",
    "    nonlocal balance   # modify outer space variable\n",
    "    if amount <= balance:\n",
    "      balance -= amount\n",
    "      print(f\"Withdrawl successful!, balance: {balance}\")\n",
    "    else:\n",
    "      print(\"Insufficient balance!\")\n",
    "  return withdraw\n",
    "\n",
    "account = bank_account(100)\n",
    "account(30)\n",
    "account(20)"
   ]
  },
  {
   "cell_type": "markdown",
   "id": "e0e4e82b",
   "metadata": {},
   "source": [
    "`The balance is hidden inside closure, can’t be accessed directly.`"
   ]
  },
  {
   "cell_type": "code",
   "execution_count": 15,
   "id": "ccbde68d",
   "metadata": {},
   "outputs": [
    {
     "name": "stdout",
     "output_type": "stream",
     "text": [
      "1\n",
      "2\n",
      "3\n"
     ]
    }
   ],
   "source": [
    "# State Tracking\n",
    "# with closures, we can maintain state in a clean and functional way, without polluting global scope.\n",
    "\n",
    "def counter():\n",
    "  count = 0   # state we want to track\n",
    "  def inner():\n",
    "    nonlocal count  # allows modification of outer variable\n",
    "    count += 1\n",
    "    return count\n",
    "  return inner\n",
    "\n",
    "# create a counter object\n",
    "my_counter = counter() \n",
    "print(my_counter())\n",
    "print(my_counter())\n",
    "print(my_counter())"
   ]
  },
  {
   "cell_type": "code",
   "execution_count": null,
   "id": "54141bbf",
   "metadata": {},
   "outputs": [],
   "source": []
  },
  {
   "cell_type": "code",
   "execution_count": null,
   "id": "80b3ae92",
   "metadata": {},
   "outputs": [],
   "source": []
  }
 ],
 "metadata": {
  "kernelspec": {
   "display_name": "base",
   "language": "python",
   "name": "python3"
  },
  "language_info": {
   "codemirror_mode": {
    "name": "ipython",
    "version": 3
   },
   "file_extension": ".py",
   "mimetype": "text/x-python",
   "name": "python",
   "nbconvert_exporter": "python",
   "pygments_lexer": "ipython3",
   "version": "3.10.14"
  }
 },
 "nbformat": 4,
 "nbformat_minor": 5
}
