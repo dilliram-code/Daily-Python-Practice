{
 "cells": [
  {
   "cell_type": "code",
   "execution_count": 2,
   "id": "16df6de8",
   "metadata": {},
   "outputs": [
    {
     "name": "stdout",
     "output_type": "stream",
     "text": [
      "Entering the context\n",
      "Resource Ready!\n",
      "Doing some work inside the context\n",
      "Exiting the context\n",
      "Cleanup complete!\n"
     ]
    }
   ],
   "source": [
    "# Custom Context manager\n",
    "class MyContext:\n",
    "  def __enter__(self):\n",
    "    print(\"Entering the context\")\n",
    "    return \"Resource Ready!\"\n",
    "  \n",
    "  def __exit__(self, exc_type, exc_value, traceback):\n",
    "    print(\"Exiting the context\")\n",
    "    if exc_type:\n",
    "      print(f\"An exception occured: {exc_value}\")\n",
    "    print(\"Cleanup complete!\")\n",
    "    \n",
    "\n",
    "# usage\n",
    "with MyContext() as resource:\n",
    "  print(resource)\n",
    "  print(\"Doing some work inside the context\")"
   ]
  },
  {
   "cell_type": "code",
   "execution_count": null,
   "id": "5f09975d",
   "metadata": {},
   "outputs": [],
   "source": []
  }
 ],
 "metadata": {
  "kernelspec": {
   "display_name": "base",
   "language": "python",
   "name": "python3"
  },
  "language_info": {
   "codemirror_mode": {
    "name": "ipython",
    "version": 3
   },
   "file_extension": ".py",
   "mimetype": "text/x-python",
   "name": "python",
   "nbconvert_exporter": "python",
   "pygments_lexer": "ipython3",
   "version": "3.10.14"
  }
 },
 "nbformat": 4,
 "nbformat_minor": 5
}
