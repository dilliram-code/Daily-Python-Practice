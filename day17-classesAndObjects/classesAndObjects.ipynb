{
 "cells": [
  {
   "cell_type": "code",
   "execution_count": null,
   "id": "a744ede8",
   "metadata": {},
   "outputs": [],
   "source": [
    "# Class: a blueprint or template that defines attributes (data) and methods (behavior)."
   ]
  },
  {
   "cell_type": "code",
   "execution_count": 1,
   "id": "60628684",
   "metadata": {},
   "outputs": [
    {
     "name": "stdout",
     "output_type": "stream",
     "text": [
      "Woof!\n"
     ]
    }
   ],
   "source": [
    "class Dog:\n",
    "    def bark(self):\n",
    "        print(\"Woof!\")\n",
    "\n",
    "\n",
    "# create (instantiate) an object\n",
    "d = Dog()\n",
    "d.bark()  # Woof!"
   ]
  },
  {
   "cell_type": "code",
   "execution_count": null,
   "id": "63f6aa7b",
   "metadata": {},
   "outputs": [],
   "source": [
    "# Dog is the class; d is an instance/ object."
   ]
  }
 ],
 "metadata": {
  "kernelspec": {
   "display_name": "base",
   "language": "python",
   "name": "python3"
  },
  "language_info": {
   "codemirror_mode": {
    "name": "ipython",
    "version": 3
   },
   "file_extension": ".py",
   "mimetype": "text/x-python",
   "name": "python",
   "nbconvert_exporter": "python",
   "pygments_lexer": "ipython3",
   "version": "3.10.14"
  }
 },
 "nbformat": 4,
 "nbformat_minor": 5
}
