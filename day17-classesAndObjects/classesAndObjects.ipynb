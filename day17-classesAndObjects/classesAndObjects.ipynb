{
 "cells": [
  {
   "cell_type": "code",
   "execution_count": null,
   "id": "a744ede8",
   "metadata": {},
   "outputs": [],
   "source": [
    "# Class: a blueprint or template that defines attributes (data) and methods (behavior)."
   ]
  },
  {
   "cell_type": "code",
   "execution_count": 1,
   "id": "60628684",
   "metadata": {},
   "outputs": [
    {
     "name": "stdout",
     "output_type": "stream",
     "text": [
      "Woof!\n"
     ]
    }
   ],
   "source": [
    "class Dog:\n",
    "    def bark(self):\n",
    "        print(\"Woof!\")\n",
    "\n",
    "\n",
    "# create (instantiate) an object\n",
    "d = Dog()\n",
    "d.bark()  # Woof!"
   ]
  },
  {
   "cell_type": "code",
   "execution_count": null,
   "id": "f1fe8b55",
   "metadata": {},
   "outputs": [],
   "source": [
    "# Dog is the class; d is an instance/ object."
   ]
  },
  {
   "cell_type": "code",
   "execution_count": 7,
   "id": "f20f2d8e",
   "metadata": {},
   "outputs": [
    {
     "name": "stdout",
     "output_type": "stream",
     "text": [
      "Dilli is 30 years old.\n",
      "Subin is 31 years old.\n"
     ]
    }
   ],
   "source": [
    "class Identity:\n",
    "  def __init__(self, name, age):     # __init__ takes arguments\n",
    "    self.name = name\t\t\t\t\t\t\t\t # initializes instance attributes\n",
    "    self.age = age\n",
    "\n",
    "\n",
    "# creating objects\n",
    "person1 = Identity(\"Dilli\", 30)\n",
    "person2 = Identity(\"Subin\", 31)\n",
    "\n",
    "print(person1.name,\"is\",person1.age,\"years old.\")  \n",
    "print(person2.name,\"is\",person2.age, \"years old.\")"
   ]
  },
  {
   "cell_type": "markdown",
   "id": "63f6aa7b",
   "metadata": {},
   "source": [
    "`✔ When you run Identity(\"Dilli\", 30), Python calls __init__(self, \"Dilli\", 30) automatically.`"
   ]
  },
  {
   "cell_type": "code",
   "execution_count": null,
   "id": "aeafe21d",
   "metadata": {},
   "outputs": [
    {
     "name": "stdout",
     "output_type": "stream",
     "text": [
      "12\n"
     ]
    }
   ],
   "source": [
    "# self keyword example code use case\n",
    "class Counter:\n",
    "    def __init__(self, start=0):\n",
    "        self.count = start  # store on the instance\n",
    "\n",
    "    def increment(self, n=1):\n",
    "        self.count += n\n",
    "\n",
    "\n",
    "c = Counter(10)\n",
    "c.increment(2)        # behind the scenes: Counter.increment(c, 2)\n",
    "print(c.count)        # 12"
   ]
  },
  {
   "cell_type": "markdown",
   "id": "5a2c788f",
   "metadata": {},
   "source": [
    "`The Role of self`\n",
    "\n",
    "- self represents the current instance of the class.\n",
    "- You must use self to attach values to the object.\n",
    "- Without self, attributes won’t belong to the object."
   ]
  },
  {
   "cell_type": "code",
   "execution_count": 8,
   "id": "6a33ad53",
   "metadata": {},
   "outputs": [
    {
     "name": "stdout",
     "output_type": "stream",
     "text": [
      "Tommy\n"
     ]
    }
   ],
   "source": [
    "class Dog:\n",
    "    def __init__(self, name):\n",
    "        self.name = name   # attached to the object\n",
    "        sound = \"Bark\"     # local variable, disappears after init\n",
    "\n",
    "\n",
    "d = Dog(\"Tommy\")\n",
    "print(d.name)   # ✅ Works\n",
    "# print(d.sound) # ❌ Error, not attached with self"
   ]
  },
  {
   "cell_type": "code",
   "execution_count": 9,
   "id": "454f7b1d",
   "metadata": {},
   "outputs": [
    {
     "ename": "AttributeError",
     "evalue": "'Dog' object has no attribute 'sound'",
     "output_type": "error",
     "traceback": [
      "\u001b[1;31m---------------------------------------------------------------------------\u001b[0m",
      "\u001b[1;31mAttributeError\u001b[0m                            Traceback (most recent call last)",
      "Cell \u001b[1;32mIn[9], line 1\u001b[0m\n\u001b[1;32m----> 1\u001b[0m \u001b[38;5;28mprint\u001b[39m(\u001b[43md\u001b[49m\u001b[38;5;241;43m.\u001b[39;49m\u001b[43msound\u001b[49m)\n",
      "\u001b[1;31mAttributeError\u001b[0m: 'Dog' object has no attribute 'sound'"
     ]
    }
   ],
   "source": [
    "print(d.sound)"
   ]
  },
  {
   "cell_type": "code",
   "execution_count": 10,
   "id": "3a4d99e3",
   "metadata": {},
   "outputs": [
    {
     "name": "stdout",
     "output_type": "stream",
     "text": [
      "Tesla Black\n",
      "BMW Blue\n"
     ]
    }
   ],
   "source": [
    "# Default Values in __init__\n",
    "class Car:\n",
    "    def __init__(self, brand, color=\"Black\"):\n",
    "        self.brand = brand\n",
    "        self.color = color\n",
    "\n",
    "\n",
    "c1 = Car(\"Tesla\")\n",
    "c2 = Car(\"BMW\", \"Blue\")\n",
    "\n",
    "print(c1.brand, c1.color)  # Tesla Black\n",
    "print(c2.brand, c2.color)  # BMW Blue"
   ]
  },
  {
   "cell_type": "code",
   "execution_count": 11,
   "id": "672ab1d1",
   "metadata": {},
   "outputs": [
    {
     "name": "stdout",
     "output_type": "stream",
     "text": [
      "My name is Dilli . I am 30 .\n"
     ]
    }
   ],
   "source": [
    "# Multiple Attributes Initialization\n",
    "class Campus:\n",
    "  def __init__(self, name, age, roll, marks):\n",
    "    self.name = name\n",
    "    self.age = age\n",
    "    self.roll = roll\n",
    "    self.marks = marks\n",
    "  \n",
    "  def show_details(self):\n",
    "    print(\"My name is\", self.name,\". I am\", self.age,\".\")\n",
    "    \n",
    "  def show_marks(self):\n",
    "    print(\"Your roll no. is\", self.roll, \"and your marks is\", self.marks)\n",
    "    \n",
    "\n",
    "student1 = Campus(\"Dilli\", 30, 1, 86)\n",
    "student2 = Campus(\"Arbind\", 32, 2, 95)\n",
    "\n",
    "student1.show_details()\n"
   ]
  },
  {
   "cell_type": "code",
   "execution_count": 12,
   "id": "8c413e38",
   "metadata": {},
   "outputs": [
    {
     "name": "stdout",
     "output_type": "stream",
     "text": [
      "Your roll no. is 2 and your marks is 95\n"
     ]
    }
   ],
   "source": [
    "student2.show_marks()"
   ]
  },
  {
   "cell_type": "code",
   "execution_count": null,
   "id": "01f50b5a",
   "metadata": {},
   "outputs": [],
   "source": []
  }
 ],
 "metadata": {
  "kernelspec": {
   "display_name": "base",
   "language": "python",
   "name": "python3"
  },
  "language_info": {
   "codemirror_mode": {
    "name": "ipython",
    "version": 3
   },
   "file_extension": ".py",
   "mimetype": "text/x-python",
   "name": "python",
   "nbconvert_exporter": "python",
   "pygments_lexer": "ipython3",
   "version": "3.10.14"
  }
 },
 "nbformat": 4,
 "nbformat_minor": 5
}
