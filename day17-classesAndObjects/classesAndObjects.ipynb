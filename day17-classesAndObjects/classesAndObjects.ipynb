{
 "cells": [
  {
   "cell_type": "code",
   "execution_count": null,
   "id": "a744ede8",
   "metadata": {},
   "outputs": [],
   "source": [
    "# Class: a blueprint or template that defines attributes (data) and methods (behavior)."
   ]
  },
  {
   "cell_type": "code",
   "execution_count": 1,
   "id": "60628684",
   "metadata": {},
   "outputs": [
    {
     "name": "stdout",
     "output_type": "stream",
     "text": [
      "Woof!\n"
     ]
    }
   ],
   "source": [
    "class Dog:\n",
    "    def bark(self):\n",
    "        print(\"Woof!\")\n",
    "\n",
    "\n",
    "# create (instantiate) an object\n",
    "d = Dog()\n",
    "d.bark()  # Woof!"
   ]
  },
  {
   "cell_type": "code",
   "execution_count": null,
   "id": "f1fe8b55",
   "metadata": {},
   "outputs": [],
   "source": [
    "# Dog is the class; d is an instance/ object."
   ]
  },
  {
   "cell_type": "code",
   "execution_count": 7,
   "id": "f20f2d8e",
   "metadata": {},
   "outputs": [
    {
     "name": "stdout",
     "output_type": "stream",
     "text": [
      "Dilli is 30 years old.\n",
      "Subin is 31 years old.\n"
     ]
    }
   ],
   "source": [
    "class Identity:\n",
    "  def __init__(self, name, age):     # __init__ takes arguments\n",
    "    self.name = name\t\t\t\t\t\t\t\t # initializes instance attributes\n",
    "    self.age = age\n",
    "\n",
    "\n",
    "# creating objects\n",
    "person1 = Identity(\"Dilli\", 30)\n",
    "person2 = Identity(\"Subin\", 31)\n",
    "\n",
    "print(person1.name,\"is\",person1.age,\"years old.\")  \n",
    "print(person2.name,\"is\",person2.age, \"years old.\")"
   ]
  },
  {
   "cell_type": "markdown",
   "id": "63f6aa7b",
   "metadata": {},
   "source": [
    "`✔ When you run Identity(\"Dilli\", 30), Python calls __init__(self, \"Dilli\", 30) automatically.`"
   ]
  },
  {
   "cell_type": "code",
   "execution_count": null,
   "id": "aeafe21d",
   "metadata": {},
   "outputs": [
    {
     "name": "stdout",
     "output_type": "stream",
     "text": [
      "12\n"
     ]
    }
   ],
   "source": [
    "# self keyword example code use case\n",
    "class Counter:\n",
    "    def __init__(self, start=0):\n",
    "        self.count = start  # store on the instance\n",
    "\n",
    "    def increment(self, n=1):\n",
    "        self.count += n\n",
    "\n",
    "\n",
    "c = Counter(10)\n",
    "c.increment(2)        # behind the scenes: Counter.increment(c, 2)\n",
    "print(c.count)        # 12"
   ]
  },
  {
   "cell_type": "markdown",
   "id": "5a2c788f",
   "metadata": {},
   "source": [
    "`The Role of self`\n",
    "\n",
    "- self represents the current instance of the class.\n",
    "- You must use self to attach values to the object.\n",
    "- Without self, attributes won’t belong to the object."
   ]
  },
  {
   "cell_type": "code",
   "execution_count": 8,
   "id": "6a33ad53",
   "metadata": {},
   "outputs": [
    {
     "name": "stdout",
     "output_type": "stream",
     "text": [
      "Tommy\n"
     ]
    }
   ],
   "source": [
    "class Dog:\n",
    "    def __init__(self, name):\n",
    "        self.name = name   # attached to the object\n",
    "        sound = \"Bark\"     # local variable, disappears after init\n",
    "\n",
    "\n",
    "d = Dog(\"Tommy\")\n",
    "print(d.name)   # ✅ Works\n",
    "# print(d.sound) # ❌ Error, not attached with self"
   ]
  },
  {
   "cell_type": "code",
   "execution_count": 9,
   "id": "454f7b1d",
   "metadata": {},
   "outputs": [
    {
     "ename": "AttributeError",
     "evalue": "'Dog' object has no attribute 'sound'",
     "output_type": "error",
     "traceback": [
      "\u001b[1;31m---------------------------------------------------------------------------\u001b[0m",
      "\u001b[1;31mAttributeError\u001b[0m                            Traceback (most recent call last)",
      "Cell \u001b[1;32mIn[9], line 1\u001b[0m\n\u001b[1;32m----> 1\u001b[0m \u001b[38;5;28mprint\u001b[39m(\u001b[43md\u001b[49m\u001b[38;5;241;43m.\u001b[39;49m\u001b[43msound\u001b[49m)\n",
      "\u001b[1;31mAttributeError\u001b[0m: 'Dog' object has no attribute 'sound'"
     ]
    }
   ],
   "source": [
    "print(d.sound)"
   ]
  },
  {
   "cell_type": "code",
   "execution_count": 10,
   "id": "3a4d99e3",
   "metadata": {},
   "outputs": [
    {
     "name": "stdout",
     "output_type": "stream",
     "text": [
      "Tesla Black\n",
      "BMW Blue\n"
     ]
    }
   ],
   "source": [
    "# Default Values in __init__\n",
    "class Car:\n",
    "    def __init__(self, brand, color=\"Black\"):\n",
    "        self.brand = brand\n",
    "        self.color = color\n",
    "\n",
    "\n",
    "c1 = Car(\"Tesla\")\n",
    "c2 = Car(\"BMW\", \"Blue\")\n",
    "\n",
    "print(c1.brand, c1.color)  # Tesla Black\n",
    "print(c2.brand, c2.color)  # BMW Blue"
   ]
  },
  {
   "cell_type": "code",
   "execution_count": 11,
   "id": "672ab1d1",
   "metadata": {},
   "outputs": [
    {
     "name": "stdout",
     "output_type": "stream",
     "text": [
      "My name is Dilli . I am 30 .\n"
     ]
    }
   ],
   "source": [
    "# Multiple Attributes Initialization\n",
    "class Campus:\n",
    "  def __init__(self, name, age, roll, marks):\n",
    "    self.name = name\n",
    "    self.age = age\n",
    "    self.roll = roll\n",
    "    self.marks = marks\n",
    "  \n",
    "  def show_details(self):\n",
    "    print(\"My name is\", self.name,\". I am\", self.age,\".\")\n",
    "    \n",
    "  def show_marks(self):\n",
    "    print(\"Your roll no. is\", self.roll, \"and your marks is\", self.marks)\n",
    "    \n",
    "\n",
    "student1 = Campus(\"Dilli\", 30, 1, 86)\n",
    "student2 = Campus(\"Arbind\", 32, 2, 95)\n",
    "\n",
    "student1.show_details()\n"
   ]
  },
  {
   "cell_type": "code",
   "execution_count": 12,
   "id": "8c413e38",
   "metadata": {},
   "outputs": [
    {
     "name": "stdout",
     "output_type": "stream",
     "text": [
      "Your roll no. is 2 and your marks is 95\n"
     ]
    }
   ],
   "source": [
    "student2.show_marks()"
   ]
  },
  {
   "cell_type": "code",
   "execution_count": 14,
   "id": "01f50b5a",
   "metadata": {},
   "outputs": [
    {
     "name": "stdout",
     "output_type": "stream",
     "text": [
      "Object created!\n"
     ]
    }
   ],
   "source": [
    "# Empty __init__\n",
    "class Myclass:\n",
    "  def __init__(self):\n",
    "    print(\"Object created!\")\n",
    "\n",
    "myclass1 = Myclass()\n",
    "\n",
    "# myclass1"
   ]
  },
  {
   "cell_type": "markdown",
   "id": "97174a0e",
   "metadata": {},
   "source": [
    "`Not mandatory to define __init__.`\n",
    "\n",
    "`But if defined as empty, it still runs.`"
   ]
  },
  {
   "cell_type": "code",
   "execution_count": 21,
   "id": "d124f7dd",
   "metadata": {},
   "outputs": [
    {
     "name": "stdout",
     "output_type": "stream",
     "text": [
      "Rakesh 1000\n",
      "Tarjan 0\n"
     ]
    }
   ],
   "source": [
    "# __init__ with logic\n",
    "class Bank:\n",
    "  def __init__(self, name, balance = 0):\n",
    "    if balance < 0: \n",
    "      raise ValueError(\"Balance can't be negative!\")\n",
    "    \n",
    "    self.name = name\n",
    "    self.balance = balance\n",
    "    \n",
    "\n",
    "a1 = Bank(\"Rakesh\", 1000)\n",
    "print(a1.name, a1.balance)\n",
    "\n",
    "a2 = Bank(\"Tarjan\")\n",
    "print(a2.name, a2.balance)"
   ]
  },
  {
   "cell_type": "code",
   "execution_count": 23,
   "id": "91fc86eb",
   "metadata": {},
   "outputs": [
    {
     "name": "stdout",
     "output_type": "stream",
     "text": [
      "Positional args: (1, 2, 3, 4, 5)\n",
      "Keyword arguments: {'first': 'First', 'second': 'Second', 'third': 3}\n"
     ]
    }
   ],
   "source": [
    "# Advanced: Multiple __init__ Parameters\n",
    "class Flexible:\n",
    "  def __init__(self, *args, **kwargs):\n",
    "    print(\"Positional args:\", args)\n",
    "    print(\"Keyword arguments:\", kwargs)\n",
    "  \n",
    "f1 = Flexible(1,2,3,4,5, first= \"First\", second = \"Second\", third = 3)"
   ]
  },
  {
   "cell_type": "code",
   "execution_count": 24,
   "id": "dc1464f8",
   "metadata": {},
   "outputs": [],
   "source": [
    "# arguments are returned in the form of tuple. \n",
    "# keyword arguments are returned in the form of dictionary."
   ]
  },
  {
   "cell_type": "code",
   "execution_count": 29,
   "id": "14c2e137",
   "metadata": {},
   "outputs": [
    {
     "name": "stdout",
     "output_type": "stream",
     "text": [
      "Tommy\n",
      "Roccy\n"
     ]
    }
   ],
   "source": [
    "# Calling Parent __init__ (Inheritance)\n",
    "# When using inheritance, call the parent __init__ to ensure base attributes are initialized.\n",
    "\n",
    "class DogSpecies:\n",
    "  def __init__(self, species):\n",
    "    self.species = species\n",
    "    \n",
    "class DogName(DogSpecies):\n",
    "  def __init__(self, name, species=\"Roccy\"):\n",
    "    super().__init__(species)    # call parent __init__\n",
    "    self.name = name\n",
    "    \n",
    "\n",
    "d = DogName(\"Tommy\")\n",
    "print(d.name) \n",
    "print(d.species)"
   ]
  },
  {
   "cell_type": "code",
   "execution_count": null,
   "id": "9787cd0f",
   "metadata": {},
   "outputs": [],
   "source": []
  }
 ],
 "metadata": {
  "kernelspec": {
   "display_name": "base",
   "language": "python",
   "name": "python3"
  },
  "language_info": {
   "codemirror_mode": {
    "name": "ipython",
    "version": 3
   },
   "file_extension": ".py",
   "mimetype": "text/x-python",
   "name": "python",
   "nbconvert_exporter": "python",
   "pygments_lexer": "ipython3",
   "version": "3.10.14"
  }
 },
 "nbformat": 4,
 "nbformat_minor": 5
}
