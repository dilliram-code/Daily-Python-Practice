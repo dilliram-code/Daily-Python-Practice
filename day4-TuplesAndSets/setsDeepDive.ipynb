{
 "cells": [
  {
   "cell_type": "markdown",
   "id": "46b68f6b",
   "metadata": {},
   "source": [
    "#### ✅ Definition:\n",
    "\n",
    "A set in Python is an unordered collection of unique elements.\n",
    "It is used to remove duplicates and perform mathematical set operations (union, intersection, etc.)."
   ]
  },
  {
   "cell_type": "code",
   "execution_count": 1,
   "id": "7c6c0972",
   "metadata": {},
   "outputs": [
    {
     "name": "stdout",
     "output_type": "stream",
     "text": [
      "{1, 2, 3, 4, 5}\n"
     ]
    }
   ],
   "source": [
    "# Creating a set\n",
    "numbers = {1, 2, 3, 4, 5}\n",
    "print(numbers)"
   ]
  },
  {
   "cell_type": "markdown",
   "id": "69a6f1ef",
   "metadata": {},
   "source": [
    "#### ✅ Key Properties:\n",
    "\n",
    "- No duplicates\n",
    "\n",
    "- Unordered (no indexing or slicing)\n",
    "\n",
    "- Mutable (can add/remove items)\n",
    "\n",
    "- Can’t contain mutable items (like lists or dictionaries)"
   ]
  },
  {
   "cell_type": "code",
   "execution_count": null,
   "id": "c7344969",
   "metadata": {},
   "outputs": [],
   "source": []
  },
  {
   "cell_type": "code",
   "execution_count": null,
   "id": "7486d1ae",
   "metadata": {},
   "outputs": [],
   "source": []
  }
 ],
 "metadata": {
  "kernelspec": {
   "display_name": "base",
   "language": "python",
   "name": "python3"
  },
  "language_info": {
   "codemirror_mode": {
    "name": "ipython",
    "version": 3
   },
   "file_extension": ".py",
   "mimetype": "text/x-python",
   "name": "python",
   "nbconvert_exporter": "python",
   "pygments_lexer": "ipython3",
   "version": "3.13.5"
  }
 },
 "nbformat": 4,
 "nbformat_minor": 5
}
