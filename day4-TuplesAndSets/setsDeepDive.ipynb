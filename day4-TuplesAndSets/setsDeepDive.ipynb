{
 "cells": [
  {
   "cell_type": "markdown",
   "id": "46b68f6b",
   "metadata": {},
   "source": [
    "#### ✅ Definition:\n",
    "\n",
    "A set in Python is an unordered collection of unique elements.\n",
    "It is used to remove duplicates and perform mathematical set operations (union, intersection, etc.)."
   ]
  },
  {
   "cell_type": "code",
   "execution_count": 1,
   "id": "7c6c0972",
   "metadata": {},
   "outputs": [
    {
     "name": "stdout",
     "output_type": "stream",
     "text": [
      "{1, 2, 3, 4, 5}\n"
     ]
    }
   ],
   "source": [
    "# Creating a set\n",
    "numbers = {1, 2, 3, 4, 5}\n",
    "print(numbers)"
   ]
  },
  {
   "cell_type": "markdown",
   "id": "69a6f1ef",
   "metadata": {},
   "source": [
    "#### ✅ Key Properties:\n",
    "\n",
    "- No duplicates\n",
    "\n",
    "- Unordered (no indexing or slicing)\n",
    "\n",
    "- Mutable (can add/remove items)\n",
    "\n",
    "- Can’t contain mutable items (like lists or dictionaries)"
   ]
  },
  {
   "cell_type": "markdown",
   "id": "c7344969",
   "metadata": {},
   "source": [
    "#### Creating Sets"
   ]
  },
  {
   "cell_type": "code",
   "execution_count": 5,
   "id": "7486d1ae",
   "metadata": {},
   "outputs": [
    {
     "name": "stdout",
     "output_type": "stream",
     "text": [
      "<class 'set'> \n",
      " <class 'dict'>\n"
     ]
    }
   ],
   "source": [
    "# Empty set\n",
    "\n",
    "a = set()       # Correct way\n",
    "b = {}          # Creates a dictionary, not a set!\n",
    "print(type(a),\"\\n\",type(b))"
   ]
  },
  {
   "cell_type": "code",
   "execution_count": 6,
   "id": "ca91b4e3",
   "metadata": {},
   "outputs": [
    {
     "name": "stdout",
     "output_type": "stream",
     "text": [
      "{1, 2, 3} {3, 4, 5}\n"
     ]
    }
   ],
   "source": [
    "# From list or tuple\n",
    "\n",
    "s1 = set([1, 2, 3, 3, 2])\n",
    "s2 = set((3, 4, 5))\n",
    "print(s1, s2)"
   ]
  },
  {
   "cell_type": "markdown",
   "id": "26313582",
   "metadata": {},
   "source": [
    "#### Accessing Elements\n",
    "\n",
    "Sets are unordered, so you cannot use indexing."
   ]
  },
  {
   "cell_type": "code",
   "execution_count": 7,
   "id": "baae29cb",
   "metadata": {},
   "outputs": [
    {
     "name": "stdout",
     "output_type": "stream",
     "text": [
      "10\n",
      "20\n",
      "30\n"
     ]
    }
   ],
   "source": [
    "s = {10, 20, 30}\n",
    "for item in s:\n",
    "    print(item)"
   ]
  },
  {
   "cell_type": "markdown",
   "id": "6cf1db84",
   "metadata": {},
   "source": [
    "#### Adding and Removing Elements"
   ]
  },
  {
   "cell_type": "code",
   "execution_count": 8,
   "id": "b03bbe71",
   "metadata": {},
   "outputs": [
    {
     "name": "stdout",
     "output_type": "stream",
     "text": [
      "{1, 2, 3, 4, 5, 6}\n",
      "{1, 3, 4, 5, 6}\n",
      "Popped: 1\n"
     ]
    }
   ],
   "source": [
    "s = {1, 2, 3}\n",
    "s.add(4)            # Add single element\n",
    "s.update([5, 6])    # Add multiple elements\n",
    "print(s)\n",
    "\n",
    "s.remove(2)         # Remove specific item; error if not found\n",
    "s.discard(10)       # No error if not found\n",
    "print(s)\n",
    "\n",
    "popped = s.pop()    # Removes random element\n",
    "print(\"Popped:\", popped)"
   ]
  },
  {
   "cell_type": "markdown",
   "id": "6b568edd",
   "metadata": {},
   "source": [
    "#### Set Operations (Mathematical)"
   ]
  },
  {
   "cell_type": "code",
   "execution_count": 9,
   "id": "f214df33",
   "metadata": {},
   "outputs": [
    {
     "name": "stdout",
     "output_type": "stream",
     "text": [
      "{1, 2, 3, 4, 5, 6}\n",
      "{3, 4}\n",
      "{1, 2}\n",
      "{1, 2, 5, 6}\n"
     ]
    }
   ],
   "source": [
    "A = {1, 2, 3, 4}\n",
    "B = {3, 4, 5, 6}\n",
    "\n",
    "print(A | B)   # Union\n",
    "print(A & B)   # Intersection\n",
    "print(A - B)   # Difference\n",
    "print(A ^ B)   # Symmetric Difference"
   ]
  },
  {
   "cell_type": "code",
   "execution_count": null,
   "id": "77e86d7d",
   "metadata": {},
   "outputs": [],
   "source": []
  }
 ],
 "metadata": {
  "kernelspec": {
   "display_name": "base",
   "language": "python",
   "name": "python3"
  },
  "language_info": {
   "codemirror_mode": {
    "name": "ipython",
    "version": 3
   },
   "file_extension": ".py",
   "mimetype": "text/x-python",
   "name": "python",
   "nbconvert_exporter": "python",
   "pygments_lexer": "ipython3",
   "version": "3.13.5"
  }
 },
 "nbformat": 4,
 "nbformat_minor": 5
}
