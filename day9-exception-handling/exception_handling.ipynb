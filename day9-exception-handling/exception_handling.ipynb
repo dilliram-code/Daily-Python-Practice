{
 "cells": [
  {
   "cell_type": "code",
   "execution_count": 4,
   "id": "7524692a",
   "metadata": {},
   "outputs": [
    {
     "name": "stdout",
     "output_type": "stream",
     "text": [
      "Error: Cannot divide by zero.\n"
     ]
    }
   ],
   "source": [
    "# try..except\n",
    "\n",
    "try:\n",
    "  x = int(input(\"Enter the first number:\"))\n",
    "  y = int(input(\"Enter the second number:\"))\n",
    "  result = x/y\n",
    "  print(f\"Result: {result}\")\n",
    "except ZeroDivisionError:\n",
    "  print(\"Error: Cannot divide by zero.\")\n",
    "except ValueError:\n",
    "  print(\"Error: Please enter numbers!\")"
   ]
  },
  {
   "cell_type": "code",
   "execution_count": 3,
   "id": "501e6f5b",
   "metadata": {},
   "outputs": [],
   "source": [
    "# Explanation:\n",
    "# Code that may fail goes inside the try block.\n",
    "# except catches specific errors.\n",
    "# Execution continues after handling the exception."
   ]
  },
  {
   "cell_type": "code",
   "execution_count": 5,
   "id": "371d7fe8",
   "metadata": {},
   "outputs": [
    {
     "name": "stdout",
     "output_type": "stream",
     "text": [
      "Error occurred: invalid literal for int() with base 10: 'a'\n"
     ]
    }
   ],
   "source": [
    "# Catching multiple exceptions\n",
    "try:\n",
    "  firstNumber = int(input(\"Enter the first number:\"))\n",
    "  secondNumber = int(input(\"Enter the second number:\"))\n",
    "  result = firstNumber/secondNumber\n",
    "  print(f\"Result: {result}\")\n",
    "except (ZeroDivisionError, ValueError) as e:\n",
    "  print(\"Error occurred:\",e)"
   ]
  },
  {
   "cell_type": "code",
   "execution_count": null,
   "id": "40f72548",
   "metadata": {},
   "outputs": [],
   "source": [
    "# Using a tuple in except handles multiple exception types."
   ]
  },
  {
   "cell_type": "code",
   "execution_count": null,
   "id": "ecccbb1d",
   "metadata": {},
   "outputs": [
    {
     "name": "stdout",
     "output_type": "stream",
     "text": [
      "Something went wrong: division by zero\n"
     ]
    }
   ],
   "source": [
    "# Catch all exceptions\n",
    "try:\n",
    "  result = 10/0\n",
    "  print(f\"Result: {result}\")\n",
    "except Exception as e:\n",
    "  print(\"Something went wrong:\", e)"
   ]
  },
  {
   "cell_type": "code",
   "execution_count": null,
   "id": "10c1ef9c",
   "metadata": {},
   "outputs": [],
   "source": [
    "# Exception is the base class for most built-in exceptions.\n",
    "# Use carefully — catching all exceptions can hide bugs."
   ]
  },
  {
   "cell_type": "code",
   "execution_count": 7,
   "id": "ba2eebf4",
   "metadata": {},
   "outputs": [
    {
     "name": "stdout",
     "output_type": "stream",
     "text": [
      "You entered: 3\n"
     ]
    }
   ],
   "source": [
    "# try, except and else\n",
    "try:\n",
    "  input_number = int(input(\"Enter a number:\"))\n",
    "except ValueError:\n",
    "  print(\"Invalide input!\")\n",
    "else:\n",
    "  print(\"You entered:\", input_number)"
   ]
  },
  {
   "cell_type": "code",
   "execution_count": null,
   "id": "cf5e5118",
   "metadata": {},
   "outputs": [],
   "source": [
    "# else: Runs only if no exception occurs in the try block."
   ]
  },
  {
   "cell_type": "code",
   "execution_count": 15,
   "id": "34f9e9a5",
   "metadata": {},
   "outputs": [
    {
     "name": "stdout",
     "output_type": "stream",
     "text": [
      "Error: File not found\n",
      "This has to be printed any way!\n"
     ]
    }
   ],
   "source": [
    "# try, else and finally\n",
    "try:\n",
    "    f = open(\"filename.txt\", \"r\")\n",
    "    line = f.read()\n",
    "except FileNotFoundError:\n",
    "  print(\"Error: File not found\")\n",
    "except NameError as e:\n",
    "  print(\"Error: \", e)\n",
    "finally:\n",
    "  print(\"This has to be printed any way!\")\n",
    "  # f.close()"
   ]
  },
  {
   "cell_type": "code",
   "execution_count": 11,
   "id": "3f0bc36f",
   "metadata": {},
   "outputs": [],
   "source": [
    "# finally:\n",
    "# Runs no matter what, whether an exception occurred or not.\n",
    "# Useful for cleanup, like closing files or releasing resources."
   ]
  },
  {
   "cell_type": "code",
   "execution_count": null,
   "id": "b3bf0824",
   "metadata": {},
   "outputs": [],
   "source": []
  }
 ],
 "metadata": {
  "kernelspec": {
   "display_name": "base",
   "language": "python",
   "name": "python3"
  },
  "language_info": {
   "codemirror_mode": {
    "name": "ipython",
    "version": 3
   },
   "file_extension": ".py",
   "mimetype": "text/x-python",
   "name": "python",
   "nbconvert_exporter": "python",
   "pygments_lexer": "ipython3",
   "version": "3.10.14"
  }
 },
 "nbformat": 4,
 "nbformat_minor": 5
}
