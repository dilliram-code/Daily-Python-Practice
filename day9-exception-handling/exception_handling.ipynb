{
 "cells": [
  {
   "cell_type": "code",
   "execution_count": 4,
   "id": "7524692a",
   "metadata": {},
   "outputs": [
    {
     "name": "stdout",
     "output_type": "stream",
     "text": [
      "Error: Cannot divide by zero.\n"
     ]
    }
   ],
   "source": [
    "# try..except\n",
    "\n",
    "try:\n",
    "  x = int(input(\"Enter the first number:\"))\n",
    "  y = int(input(\"Enter the second number:\"))\n",
    "  result = x/y\n",
    "  print(f\"Result: {result}\")\n",
    "except ZeroDivisionError:\n",
    "  print(\"Error: Cannot divide by zero.\")\n",
    "except ValueError:\n",
    "  print(\"Error: Please enter numbers!\")"
   ]
  },
  {
   "cell_type": "code",
   "execution_count": 3,
   "id": "501e6f5b",
   "metadata": {},
   "outputs": [],
   "source": [
    "# Explanation:\n",
    "# Code that may fail goes inside the try block.\n",
    "# except catches specific errors.\n",
    "# Execution continues after handling the exception."
   ]
  },
  {
   "cell_type": "code",
   "execution_count": 5,
   "id": "371d7fe8",
   "metadata": {},
   "outputs": [
    {
     "name": "stdout",
     "output_type": "stream",
     "text": [
      "Error occurred: invalid literal for int() with base 10: 'a'\n"
     ]
    }
   ],
   "source": [
    "# Catching multiple exceptions\n",
    "try:\n",
    "  firstNumber = int(input(\"Enter the first number:\"))\n",
    "  secondNumber = int(input(\"Enter the second number:\"))\n",
    "  result = firstNumber/secondNumber\n",
    "  print(f\"Result: {result}\")\n",
    "except (ZeroDivisionError, ValueError) as e:\n",
    "  print(\"Error occurred:\",e)"
   ]
  },
  {
   "cell_type": "code",
   "execution_count": null,
   "id": "40f72548",
   "metadata": {},
   "outputs": [],
   "source": [
    "# Using a tuple in except handles multiple exception types."
   ]
  },
  {
   "cell_type": "code",
   "execution_count": null,
   "id": "ecccbb1d",
   "metadata": {},
   "outputs": [
    {
     "name": "stdout",
     "output_type": "stream",
     "text": [
      "Something went wrong: division by zero\n"
     ]
    }
   ],
   "source": [
    "# Catch all exceptions\n",
    "try:\n",
    "  result = 10/0\n",
    "  print(f\"Result: {result}\")\n",
    "except Exception as e:\n",
    "  print(\"Something went wrong:\", e)"
   ]
  },
  {
   "cell_type": "code",
   "execution_count": null,
   "id": "10c1ef9c",
   "metadata": {},
   "outputs": [],
   "source": [
    "# Exception is the base class for most built-in exceptions.\n",
    "# Use carefully — catching all exceptions can hide bugs."
   ]
  },
  {
   "cell_type": "code",
   "execution_count": 7,
   "id": "ba2eebf4",
   "metadata": {},
   "outputs": [
    {
     "name": "stdout",
     "output_type": "stream",
     "text": [
      "You entered: 3\n"
     ]
    }
   ],
   "source": [
    "# try, except and else\n",
    "try:\n",
    "  input_number = int(input(\"Enter a number:\"))\n",
    "except ValueError:\n",
    "  print(\"Invalide input!\")\n",
    "else:\n",
    "  print(\"You entered:\", input_number)"
   ]
  },
  {
   "cell_type": "code",
   "execution_count": null,
   "id": "cf5e5118",
   "metadata": {},
   "outputs": [],
   "source": [
    "# else: Runs only if no exception occurs in the try block."
   ]
  },
  {
   "cell_type": "code",
   "execution_count": 15,
   "id": "34f9e9a5",
   "metadata": {},
   "outputs": [
    {
     "name": "stdout",
     "output_type": "stream",
     "text": [
      "Error: File not found\n",
      "This has to be printed any way!\n"
     ]
    }
   ],
   "source": [
    "# try, else and finally\n",
    "try:\n",
    "    f = open(\"filename.txt\", \"r\")\n",
    "    line = f.read()\n",
    "except FileNotFoundError:\n",
    "  print(\"Error: File not found\")\n",
    "except NameError as e:\n",
    "  print(\"Error: \", e)\n",
    "finally:\n",
    "  print(\"This has to be printed any way!\")\n",
    "  # f.close()"
   ]
  },
  {
   "cell_type": "code",
   "execution_count": 11,
   "id": "3f0bc36f",
   "metadata": {},
   "outputs": [],
   "source": [
    "# finally:\n",
    "# Runs no matter what, whether an exception occurred or not.\n",
    "# Useful for cleanup, like closing files or releasing resources."
   ]
  },
  {
   "cell_type": "code",
   "execution_count": 4,
   "id": "b3bf0824",
   "metadata": {},
   "outputs": [
    {
     "name": "stdout",
     "output_type": "stream",
     "text": [
      "9\n"
     ]
    }
   ],
   "source": [
    "# raise an exception\n",
    "def add_positive_numbers(first,second):\n",
    "  if first < 0 or second <0:\n",
    "    raise ValueError(\"Entered number is negative.\")\n",
    "  addition = first + second\n",
    "  return addition\n",
    "try:\n",
    "  print(add_positive_numbers(4, 5))\n",
    "except ValueError as e:\n",
    "  print(\"Caught an error: \", e)"
   ]
  },
  {
   "cell_type": "code",
   "execution_count": null,
   "id": "e35da30e",
   "metadata": {},
   "outputs": [],
   "source": [
    "# Sometimes you want to force an exception if a condition occurs. Use raise.\n",
    "# raise can be used with built-in exceptions or custom exceptions."
   ]
  },
  {
   "cell_type": "code",
   "execution_count": 5,
   "id": "994e2ad4",
   "metadata": {},
   "outputs": [
    {
     "name": "stdout",
     "output_type": "stream",
     "text": [
      "Caught an error:  Can not take negative number.\n"
     ]
    }
   ],
   "source": [
    "# custom exception\n",
    "class NegativeNumberException(Exception):\n",
    "  pass\n",
    "\n",
    "def input_number(x):\n",
    "  if x < 0:\n",
    "    raise NegativeNumberException(\"Can not take negative number.\")\n",
    "  return print(\"The entered number is: \", x)\n",
    "try: \n",
    "  input_number(-3)\n",
    "except NegativeNumberException as e:\n",
    "  print(\"Caught an error: \", e)"
   ]
  },
  {
   "cell_type": "code",
   "execution_count": null,
   "id": "3a22c339",
   "metadata": {},
   "outputs": [],
   "source": [
    "# This helps in domain-specific error handling."
   ]
  },
  {
   "cell_type": "code",
   "execution_count": 6,
   "id": "7be811a9",
   "metadata": {},
   "outputs": [
    {
     "name": "stdout",
     "output_type": "stream",
     "text": [
      "Caught in the second function: division by zero\n"
     ]
    }
   ],
   "source": [
    "# exception in function\n",
    "def first():\n",
    "  return 10/0\n",
    "def second():\n",
    "  try:  \n",
    "    first()\n",
    "  except ZeroDivisionError as e:\n",
    "    print(\"Caught in the second function:\", e)\n",
    "\n",
    "second()\n",
    "  "
   ]
  },
  {
   "cell_type": "code",
   "execution_count": 8,
   "id": "c2af1da4",
   "metadata": {},
   "outputs": [],
   "source": [
    "# Exceptions propagate to the calling function if not handled.\n"
   ]
  },
  {
   "cell_type": "code",
   "execution_count": 12,
   "id": "d051c7b9",
   "metadata": {},
   "outputs": [
    {
     "name": "stdout",
     "output_type": "stream",
     "text": [
      "Type: <class 'ValueError'>\n",
      "Args: (\"invalid literal for int() with base 10: 'abc'\",)\n",
      "Message: invalid literal for int() with base 10: 'abc'\n"
     ]
    }
   ],
   "source": [
    "# Using exception attributes\n",
    "try:\n",
    "  store_number = int(input(\"Enter a number:\"))\n",
    "  print(\"Your number is: \", store_number)\n",
    "except ValueError as e:\n",
    "  print(\"Type:\",type(e))\n",
    "  print(\"Args:\", e.args)\n",
    "  print(\"Message:\", e)"
   ]
  },
  {
   "cell_type": "code",
   "execution_count": null,
   "id": "f8623214",
   "metadata": {},
   "outputs": [],
   "source": [
    "# Log exception\n",
    "import logging\n",
    "logging.basicConfig(filename=\"app.log\", level=logging.ERROR)\n",
    "try:\n",
    "    10 / 0\n",
    "except Exception as e:\n",
    "    logging.error(\"Exception occurred\", exc_info=True)"
   ]
  },
  {
   "cell_type": "markdown",
   "id": "92b846ca",
   "metadata": {},
   "source": [
    "**Mini-Project: Number File Handling and Division**\n",
    "***Project Overview***\n",
    "\n",
    "`This Python mini-project demonstrates file handling, user input, data reading, and processing.\n",
    "The program allows the user to enter four numbers, saves them to a file, reads the numbers back, and then divides each number by the next one in the list.`\n",
    "\n",
    "- It introduces concepts like:\n",
    "- Writing to a file (``w and a modes``)\n",
    "- Reading from a file (``r mode``)\n",
    "- Using lists to store and process data\n",
    "- Handling numeric operations\n",
    "- Modular programming with functions"
   ]
  },
  {
   "cell_type": "code",
   "execution_count": 25,
   "id": "ac650ced",
   "metadata": {},
   "outputs": [
    {
     "name": "stdout",
     "output_type": "stream",
     "text": [
      "Your input numbers are:  ['1000', '2000', '3000', '4000']\n",
      "Final result is:  [0.5, 0.6666666666666666, 0.75]\n"
     ]
    }
   ],
   "source": [
    "# Advanced Use case (A Mini Project)\n",
    "def file_creater():\n",
    "  num1 = (input(\"Enter the first number:\")).strip()\n",
    "  num2 = (input(\"Enter the second number:\")).strip()\n",
    "  num3 = (input(\"Enter the third number:\")).strip()\n",
    "  num4 = (input(\"Enter the fourth number:\")).strip()\n",
    "  with open(\"number_file.txt\", \"w\") as f:\n",
    "    f.write(str(num1 + \"\\n\"))\n",
    "  with open(\"number_file.txt\", \"a\") as f:\n",
    "    for num in [num2, num3, num4]:\n",
    "      f.write(str(num + \"\\n\"))\n",
    "  return \"number_file.txt\"\n",
    "ready_file = file_creater()\n",
    "  \n",
    "  \n",
    "def file_reader(file):\n",
    "  with open(file, \"r\") as f:\n",
    "    numbers = [line.strip() for line in f]\n",
    "  try:\n",
    "    return numbers\n",
    "  except ValueError:\n",
    "    print(\"Invalid input!\")\n",
    "    return []\n",
    "  except FileNotFoundError:\n",
    "    print(\"File not found!\")\n",
    "    return []\n",
    "  \n",
    "# file = \"number_file.txt\"\n",
    "number_list = file_reader(ready_file)\n",
    "print(\"Your input numbers are: \", number_list)\n",
    "\n",
    "def number_selectors(numbers):\n",
    "  result = []\n",
    "  for i in range(len(numbers)-1):\n",
    "    number = int(numbers[i])/int(numbers[i+1])\n",
    "    result.append(number)\n",
    "  return result\n",
    "final_list = number_selectors(number_list)\n",
    "print(\"Final result is: \",final_list)"
   ]
  },
  {
   "cell_type": "markdown",
   "id": "d53fbb11",
   "metadata": {},
   "source": [
    "***I can also improve your mini-project by:***\n",
    "\n",
    "- Handling division by zero\n",
    "- Allowing the user to append more numbers later\n",
    "- Returning float results with rounding for cleaner output\n",
    "- Do you want me to do that?"
   ]
  },
  {
   "cell_type": "code",
   "execution_count": null,
   "id": "2421e846",
   "metadata": {},
   "outputs": [],
   "source": [
    "# Best Practices:\n",
    "\n",
    "# Catch specific exceptions, not all.\n",
    "# Use finally to release resources.\n",
    "# Don’t use exceptions for regular control flow.\n",
    "# Always provide useful error messages.\n",
    "# Log exceptions for debugging instead of printing in production."
   ]
  },
  {
   "cell_type": "code",
   "execution_count": null,
   "id": "c30e93ce",
   "metadata": {},
   "outputs": [],
   "source": [
    "# Summary Workflow Diagram\n",
    "'''\n",
    "\ttry:\n",
    "\t\t\t# Code that may fail\n",
    "\texcept SpecificException1:\n",
    "\t\t\t# Handle specific exception\n",
    "\texcept SpecificException2:\n",
    "\t\t\t# Handle another exception\n",
    "\telse:\n",
    "\t\t\t# Runs if no exception occurs\n",
    "\tfinally:\n",
    "\t\t\t# Runs always, for cleanup\n",
    "'''"
   ]
  },
  {
   "cell_type": "code",
   "execution_count": null,
   "id": "1d3276d7",
   "metadata": {},
   "outputs": [],
   "source": []
  }
 ],
 "metadata": {
  "kernelspec": {
   "display_name": "base",
   "language": "python",
   "name": "python3"
  },
  "language_info": {
   "codemirror_mode": {
    "name": "ipython",
    "version": 3
   },
   "file_extension": ".py",
   "mimetype": "text/x-python",
   "name": "python",
   "nbconvert_exporter": "python",
   "pygments_lexer": "ipython3",
   "version": "3.10.14"
  }
 },
 "nbformat": 4,
 "nbformat_minor": 5
}
