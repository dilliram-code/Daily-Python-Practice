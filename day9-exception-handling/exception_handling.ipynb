{
 "cells": [
  {
   "cell_type": "code",
   "execution_count": 4,
   "id": "7524692a",
   "metadata": {},
   "outputs": [
    {
     "name": "stdout",
     "output_type": "stream",
     "text": [
      "Error: Cannot divide by zero.\n"
     ]
    }
   ],
   "source": [
    "# try..except\n",
    "\n",
    "try:\n",
    "  x = int(input(\"Enter the first number:\"))\n",
    "  y = int(input(\"Enter the second number:\"))\n",
    "  result = x/y\n",
    "  print(f\"Result: {result}\")\n",
    "except ZeroDivisionError:\n",
    "  print(\"Error: Cannot divide by zero.\")\n",
    "except ValueError:\n",
    "  print(\"Error: Please enter numbers!\")"
   ]
  },
  {
   "cell_type": "code",
   "execution_count": 3,
   "id": "501e6f5b",
   "metadata": {},
   "outputs": [],
   "source": [
    "# Explanation:\n",
    "# Code that may fail goes inside the try block.\n",
    "# except catches specific errors.\n",
    "# Execution continues after handling the exception."
   ]
  },
  {
   "cell_type": "code",
   "execution_count": 5,
   "id": "371d7fe8",
   "metadata": {},
   "outputs": [
    {
     "name": "stdout",
     "output_type": "stream",
     "text": [
      "Error occurred: invalid literal for int() with base 10: 'a'\n"
     ]
    }
   ],
   "source": [
    "# Catching multiple exceptions\n",
    "try:\n",
    "  firstNumber = int(input(\"Enter the first number:\"))\n",
    "  secondNumber = int(input(\"Enter the second number:\"))\n",
    "  result = firstNumber/secondNumber\n",
    "  print(f\"Result: {result}\")\n",
    "except (ZeroDivisionError, ValueError) as e:\n",
    "  print(\"Error occurred:\",e)"
   ]
  },
  {
   "cell_type": "code",
   "execution_count": null,
   "id": "40f72548",
   "metadata": {},
   "outputs": [],
   "source": [
    "# Using a tuple in except handles multiple exception types."
   ]
  },
  {
   "cell_type": "code",
   "execution_count": 6,
   "id": "ecccbb1d",
   "metadata": {},
   "outputs": [
    {
     "name": "stdout",
     "output_type": "stream",
     "text": [
      "Something went wrong: division by zero\n"
     ]
    }
   ],
   "source": [
    "# Catch all exceptions\n",
    "try:\n",
    "  result = 10/0\n",
    "  print(f\"Result {result}\")\n",
    "except Exception as e:\n",
    "  print(\"Something went wrong:\", e)"
   ]
  },
  {
   "cell_type": "code",
   "execution_count": null,
   "id": "10c1ef9c",
   "metadata": {},
   "outputs": [],
   "source": []
  }
 ],
 "metadata": {
  "kernelspec": {
   "display_name": "base",
   "language": "python",
   "name": "python3"
  },
  "language_info": {
   "codemirror_mode": {
    "name": "ipython",
    "version": 3
   },
   "file_extension": ".py",
   "mimetype": "text/x-python",
   "name": "python",
   "nbconvert_exporter": "python",
   "pygments_lexer": "ipython3",
   "version": "3.10.14"
  }
 },
 "nbformat": 4,
 "nbformat_minor": 5
}
